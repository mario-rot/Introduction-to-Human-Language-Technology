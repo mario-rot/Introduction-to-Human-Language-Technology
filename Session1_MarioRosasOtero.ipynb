{
  "nbformat": 4,
  "nbformat_minor": 0,
  "metadata": {
    "colab": {
      "provenance": [],
      "collapsed_sections": [],
      "include_colab_link": true
    },
    "kernelspec": {
      "name": "python3",
      "display_name": "Python 3"
    },
    "language_info": {
      "name": "python"
    }
  },
  "cells": [
    {
      "cell_type": "markdown",
      "metadata": {
        "id": "view-in-github",
        "colab_type": "text"
      },
      "source": [
        "<a href=\"https://colab.research.google.com/github/mario-rot/Introduction-to-Human-Language-Technology/blob/main/Session1_MarioRosasOtero.ipynb\" target=\"_parent\"><img src=\"https://colab.research.google.com/assets/colab-badge.svg\" alt=\"Open In Colab\"/></a>"
      ]
    },
    {
      "cell_type": "markdown",
      "source": [
        "# Lab session 1 (framework) - ILTH \n",
        "**Student:** Mario Rosas Otero\n",
        "\n",
        "**Professor:** Jordi Turmo Borrás"
      ],
      "metadata": {
        "id": "mUSKNvtGzrmv"
      }
    },
    {
      "cell_type": "code",
      "execution_count": 1,
      "metadata": {
        "id": "t3H-4vPY3di4",
        "colab": {
          "base_uri": "https://localhost:8080/"
        },
        "outputId": "487bf3ff-e634-44e7-91f1-9230ee24b729"
      },
      "outputs": [
        {
          "output_type": "stream",
          "name": "stderr",
          "text": [
            "[nltk_data] Downloading package gutenberg to /root/nltk_data...\n",
            "[nltk_data]   Unzipping corpora/gutenberg.zip.\n",
            "[nltk_data] Downloading package stopwords to /root/nltk_data...\n",
            "[nltk_data]   Unzipping corpora/stopwords.zip.\n"
          ]
        },
        {
          "output_type": "execute_result",
          "data": {
            "text/plain": [
              "True"
            ]
          },
          "metadata": {},
          "execution_count": 1
        }
      ],
      "source": [
        "import string\n",
        "import collections\n",
        "import nltk\n",
        "from nltk.corpus import gutenberg\n",
        "from nltk.text import Text\n",
        "nltk.download('gutenberg')\n",
        "nltk.download('stopwords')"
      ]
    },
    {
      "cell_type": "code",
      "source": [
        "def clean_from_poem(corpus, stopwords, minwords_len, signs):\n",
        "   corpus = [word.lower() for word in corpus]\n",
        "   corpus = [word for word in corpus if word not in stopwords]\n",
        "   corpus = [word for word in corpus if len(word) > minwords_len]\n",
        "   corpus = [word for word in corpus if not any(caracter in signs for caracter in word)]\n",
        "   return corpus"
      ],
      "metadata": {
        "id": "Sthz93HfrS26"
      },
      "execution_count": 2,
      "outputs": []
    },
    {
      "cell_type": "code",
      "source": [
        "corpus = list(gutenberg.words('blake-poems.txt'))\n",
        "stopwords=set(nltk.corpus.stopwords.words('english'))\n",
        "signs = string.punctuation\n",
        "minwords_len = 2"
      ],
      "metadata": {
        "id": "gFcAPgAI_LT7"
      },
      "execution_count": 3,
      "outputs": []
    },
    {
      "cell_type": "code",
      "source": [
        " corpus_cleaned = clean_from_poem(corpus,stopwords,minwords_len, signs)"
      ],
      "metadata": {
        "id": "F2Xdw68Ep2OM"
      },
      "execution_count": 4,
      "outputs": []
    },
    {
      "cell_type": "code",
      "source": [
        "frequency = collections.Counter(corpus_cleaned)\n",
        "print('Top 25 words in Blake Poems: \\n')\n",
        "for i, (k,v) in enumerate(frequency.most_common()):\n",
        "  if i == 25:\n",
        "    break\n",
        "  print('word: {} ---- freq: {}'.format(k,v))\n"
      ],
      "metadata": {
        "colab": {
          "base_uri": "https://localhost:8080/"
        },
        "id": "gE2Ey6eAqavJ",
        "outputId": "9a1815f9-316f-40f5-b2d1-a7e5f5f167a9"
      },
      "execution_count": 5,
      "outputs": [
        {
          "output_type": "stream",
          "name": "stdout",
          "text": [
            "Top 25 words in Blake Poems: \n",
            "\n",
            "word: little ---- freq: 45\n",
            "word: thee ---- freq: 42\n",
            "word: like ---- freq: 35\n",
            "word: thou ---- freq: 35\n",
            "word: thy ---- freq: 31\n",
            "word: love ---- freq: 29\n",
            "word: sweet ---- freq: 28\n",
            "word: night ---- freq: 28\n",
            "word: joy ---- freq: 25\n",
            "word: away ---- freq: 24\n",
            "word: weep ---- freq: 24\n",
            "word: father ---- freq: 22\n",
            "word: sleep ---- freq: 21\n",
            "word: happy ---- freq: 19\n",
            "word: shall ---- freq: 19\n",
            "word: day ---- freq: 19\n",
            "word: mother ---- freq: 19\n",
            "word: child ---- freq: 18\n",
            "word: every ---- freq: 17\n",
            "word: never ---- freq: 17\n",
            "word: thel ---- freq: 16\n",
            "word: hear ---- freq: 16\n",
            "word: green ---- freq: 16\n",
            "word: voice ---- freq: 16\n",
            "word: infant ---- freq: 16\n"
          ]
        }
      ]
    },
    {
      "cell_type": "markdown",
      "source": [
        "#Conclusion\n",
        "\n",
        "* According to the objective of the practice, the characters that are not important for the general understanding of Blake's poem were eliminated. In particular, the text was cleaned by eliminating short words, stopwords and punctuation marks. With this cleaning it is possible to leave the words that most help to understand the meaning of the poem and facilitate further analysis.\n"
      ],
      "metadata": {
        "id": "M6JI3KB1ekRe"
      }
    }
  ]
}