{
  "cells": [
    {
      "cell_type": "markdown",
      "metadata": {
        "colab_type": "text",
        "id": "view-in-github"
      },
      "source": [
        "<a href=\"https://colab.research.google.com/github/mario-rot/Introduction-to-Human-Language-Technology/blob/main/Session1_MarioRosasOtero.ipynb\" target=\"_parent\"><img src=\"https://colab.research.google.com/assets/colab-badge.svg\" alt=\"Open In Colab\"/></a>"
      ]
    },
    {
      "cell_type": "markdown",
      "metadata": {
        "id": "mUSKNvtGzrmv"
      },
      "source": [
        "# Lab session 1 (framework) - ILTH \n",
        "**Student:** Mario Rosas Otero\n",
        "\n",
        "**Professor:** Jordi Turmo Borrás"
      ]
    },
    {
      "cell_type": "code",
      "execution_count": 1,
      "metadata": {
        "colab": {
          "base_uri": "https://localhost:8080/"
        },
        "id": "t3H-4vPY3di4",
        "outputId": "487bf3ff-e634-44e7-91f1-9230ee24b729"
      },
      "outputs": [
        {
          "name": "stderr",
          "output_type": "stream",
          "text": [
            "[nltk_data] Downloading package gutenberg to\n",
            "[nltk_data]     C:\\Users\\mario\\AppData\\Roaming\\nltk_data...\n",
            "[nltk_data]   Package gutenberg is already up-to-date!\n",
            "[nltk_data] Downloading package stopwords to\n",
            "[nltk_data]     C:\\Users\\mario\\AppData\\Roaming\\nltk_data...\n",
            "[nltk_data]   Package stopwords is already up-to-date!\n"
          ]
        },
        {
          "data": {
            "text/plain": [
              "True"
            ]
          },
          "execution_count": 1,
          "metadata": {},
          "output_type": "execute_result"
        }
      ],
      "source": [
        "import string\n",
        "import collections\n",
        "import nltk\n",
        "from nltk.corpus import gutenberg\n",
        "from nltk.text import Text\n",
        "nltk.download('gutenberg')\n",
        "nltk.download('stopwords')"
      ]
    },
    {
      "cell_type": "code",
      "execution_count": 2,
      "metadata": {
        "id": "Sthz93HfrS26"
      },
      "outputs": [],
      "source": [
        "def clean_from_poem(corpus, stopwords, minwords_len, signs):\n",
        "   corpus = [word.lower() for word in corpus]\n",
        "   corpus = [word for word in corpus if word not in stopwords]\n",
        "   corpus = [word for word in corpus if len(word) > minwords_len]\n",
        "   corpus = [word for word in corpus if not any(caracter in signs for caracter in word)]\n",
        "   return corpus"
      ]
    },
    {
      "cell_type": "code",
      "execution_count": 3,
      "metadata": {
        "id": "gFcAPgAI_LT7"
      },
      "outputs": [],
      "source": [
        "corpus = list(gutenberg.words('blake-poems.txt'))\n",
        "stopwords=set(nltk.corpus.stopwords.words('english'))\n",
        "signs = string.punctuation\n",
        "minwords_len = 2"
      ]
    },
    {
      "cell_type": "code",
      "execution_count": 4,
      "metadata": {
        "id": "F2Xdw68Ep2OM"
      },
      "outputs": [],
      "source": [
        " corpus_cleaned = clean_from_poem(corpus,stopwords,minwords_len, signs)"
      ]
    },
    {
      "cell_type": "code",
      "execution_count": 5,
      "metadata": {
        "colab": {
          "base_uri": "https://localhost:8080/"
        },
        "id": "gE2Ey6eAqavJ",
        "outputId": "9a1815f9-316f-40f5-b2d1-a7e5f5f167a9"
      },
      "outputs": [
        {
          "name": "stdout",
          "output_type": "stream",
          "text": [
            "Top 25 words in Blake Poems: \n",
            "\n",
            "word: little ---- freq: 45\n",
            "word: thee ---- freq: 42\n",
            "word: like ---- freq: 35\n",
            "word: thou ---- freq: 35\n",
            "word: thy ---- freq: 31\n",
            "word: love ---- freq: 29\n",
            "word: sweet ---- freq: 28\n",
            "word: night ---- freq: 28\n",
            "word: joy ---- freq: 25\n",
            "word: away ---- freq: 24\n",
            "word: weep ---- freq: 24\n",
            "word: father ---- freq: 22\n",
            "word: sleep ---- freq: 21\n",
            "word: happy ---- freq: 19\n",
            "word: shall ---- freq: 19\n",
            "word: day ---- freq: 19\n",
            "word: mother ---- freq: 19\n",
            "word: child ---- freq: 18\n",
            "word: every ---- freq: 17\n",
            "word: never ---- freq: 17\n",
            "word: thel ---- freq: 16\n",
            "word: hear ---- freq: 16\n",
            "word: green ---- freq: 16\n",
            "word: voice ---- freq: 16\n",
            "word: infant ---- freq: 16\n"
          ]
        }
      ],
      "source": [
        "frequency = collections.Counter(corpus_cleaned)\n",
        "print('Top 25 words in Blake Poems: \\n')\n",
        "for i, (k,v) in enumerate(frequency.most_common()):\n",
        "  if i == 25:\n",
        "    break\n",
        "  print('word: {} ---- freq: {}'.format(k,v))\n"
      ]
    },
    {
      "cell_type": "markdown",
      "metadata": {
        "id": "M6JI3KB1ekRe"
      },
      "source": [
        "# Conclusion\n",
        "\n",
        "* According to the objective of the practice, the characters that are not important for the general understanding of Blake's poem were eliminated. In particular, the text was cleaned by eliminating short words, stopwords and punctuation marks. With this cleaning it is possible to leave the words that most help to understand the meaning of the poem and facilitate further analysis.\n"
      ]
    }
  ],
  "metadata": {
    "colab": {
      "collapsed_sections": [],
      "include_colab_link": true,
      "provenance": []
    },
    "kernelspec": {
      "display_name": "Python 3.9.13 ('IHLT')",
      "language": "python",
      "name": "python3"
    },
    "language_info": {
      "codemirror_mode": {
        "name": "ipython",
        "version": 3
      },
      "file_extension": ".py",
      "mimetype": "text/x-python",
      "name": "python",
      "nbconvert_exporter": "python",
      "pygments_lexer": "ipython3",
      "version": "3.9.13"
    },
    "vscode": {
      "interpreter": {
        "hash": "0795eca24a98e58b2dcbec80c9554a91f94c5c7d4e675f06c8c2f85c434623a5"
      }
    }
  },
  "nbformat": 4,
  "nbformat_minor": 0
}
