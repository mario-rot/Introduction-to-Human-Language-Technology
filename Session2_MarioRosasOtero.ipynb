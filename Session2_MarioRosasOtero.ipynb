{
 "nbformat": 4,
 "nbformat_minor": 0,
 "metadata": {
  "colab": {
   "provenance": [],
   "collapsed_sections": []
  },
  "kernelspec": {
   "name": "python3",
   "display_name": "Python 3"
  },
  "language_info": {
   "name": "python"
  }
 },
 "cells": [
  {
   "cell_type": "markdown",
   "source": [
    "# Lab session 2 (Document structure) - ILTH\n",
    "\n",
    "**Student:** Mario Rosas Otero"
   ],
   "metadata": {
    "id": "LpEp-jhafvsx"
   }
  },
  {
   "cell_type": "markdown",
   "metadata": {
    "id": "l0LXucmalIYk"
   },
   "source": [
    "## Paraphrases Template"
   ]
  },
  {
   "cell_type": "code",
   "source": [
    "# importing the \"tarfile\" module\n",
    "# import tarfile\n",
    "#\n",
    "# # open file\n",
    "# file = tarfile.open('../Complementary Material/test-gold.tgz')\n",
    "#\n",
    "# # extracting file\n",
    "# file.extractall('../Complementary Material/')\n",
    "#\n",
    "# file.close()\n"
   ],
   "metadata": {
    "id": "yeQ11CQB4e3o"
   },
   "execution_count": 1,
   "outputs": []
  },
  {
   "cell_type": "code",
   "metadata": {
    "id": "Mi9UgnrHx1NN"
   },
   "source": [
    "import pandas as pd"
   ],
   "execution_count": 2,
   "outputs": []
  },
  {
   "cell_type": "code",
   "metadata": {
    "id": "fx90zvqXx5eA"
   },
   "source": [
    "dt = pd.read_csv('Complementary Material/test-gold/STS.input.SMTeuroparl.txt',sep='\\t',header=None)"
   ],
   "execution_count": 3,
   "outputs": []
  },
  {
   "cell_type": "code",
   "metadata": {
    "id": "0veZLO1xmGCD",
    "outputId": "634094b3-7071-4495-d7e0-80f5b5850b1f",
    "colab": {
     "base_uri": "https://localhost:8080/",
     "height": 206
    }
   },
   "source": [
    "dt.head()"
   ],
   "execution_count": 4,
   "outputs": [
    {
     "data": {
      "text/plain": "                                                   0  \\\n0  The leaders have now been given a new chance a...   \n1  Amendment No 7 proposes certain changes in the...   \n2  Let me remind you that our allies include ferv...   \n3        The vote will take place today at 5.30 p.m.   \n4  The fishermen are inactive, tired and disappoi...   \n\n                                                   1  \n0  The leaders benefit aujourd' hui of a new luck...  \n1  Amendment No 7 is proposing certain changes in...  \n2  I would like to remind you that among our alli...  \n3                 The vote will take place at 5.30pm  \n4  The fishermen are inactive, tired and disappoi...  ",
      "text/html": "<div>\n<style scoped>\n    .dataframe tbody tr th:only-of-type {\n        vertical-align: middle;\n    }\n\n    .dataframe tbody tr th {\n        vertical-align: top;\n    }\n\n    .dataframe thead th {\n        text-align: right;\n    }\n</style>\n<table border=\"1\" class=\"dataframe\">\n  <thead>\n    <tr style=\"text-align: right;\">\n      <th></th>\n      <th>0</th>\n      <th>1</th>\n    </tr>\n  </thead>\n  <tbody>\n    <tr>\n      <th>0</th>\n      <td>The leaders have now been given a new chance a...</td>\n      <td>The leaders benefit aujourd' hui of a new luck...</td>\n    </tr>\n    <tr>\n      <th>1</th>\n      <td>Amendment No 7 proposes certain changes in the...</td>\n      <td>Amendment No 7 is proposing certain changes in...</td>\n    </tr>\n    <tr>\n      <th>2</th>\n      <td>Let me remind you that our allies include ferv...</td>\n      <td>I would like to remind you that among our alli...</td>\n    </tr>\n    <tr>\n      <th>3</th>\n      <td>The vote will take place today at 5.30 p.m.</td>\n      <td>The vote will take place at 5.30pm</td>\n    </tr>\n    <tr>\n      <th>4</th>\n      <td>The fishermen are inactive, tired and disappoi...</td>\n      <td>The fishermen are inactive, tired and disappoi...</td>\n    </tr>\n  </tbody>\n</table>\n</div>"
     },
     "execution_count": 4,
     "metadata": {},
     "output_type": "execute_result"
    }
   ]
  },
  {
   "cell_type": "code",
   "metadata": {
    "id": "4xWDSCAD0mZ_"
   },
   "source": [
    "dt['gs'] = pd.read_csv('Complementary Material/test-gold/STS.gs.SMTeuroparl.txt',sep='\\t',header=None)"
   ],
   "execution_count": 5,
   "outputs": []
  },
  {
   "cell_type": "code",
   "metadata": {
    "colab": {
     "base_uri": "https://localhost:8080/"
    },
    "id": "_cLYgKtW0cL-",
    "outputId": "3aeee813-adb2-4285-a512-323478aba35b"
   },
   "source": [
    "dt.shape"
   ],
   "execution_count": 6,
   "outputs": [
    {
     "data": {
      "text/plain": "(459, 3)"
     },
     "execution_count": 6,
     "metadata": {},
     "output_type": "execute_result"
    }
   ]
  },
  {
   "cell_type": "code",
   "metadata": {
    "colab": {
     "base_uri": "https://localhost:8080/",
     "height": 206
    },
    "id": "rDhoyDeY0Xpv",
    "outputId": "0e7e8ffa-08d7-4145-e189-9df3cccdfdcb"
   },
   "source": [
    "dt.head()"
   ],
   "execution_count": 7,
   "outputs": [
    {
     "data": {
      "text/plain": "                                                   0  \\\n0  The leaders have now been given a new chance a...   \n1  Amendment No 7 proposes certain changes in the...   \n2  Let me remind you that our allies include ferv...   \n3        The vote will take place today at 5.30 p.m.   \n4  The fishermen are inactive, tired and disappoi...   \n\n                                                   1    gs  \n0  The leaders benefit aujourd' hui of a new luck...  4.50  \n1  Amendment No 7 is proposing certain changes in...  5.00  \n2  I would like to remind you that among our alli...  4.25  \n3                 The vote will take place at 5.30pm  4.50  \n4  The fishermen are inactive, tired and disappoi...  5.00  ",
      "text/html": "<div>\n<style scoped>\n    .dataframe tbody tr th:only-of-type {\n        vertical-align: middle;\n    }\n\n    .dataframe tbody tr th {\n        vertical-align: top;\n    }\n\n    .dataframe thead th {\n        text-align: right;\n    }\n</style>\n<table border=\"1\" class=\"dataframe\">\n  <thead>\n    <tr style=\"text-align: right;\">\n      <th></th>\n      <th>0</th>\n      <th>1</th>\n      <th>gs</th>\n    </tr>\n  </thead>\n  <tbody>\n    <tr>\n      <th>0</th>\n      <td>The leaders have now been given a new chance a...</td>\n      <td>The leaders benefit aujourd' hui of a new luck...</td>\n      <td>4.50</td>\n    </tr>\n    <tr>\n      <th>1</th>\n      <td>Amendment No 7 proposes certain changes in the...</td>\n      <td>Amendment No 7 is proposing certain changes in...</td>\n      <td>5.00</td>\n    </tr>\n    <tr>\n      <th>2</th>\n      <td>Let me remind you that our allies include ferv...</td>\n      <td>I would like to remind you that among our alli...</td>\n      <td>4.25</td>\n    </tr>\n    <tr>\n      <th>3</th>\n      <td>The vote will take place today at 5.30 p.m.</td>\n      <td>The vote will take place at 5.30pm</td>\n      <td>4.50</td>\n    </tr>\n    <tr>\n      <th>4</th>\n      <td>The fishermen are inactive, tired and disappoi...</td>\n      <td>The fishermen are inactive, tired and disappoi...</td>\n      <td>5.00</td>\n    </tr>\n  </tbody>\n</table>\n</div>"
     },
     "execution_count": 7,
     "metadata": {},
     "output_type": "execute_result"
    }
   ]
  },
  {
   "cell_type": "markdown",
   "metadata": {
    "id": "6HHcaJhckB_Q"
   },
   "source": [
    "## TODO\n",
    "1. Compute the Jaccard similarity between every paraphrase and add a column *jaccard* to *dt* variable.\n",
    "2. Compute the pearson correlation as: <br>\n",
    "```\n",
    "from scipy.stats import pearsonr\n",
    "pearsonr(dt['gs'], dt['jaccard'])[0]\n",
    "```"
   ]
  },
  {
   "cell_type": "code",
   "source": [
    "from nltk.metrics import jaccard_distance\n",
    "import nltk\n",
    "nltk.download('punkt')\n",
    "from scipy.stats import pearsonr\n",
    "import numpy as np\n",
    "jaccard_distance(set(['The','eats','fish','.']),\n",
    "                 set(['The','eats','blue','fish','.']))"
   ],
   "metadata": {
    "colab": {
     "base_uri": "https://localhost:8080/"
    },
    "id": "Yi0VomaR6RKR",
    "outputId": "a88e0e66-b2bf-4b03-fca5-acb31c88d944"
   },
   "execution_count": 8,
   "outputs": [
    {
     "name": "stderr",
     "output_type": "stream",
     "text": [
      "[nltk_data] Downloading package punkt to\n",
      "[nltk_data]     C:\\Users\\mario\\AppData\\Roaming\\nltk_data...\n",
      "[nltk_data]   Package punkt is already up-to-date!\n"
     ]
    },
    {
     "data": {
      "text/plain": "0.2"
     },
     "execution_count": 8,
     "metadata": {},
     "output_type": "execute_result"
    }
   ]
  },
  {
   "cell_type": "code",
   "source": [
    "def compute_metric(metric, elements): # Fenction to calculate Jaccard Distance\n",
    "  if metric == 'jaccard':\n",
    "      res = jaccard_distance(set(nltk.word_tokenize(elements[0])),\n",
    "                             set(nltk.word_tokenize(elements[1])))\n",
    "  return res"
   ],
   "metadata": {
    "id": "TYColBS56ee3"
   },
   "execution_count": 9,
   "outputs": []
  },
  {
   "cell_type": "code",
   "source": [
    "dt['jaccard'] = \"\""
   ],
   "metadata": {
    "id": "5A-e0Eey8H8U"
   },
   "execution_count": 10,
   "outputs": []
  },
  {
   "cell_type": "code",
   "source": [
    "dt"
   ],
   "metadata": {
    "colab": {
     "base_uri": "https://localhost:8080/",
     "height": 424
    },
    "id": "8iUKadrbFTaJ",
    "outputId": "0f274084-43f5-440e-8fd3-17d3bd2cd153"
   },
   "execution_count": 11,
   "outputs": [
    {
     "data": {
      "text/plain": "                                                     0  \\\n0    The leaders have now been given a new chance a...   \n1    Amendment No 7 proposes certain changes in the...   \n2    Let me remind you that our allies include ferv...   \n3          The vote will take place today at 5.30 p.m.   \n4    The fishermen are inactive, tired and disappoi...   \n..                                                 ...   \n454  It is our job to continue to support Latvia wi...   \n455        The vote will take place today at 5.30 p.m.   \n456  Neither was there a qualified majority within ...   \n457  Let me remind you that our allies include ferv...   \n458  We often pontificate here about being the repr...   \n\n                                                     1     gs jaccard  \n0    The leaders benefit aujourd' hui of a new luck...  4.500          \n1    Amendment No 7 is proposing certain changes in...  5.000          \n2    I would like to remind you that among our alli...  4.250          \n3                   The vote will take place at 5.30pm  4.500          \n4    The fishermen are inactive, tired and disappoi...  5.000          \n..                                                 ...    ...     ...  \n454  It is of our duty of continue to support the c...  5.000          \n455                   Vote will take place at 17 h 30.  4.750          \n456  There was no qualified majority in this Parlia...  5.000          \n457  I hold you recall that our allies, there are e...  4.000          \n458  We often take pride here to represent the citi...  3.833          \n\n[459 rows x 4 columns]",
      "text/html": "<div>\n<style scoped>\n    .dataframe tbody tr th:only-of-type {\n        vertical-align: middle;\n    }\n\n    .dataframe tbody tr th {\n        vertical-align: top;\n    }\n\n    .dataframe thead th {\n        text-align: right;\n    }\n</style>\n<table border=\"1\" class=\"dataframe\">\n  <thead>\n    <tr style=\"text-align: right;\">\n      <th></th>\n      <th>0</th>\n      <th>1</th>\n      <th>gs</th>\n      <th>jaccard</th>\n    </tr>\n  </thead>\n  <tbody>\n    <tr>\n      <th>0</th>\n      <td>The leaders have now been given a new chance a...</td>\n      <td>The leaders benefit aujourd' hui of a new luck...</td>\n      <td>4.500</td>\n      <td></td>\n    </tr>\n    <tr>\n      <th>1</th>\n      <td>Amendment No 7 proposes certain changes in the...</td>\n      <td>Amendment No 7 is proposing certain changes in...</td>\n      <td>5.000</td>\n      <td></td>\n    </tr>\n    <tr>\n      <th>2</th>\n      <td>Let me remind you that our allies include ferv...</td>\n      <td>I would like to remind you that among our alli...</td>\n      <td>4.250</td>\n      <td></td>\n    </tr>\n    <tr>\n      <th>3</th>\n      <td>The vote will take place today at 5.30 p.m.</td>\n      <td>The vote will take place at 5.30pm</td>\n      <td>4.500</td>\n      <td></td>\n    </tr>\n    <tr>\n      <th>4</th>\n      <td>The fishermen are inactive, tired and disappoi...</td>\n      <td>The fishermen are inactive, tired and disappoi...</td>\n      <td>5.000</td>\n      <td></td>\n    </tr>\n    <tr>\n      <th>...</th>\n      <td>...</td>\n      <td>...</td>\n      <td>...</td>\n      <td>...</td>\n    </tr>\n    <tr>\n      <th>454</th>\n      <td>It is our job to continue to support Latvia wi...</td>\n      <td>It is of our duty of continue to support the c...</td>\n      <td>5.000</td>\n      <td></td>\n    </tr>\n    <tr>\n      <th>455</th>\n      <td>The vote will take place today at 5.30 p.m.</td>\n      <td>Vote will take place at 17 h 30.</td>\n      <td>4.750</td>\n      <td></td>\n    </tr>\n    <tr>\n      <th>456</th>\n      <td>Neither was there a qualified majority within ...</td>\n      <td>There was no qualified majority in this Parlia...</td>\n      <td>5.000</td>\n      <td></td>\n    </tr>\n    <tr>\n      <th>457</th>\n      <td>Let me remind you that our allies include ferv...</td>\n      <td>I hold you recall that our allies, there are e...</td>\n      <td>4.000</td>\n      <td></td>\n    </tr>\n    <tr>\n      <th>458</th>\n      <td>We often pontificate here about being the repr...</td>\n      <td>We often take pride here to represent the citi...</td>\n      <td>3.833</td>\n      <td></td>\n    </tr>\n  </tbody>\n</table>\n<p>459 rows × 4 columns</p>\n</div>"
     },
     "execution_count": 11,
     "metadata": {},
     "output_type": "execute_result"
    }
   ]
  },
  {
   "cell_type": "code",
   "source": [
    "for i in range(len(dt)): # Iterating to get Jaccard distances over each column of the dataframe\n",
    "  dt['jaccard'][i] = np.float64(compute_metric('jaccard',[dt.iloc[i][0],dt.iloc[i][1]]))*10"
   ],
   "metadata": {
    "colab": {
     "base_uri": "https://localhost:8080/"
    },
    "id": "EO9hPVN_6-B5",
    "outputId": "969216c9-6cfe-41ca-ff95-b0124949c926"
   },
   "execution_count": 12,
   "outputs": [
    {
     "name": "stderr",
     "output_type": "stream",
     "text": [
      "C:\\Users\\mario\\AppData\\Local\\Temp\\ipykernel_44300\\2783790266.py:2: SettingWithCopyWarning: \n",
      "A value is trying to be set on a copy of a slice from a DataFrame\n",
      "\n",
      "See the caveats in the documentation: https://pandas.pydata.org/pandas-docs/stable/user_guide/indexing.html#returning-a-view-versus-a-copy\n",
      "  dt['jaccard'][i] = np.float64(compute_metric('jaccard',[dt.iloc[i][0],dt.iloc[i][1]]))*10\n"
     ]
    }
   ]
  },
  {
   "cell_type": "code",
   "source": [
    "dt"
   ],
   "metadata": {
    "colab": {
     "base_uri": "https://localhost:8080/",
     "height": 424
    },
    "id": "-wK_jOyj7qum",
    "outputId": "fedfb2c6-27f4-44f6-b725-0d756acfb66a"
   },
   "execution_count": 13,
   "outputs": [
    {
     "data": {
      "text/plain": "                                                     0  \\\n0    The leaders have now been given a new chance a...   \n1    Amendment No 7 proposes certain changes in the...   \n2    Let me remind you that our allies include ferv...   \n3          The vote will take place today at 5.30 p.m.   \n4    The fishermen are inactive, tired and disappoi...   \n..                                                 ...   \n454  It is our job to continue to support Latvia wi...   \n455        The vote will take place today at 5.30 p.m.   \n456  Neither was there a qualified majority within ...   \n457  Let me remind you that our allies include ferv...   \n458  We often pontificate here about being the repr...   \n\n                                                     1     gs   jaccard  \n0    The leaders benefit aujourd' hui of a new luck...  4.500  6.538462  \n1    Amendment No 7 is proposing certain changes in...  5.000  2.142857  \n2    I would like to remind you that among our alli...  4.250  6.086957  \n3                   The vote will take place at 5.30pm  4.500  4.545455  \n4    The fishermen are inactive, tired and disappoi...  5.000       0.0  \n..                                                 ...    ...       ...  \n454  It is of our duty of continue to support the c...  5.000       4.5  \n455                   Vote will take place at 17 h 30.  4.750  6.428571  \n456  There was no qualified majority in this Parlia...  5.000       6.0  \n457  I hold you recall that our allies, there are e...  4.000  6.818182  \n458  We often take pride here to represent the citi...  3.833       5.0  \n\n[459 rows x 4 columns]",
      "text/html": "<div>\n<style scoped>\n    .dataframe tbody tr th:only-of-type {\n        vertical-align: middle;\n    }\n\n    .dataframe tbody tr th {\n        vertical-align: top;\n    }\n\n    .dataframe thead th {\n        text-align: right;\n    }\n</style>\n<table border=\"1\" class=\"dataframe\">\n  <thead>\n    <tr style=\"text-align: right;\">\n      <th></th>\n      <th>0</th>\n      <th>1</th>\n      <th>gs</th>\n      <th>jaccard</th>\n    </tr>\n  </thead>\n  <tbody>\n    <tr>\n      <th>0</th>\n      <td>The leaders have now been given a new chance a...</td>\n      <td>The leaders benefit aujourd' hui of a new luck...</td>\n      <td>4.500</td>\n      <td>6.538462</td>\n    </tr>\n    <tr>\n      <th>1</th>\n      <td>Amendment No 7 proposes certain changes in the...</td>\n      <td>Amendment No 7 is proposing certain changes in...</td>\n      <td>5.000</td>\n      <td>2.142857</td>\n    </tr>\n    <tr>\n      <th>2</th>\n      <td>Let me remind you that our allies include ferv...</td>\n      <td>I would like to remind you that among our alli...</td>\n      <td>4.250</td>\n      <td>6.086957</td>\n    </tr>\n    <tr>\n      <th>3</th>\n      <td>The vote will take place today at 5.30 p.m.</td>\n      <td>The vote will take place at 5.30pm</td>\n      <td>4.500</td>\n      <td>4.545455</td>\n    </tr>\n    <tr>\n      <th>4</th>\n      <td>The fishermen are inactive, tired and disappoi...</td>\n      <td>The fishermen are inactive, tired and disappoi...</td>\n      <td>5.000</td>\n      <td>0.0</td>\n    </tr>\n    <tr>\n      <th>...</th>\n      <td>...</td>\n      <td>...</td>\n      <td>...</td>\n      <td>...</td>\n    </tr>\n    <tr>\n      <th>454</th>\n      <td>It is our job to continue to support Latvia wi...</td>\n      <td>It is of our duty of continue to support the c...</td>\n      <td>5.000</td>\n      <td>4.5</td>\n    </tr>\n    <tr>\n      <th>455</th>\n      <td>The vote will take place today at 5.30 p.m.</td>\n      <td>Vote will take place at 17 h 30.</td>\n      <td>4.750</td>\n      <td>6.428571</td>\n    </tr>\n    <tr>\n      <th>456</th>\n      <td>Neither was there a qualified majority within ...</td>\n      <td>There was no qualified majority in this Parlia...</td>\n      <td>5.000</td>\n      <td>6.0</td>\n    </tr>\n    <tr>\n      <th>457</th>\n      <td>Let me remind you that our allies include ferv...</td>\n      <td>I hold you recall that our allies, there are e...</td>\n      <td>4.000</td>\n      <td>6.818182</td>\n    </tr>\n    <tr>\n      <th>458</th>\n      <td>We often pontificate here about being the repr...</td>\n      <td>We often take pride here to represent the citi...</td>\n      <td>3.833</td>\n      <td>5.0</td>\n    </tr>\n  </tbody>\n</table>\n<p>459 rows × 4 columns</p>\n</div>"
     },
     "execution_count": 13,
     "metadata": {},
     "output_type": "execute_result"
    }
   ]
  },
  {
   "cell_type": "code",
   "source": [
    "pearsonr(dt['gs'], 1-dt['jaccard']) # Calculating the pearson correlation between GS results and 1-Jaccard calculated dats"
   ],
   "metadata": {
    "colab": {
     "base_uri": "https://localhost:8080/"
    },
    "id": "d0LVZunA82f2",
    "outputId": "a46d2367-7c9e-4535-8134-e8cff1c5dcdd"
   },
   "execution_count": 14,
   "outputs": [
    {
     "data": {
      "text/plain": "PearsonRResult(statistic=0.45049771693186835, pvalue=2.5356459143049236e-24)"
     },
     "execution_count": 14,
     "metadata": {},
     "output_type": "execute_result"
    }
   ]
  },
  {
   "cell_type": "markdown",
   "source": [
    "# Conclusion\n",
    "\n",
    "By performing this practice it is possible to observe the metrics useful to compare the similarity between text blocks. To obtain good results it is necessary to isolate the text in simpler parts by using a tokenization method, the precision of this part of the process is fundamental to obtain divisions that preserve the sense in each of the compared texts. Once tokenization has been applied, it is possible to use Jaccard's distance to compare the similarity between the blocks of text obtained, although it is not the only one, since other distance metrics can be used to evaluate the relationship between the sentences being compared. Finally, it is possible to use Pearson's correlation as a global metric that evaluates the performance of the algorithm to complete the task. In this exercise, the Pearson correlation was 0.4504, which indicates an acceptable result, although it could still be improved by applying more complex strategies. \n",
    "\n"
   ],
   "metadata": {
    "id": "MjCFQFyeeO28"
   }
  }
 ]
}
