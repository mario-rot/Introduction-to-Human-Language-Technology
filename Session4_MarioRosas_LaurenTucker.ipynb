{
  "nbformat": 4,
  "nbformat_minor": 0,
  "metadata": {
    "colab": {
      "provenance": [],
      "collapsed_sections": []
    },
    "kernelspec": {
      "name": "python3",
      "display_name": "Python 3"
    },
    "language_info": {
      "name": "python"
    }
  },
  "cells": [
    {
      "cell_type": "markdown",
      "source": [
        "# Lab session 4 (Part Of Speech) - ILTH\n",
        "\n",
        "**Students:** Lauren Tucker & Mario Rosas\n",
        "\n",
        "[![Open In Colab](https://colab.research.google.com/assets/colab-badge.svg)](https://colab.research.google.com/drive/1Zab4CR1_eNoeabGrNN9wRaY_7pRcFuzs?usp=sharing)"
      ],
      "metadata": {
        "id": "LpEp-jhafvsx"
      }
    },
    {
      "cell_type": "code",
      "source": [
        "!pip install python-crfsuite"
      ],
      "metadata": {
        "colab": {
          "base_uri": "https://localhost:8080/"
        },
        "id": "lA6xrVN4-3NZ",
        "outputId": "8830506f-73b4-452d-eeb9-4a9839302a2b"
      },
      "execution_count": null,
      "outputs": [
        {
          "output_type": "stream",
          "name": "stdout",
          "text": [
            "Looking in indexes: https://pypi.org/simple, https://us-python.pkg.dev/colab-wheels/public/simple/\n",
            "Collecting python-crfsuite\n",
            "  Downloading python_crfsuite-0.9.8-cp37-cp37m-manylinux_2_17_x86_64.manylinux2014_x86_64.whl (965 kB)\n",
            "\u001b[K     |████████████████████████████████| 965 kB 28.7 MB/s \n",
            "\u001b[?25hInstalling collected packages: python-crfsuite\n",
            "Successfully installed python-crfsuite-0.9.8\n"
          ]
        }
      ]
    },
    {
      "cell_type": "code",
      "source": [
        "import nltk\n",
        "import pycrfsuite\n",
        "nltk.download('treebank')"
      ],
      "metadata": {
        "colab": {
          "base_uri": "https://localhost:8080/"
        },
        "id": "6YtfZf_5-oIk",
        "outputId": "4eec01d4-ac1d-4884-a8b9-2d4014c87449"
      },
      "execution_count": null,
      "outputs": [
        {
          "output_type": "stream",
          "name": "stderr",
          "text": [
            "[nltk_data] Downloading package treebank to /root/nltk_data...\n",
            "[nltk_data]   Package treebank is already up-to-date!\n"
          ]
        },
        {
          "output_type": "execute_result",
          "data": {
            "text/plain": [
              "True"
            ]
          },
          "metadata": {},
          "execution_count": 1
        }
      ]
    },
    {
      "cell_type": "code",
      "source": [
        "train_data = nltk.corpus.treebank.tagged_sents()[:3000]\n",
        "test_data = nltk.corpus.treebank.tagged_sents()[3000:]"
      ],
      "metadata": {
        "id": "O-zpLSB5-seK"
      },
      "execution_count": null,
      "outputs": []
    },
    {
      "cell_type": "code",
      "source": [
        "def train_models(amount_data):\n",
        "  pbar = tqdm(total=100)\n",
        "  test_data = nltk.corpus.treebank.tagged_sents()[3000:]\n",
        "  total_results = {'HMM': [], 'TnT':[], 'PER':[], 'CRF':[]}\n",
        "  times = {'HMM': [], 'TnT':[], 'PER':[], 'CRF':[]}\n",
        "\n",
        "  for i in tqdm(amount_data):\n",
        "    train_data = nltk.corpus.treebank.tagged_sents()[:i]\n",
        "\n",
        "    # Hidden Markov Model\n",
        "    time_before = time.time()\n",
        "    trainer = nltk.tag.hmm.HiddenMarkovModelTrainer()\n",
        "    HMM = trainer.train_supervised(train_data)\n",
        "    total_results['HMM'].append(round(HMM.evaluate(test_data), 3))\n",
        "    times['HMM'].append(time.time() - time_before)\n",
        "\n",
        "    # Trigrams'n'Tags\n",
        "    time_before = time.time()\n",
        "    TnT = nltk.tag.tnt.TnT()\n",
        "    TnT.train(train_data)\n",
        "    total_results['TnT'].append(round(TnT.evaluate(test_data), 3))\n",
        "    times['TnT'].append(time.time() - time_before)\n",
        "\n",
        "    #  Perceptron tagger\n",
        "    time_before = time.time()\n",
        "    PER = nltk.tag.perceptron.PerceptronTagger(load=False)\n",
        "    PER.train(train_data)\n",
        "    total_results['PER'].append(round(PER.evaluate(test_data), 3))\n",
        "    times['PER'].append(time.time() - time_before)\n",
        "\n",
        "    # Conditional Random Fields\n",
        "    time_before = time.time()\n",
        "    CRF = nltk.tag.CRFTagger()\n",
        "    CRF.train(train_data,'crf_tagger_model')\n",
        "    total_results['CRF'].append(round(CRF.evaluate(test_data), 3))\n",
        "    times['CRF'].append(time.time() - time_before)\n",
        "\n",
        "    print(i)\n",
        "\n",
        "  return times, total_results\n",
        "\n"
      ],
      "metadata": {
        "id": "T7PqFzDz_nmf"
      },
      "execution_count": null,
      "outputs": []
    },
    {
      "cell_type": "code",
      "source": [
        "train_dict = train_models([500,1000,1500,2000,2500,3000])"
      ],
      "metadata": {
        "colab": {
          "base_uri": "https://localhost:8080/"
        },
        "id": "8ImCiu9-DHAR",
        "outputId": "33d2af88-cec1-4f3e-b83d-052702a08c81"
      },
      "execution_count": null,
      "outputs": [
        {
          "metadata": {
            "tags": null
          },
          "name": "stderr",
          "output_type": "stream",
          "text": [
            "  0%|          | 0/100 [00:00<?, ?it/s]\n",
            "  0%|          | 0/6 [00:00<?, ?it/s]\u001b[A/usr/local/lib/python3.7/dist-packages/ipykernel_launcher.py:14: DeprecationWarning: \n",
            "  Function evaluate() has been deprecated.  Use accuracy(gold)\n",
            "  instead.\n",
            "  \n",
            "/usr/local/lib/python3.7/dist-packages/ipykernel_launcher.py:21: DeprecationWarning: \n",
            "  Function evaluate() has been deprecated.  Use accuracy(gold)\n",
            "  instead.\n",
            "/usr/local/lib/python3.7/dist-packages/ipykernel_launcher.py:28: DeprecationWarning: \n",
            "  Function evaluate() has been deprecated.  Use accuracy(gold)\n",
            "  instead.\n",
            "/usr/local/lib/python3.7/dist-packages/ipykernel_launcher.py:35: DeprecationWarning: \n",
            "  Function evaluate() has been deprecated.  Use accuracy(gold)\n",
            "  instead.\n",
            "\n",
            " 17%|█▋        | 1/6 [00:29<02:25, 29.10s/it]\u001b[A"
          ]
        },
        {
          "metadata": {
            "tags": null
          },
          "name": "stdout",
          "output_type": "stream",
          "text": [
            "500\n"
          ]
        },
        {
          "metadata": {
            "tags": null
          },
          "name": "stderr",
          "output_type": "stream",
          "text": [
            "\n",
            " 33%|███▎      | 2/6 [01:39<03:34, 53.55s/it]\u001b[A"
          ]
        },
        {
          "metadata": {
            "tags": null
          },
          "name": "stdout",
          "output_type": "stream",
          "text": [
            "1000\n"
          ]
        },
        {
          "metadata": {
            "tags": null
          },
          "name": "stderr",
          "output_type": "stream",
          "text": [
            "\n",
            " 50%|█████     | 3/6 [03:37<04:09, 83.04s/it]\u001b[A"
          ]
        },
        {
          "metadata": {
            "tags": null
          },
          "name": "stdout",
          "output_type": "stream",
          "text": [
            "1500\n"
          ]
        },
        {
          "metadata": {
            "tags": null
          },
          "name": "stderr",
          "output_type": "stream",
          "text": [
            "\n",
            " 67%|██████▋   | 4/6 [05:47<03:22, 101.23s/it]\u001b[A"
          ]
        },
        {
          "metadata": {
            "tags": null
          },
          "name": "stdout",
          "output_type": "stream",
          "text": [
            "2000\n"
          ]
        },
        {
          "metadata": {
            "tags": null
          },
          "name": "stderr",
          "output_type": "stream",
          "text": [
            "\n",
            " 83%|████████▎ | 5/6 [08:15<01:58, 118.32s/it]\u001b[A"
          ]
        },
        {
          "metadata": {
            "tags": null
          },
          "name": "stdout",
          "output_type": "stream",
          "text": [
            "2500\n"
          ]
        },
        {
          "output_type": "stream",
          "name": "stderr",
          "text": [
            "\n",
            "100%|██████████| 6/6 [10:56<00:00, 109.47s/it]\n",
            "  0%|          | 0/100 [10:58<?, ?it/s]"
          ]
        },
        {
          "output_type": "stream",
          "name": "stdout",
          "text": [
            "3000\n"
          ]
        },
        {
          "output_type": "stream",
          "name": "stderr",
          "text": [
            "\n"
          ]
        }
      ]
    },
    {
      "cell_type": "code",
      "source": [
        "import pandas as pd\n",
        "import matplotlib.pyplot as plt\n",
        "\n",
        "df = pd.DataFrame.from_dict(train_dict[1])\n",
        "\n",
        "plt.plot([500,1000,1500,2000,2500,3000], 'HMM', data=df, marker='.')\n",
        "plt.plot([500,1000,1500,2000,2500,3000], 'TnT', data=df, marker='.')\n",
        "plt.plot([500,1000,1500,2000,2500,3000], 'PER', data=df, marker='.', markersize = 10)\n",
        "plt.plot([500,1000,1500,2000,2500,3000], 'CRF', data=df, marker='.')\n",
        "\n",
        "plt.legend()\n",
        "plt.show()"
      ],
      "metadata": {
        "colab": {
          "base_uri": "https://localhost:8080/",
          "height": 265
        },
        "id": "PqLdC9FkHivc",
        "outputId": "28200452-b57d-4df1-86f1-bb7f08ea32fa"
      },
      "execution_count": null,
      "outputs": [
        {
          "output_type": "display_data",
          "data": {
            "text/plain": [
              "<Figure size 432x288 with 1 Axes>"
            ],
            "image/png": "[encoded data removed]"
          },
          "metadata": {
            "needs_background": "light"
          }
        }
      ]
    },
    {
      "cell_type": "markdown",
      "source": [
        "Below is a table containing the duration of each training and evaluation operation to compare the efficiency of each algorithm to aid in choosing the best performing option."
      ],
      "metadata": {
        "id": "FmeKb90Vk_hs"
      }
    },
    {
      "cell_type": "code",
      "source": [
        "df_times = pd.DataFrame.from_dict(train_dict[0]).round(3)\n",
        "df_times['Sentences'] = [500,1000,1500,2000,2500,3000]\n",
        "df_times"
      ],
      "metadata": {
        "colab": {
          "base_uri": "https://localhost:8080/",
          "height": 237
        },
        "id": "ZUGaVh8Ij45d",
        "outputId": "719ad9dd-c550-4dda-a3cb-8f5aa96a9d85"
      },
      "execution_count": null,
      "outputs": [
        {
          "output_type": "execute_result",
          "data": {
            "text/plain": [
              "     HMM     TnT     PER     CRF  Sentences\n",
              "0  5.803  14.467   4.563   4.112        500\n",
              "1  6.514  44.379   8.010  11.467       1000\n",
              "2  9.698  76.624  13.312  17.617       1500\n",
              "3  7.538  79.957  13.839  27.139       2000\n",
              "4  7.953  85.684  16.070  38.152       2500\n",
              "5  8.356  88.253  18.333  45.394       3000"
            ],
            "text/html": [
              "\n",
              "  <div id=\"df-3e57bf42-bbd6-45b7-a9e7-e7d7984a686b\">\n",
              "    <div class=\"colab-df-container\">\n",
              "      <div>\n",
              "<style scoped>\n",
              "    .dataframe tbody tr th:only-of-type {\n",
              "        vertical-align: middle;\n",
              "    }\n",
              "\n",
              "    .dataframe tbody tr th {\n",
              "        vertical-align: top;\n",
              "    }\n",
              "\n",
              "    .dataframe thead th {\n",
              "        text-align: right;\n",
              "    }\n",
              "</style>\n",
              "<table border=\"1\" class=\"dataframe\">\n",
              "  <thead>\n",
              "    <tr style=\"text-align: right;\">\n",
              "      <th></th>\n",
              "      <th>HMM</th>\n",
              "      <th>TnT</th>\n",
              "      <th>PER</th>\n",
              "      <th>CRF</th>\n",
              "      <th>Sentences</th>\n",
              "    </tr>\n",
              "  </thead>\n",
              "  <tbody>\n",
              "    <tr>\n",
              "      <th>0</th>\n",
              "      <td>5.803</td>\n",
              "      <td>14.467</td>\n",
              "      <td>4.563</td>\n",
              "      <td>4.112</td>\n",
              "      <td>500</td>\n",
              "    </tr>\n",
              "    <tr>\n",
              "      <th>1</th>\n",
              "      <td>6.514</td>\n",
              "      <td>44.379</td>\n",
              "      <td>8.010</td>\n",
              "      <td>11.467</td>\n",
              "      <td>1000</td>\n",
              "    </tr>\n",
              "    <tr>\n",
              "      <th>2</th>\n",
              "      <td>9.698</td>\n",
              "      <td>76.624</td>\n",
              "      <td>13.312</td>\n",
              "      <td>17.617</td>\n",
              "      <td>1500</td>\n",
              "    </tr>\n",
              "    <tr>\n",
              "      <th>3</th>\n",
              "      <td>7.538</td>\n",
              "      <td>79.957</td>\n",
              "      <td>13.839</td>\n",
              "      <td>27.139</td>\n",
              "      <td>2000</td>\n",
              "    </tr>\n",
              "    <tr>\n",
              "      <th>4</th>\n",
              "      <td>7.953</td>\n",
              "      <td>85.684</td>\n",
              "      <td>16.070</td>\n",
              "      <td>38.152</td>\n",
              "      <td>2500</td>\n",
              "    </tr>\n",
              "    <tr>\n",
              "      <th>5</th>\n",
              "      <td>8.356</td>\n",
              "      <td>88.253</td>\n",
              "      <td>18.333</td>\n",
              "      <td>45.394</td>\n",
              "      <td>3000</td>\n",
              "    </tr>\n",
              "  </tbody>\n",
              "</table>\n",
              "</div>\n",
              "      <button class=\"colab-df-convert\" onclick=\"convertToInteractive('df-3e57bf42-bbd6-45b7-a9e7-e7d7984a686b')\"\n",
              "              title=\"Convert this dataframe to an interactive table.\"\n",
              "              style=\"display:none;\">\n",
              "        \n",
              "  <svg xmlns=\"http://www.w3.org/2000/svg\" height=\"24px\"viewBox=\"0 0 24 24\"\n",
              "       width=\"24px\">\n",
              "    <path d=\"M0 0h24v24H0V0z\" fill=\"none\"/>\n",
              "    <path d=\"M18.56 5.44l.94 2.06.94-2.06 2.06-.94-2.06-.94-.94-2.06-.94 2.06-2.06.94zm-11 1L8.5 8.5l.94-2.06 2.06-.94-2.06-.94L8.5 2.5l-.94 2.06-2.06.94zm10 10l.94 2.06.94-2.06 2.06-.94-2.06-.94-.94-2.06-.94 2.06-2.06.94z\"/><path d=\"M17.41 7.96l-1.37-1.37c-.4-.4-.92-.59-1.43-.59-.52 0-1.04.2-1.43.59L10.3 9.45l-7.72 7.72c-.78.78-.78 2.05 0 2.83L4 21.41c.39.39.9.59 1.41.59.51 0 1.02-.2 1.41-.59l7.78-7.78 2.81-2.81c.8-.78.8-2.07 0-2.86zM5.41 20L4 18.59l7.72-7.72 1.47 1.35L5.41 20z\"/>\n",
              "  </svg>\n",
              "      </button>\n",
              "      \n",
              "  <style>\n",
              "    .colab-df-container {\n",
              "      display:flex;\n",
              "      flex-wrap:wrap;\n",
              "      gap: 12px;\n",
              "    }\n",
              "\n",
              "    .colab-df-convert {\n",
              "      background-color: #E8F0FE;\n",
              "      border: none;\n",
              "      border-radius: 50%;\n",
              "      cursor: pointer;\n",
              "      display: none;\n",
              "      fill: #1967D2;\n",
              "      height: 32px;\n",
              "      padding: 0 0 0 0;\n",
              "      width: 32px;\n",
              "    }\n",
              "\n",
              "    .colab-df-convert:hover {\n",
              "      background-color: #E2EBFA;\n",
              "      box-shadow: 0px 1px 2px rgba(60, 64, 67, 0.3), 0px 1px 3px 1px rgba(60, 64, 67, 0.15);\n",
              "      fill: #174EA6;\n",
              "    }\n",
              "\n",
              "    [theme=dark] .colab-df-convert {\n",
              "      background-color: #3B4455;\n",
              "      fill: #D2E3FC;\n",
              "    }\n",
              "\n",
              "    [theme=dark] .colab-df-convert:hover {\n",
              "      background-color: #434B5C;\n",
              "      box-shadow: 0px 1px 3px 1px rgba(0, 0, 0, 0.15);\n",
              "      filter: drop-shadow(0px 1px 2px rgba(0, 0, 0, 0.3));\n",
              "      fill: #FFFFFF;\n",
              "    }\n",
              "  </style>\n",
              "\n",
              "      <script>\n",
              "        const buttonEl =\n",
              "          document.querySelector('#df-3e57bf42-bbd6-45b7-a9e7-e7d7984a686b button.colab-df-convert');\n",
              "        buttonEl.style.display =\n",
              "          google.colab.kernel.accessAllowed ? 'block' : 'none';\n",
              "\n",
              "        async function convertToInteractive(key) {\n",
              "          const element = document.querySelector('#df-3e57bf42-bbd6-45b7-a9e7-e7d7984a686b');\n",
              "          const dataTable =\n",
              "            await google.colab.kernel.invokeFunction('convertToInteractive',\n",
              "                                                     [key], {});\n",
              "          if (!dataTable) return;\n",
              "\n",
              "          const docLinkHtml = 'Like what you see? Visit the ' +\n",
              "            '<a target=\"_blank\" href=https://colab.research.google.com/notebooks/data_table.ipynb>data table notebook</a>'\n",
              "            + ' to learn more about interactive tables.';\n",
              "          element.innerHTML = '';\n",
              "          dataTable['output_type'] = 'display_data';\n",
              "          await google.colab.output.renderOutput(dataTable, element);\n",
              "          const docLink = document.createElement('div');\n",
              "          docLink.innerHTML = docLinkHtml;\n",
              "          element.appendChild(docLink);\n",
              "        }\n",
              "      </script>\n",
              "    </div>\n",
              "  </div>\n",
              "  "
            ]
          },
          "metadata": {},
          "execution_count": 50
        }
      ]
    },
    {
      "cell_type": "markdown",
      "source": [
        "# Conclusions\n",
        "- Which model would you select? Justify the answer.\n",
        "\n",
        "We would select the perceptron tagger model. One reason is that it performs extremeley well even with smaller amounts of data (i.e. with only 500 sentences). Another reason is that it is relatively fast. Among the four models tested, the only model that ran faster than the Perceptron Tagger was the Hidden Markov Model. However, HMM had significantly worse performance, even with large amounts of data. Therefore, the small increase in duration is worth the large increase in performance.\n",
        "\n",
        "TnT is not a bad model, but it is outperformed both in time and performance by PER and CRF. CRF's performance is almost comparable to PER, however, the time it takes to compute is almost three times as long as PER.\n",
        "\n",
        "**"
      ],
      "metadata": {
        "id": "MRA6E6QQh1fh"
      }
    }
  ]
}