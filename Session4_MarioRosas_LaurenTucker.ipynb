{
 "cells": [
  {
   "cell_type": "markdown",
   "metadata": {
    "colab_type": "text",
    "id": "view-in-github"
   },
   "source": [
    "<a href=\"https://colab.research.google.com/github/mario-rot/Introduction-to-Human-Language-Technology/blob/main/Session4_MarioRosas_LaurenTucker.ipynb\" target=\"_parent\"><img src=\"https://colab.research.google.com/assets/colab-badge.svg\" alt=\"Open In Colab\"/></a>"
   ]
  },
  {
   "cell_type": "markdown",
   "metadata": {
    "id": "LpEp-jhafvsx"
   },
   "source": [
    "# Lab session 4 (Part Of Speech) - ILTH\n",
    "\n",
    "**Students:** Lauren Tucker & Mario Rosas"
   ]
  },
  {
   "cell_type": "code",
   "execution_count": null,
   "metadata": {
    "colab": {
     "base_uri": "https://localhost:8080/"
    },
    "id": "lA6xrVN4-3NZ",
    "outputId": "8830506f-73b4-452d-eeb9-4a9839302a2b"
   },
   "outputs": [
    {
     "name": "stdout",
     "output_type": "stream",
     "text": [
      "Collecting python-crfsuite\n",
      "  Downloading python_crfsuite-0.9.8-cp39-cp39-win_amd64.whl (158 kB)\n",
      "     -------------------------------------- 158.6/158.6 kB 3.2 MB/s eta 0:00:00\n",
      "Installing collected packages: python-crfsuite\n",
      "Successfully installed python-crfsuite-0.9.8\n"
     ]
    }
   ],
   "source": [
    "!pip install python-crfsuite"
   ]
  },
  {
   "cell_type": "code",
   "execution_count": 1,
   "metadata": {
    "colab": {
     "base_uri": "https://localhost:8080/"
    },
    "id": "6YtfZf_5-oIk",
    "outputId": "4eec01d4-ac1d-4884-a8b9-2d4014c87449"
   },
   "outputs": [
    {
     "name": "stderr",
     "output_type": "stream",
     "text": [
      "[nltk_data] Downloading package treebank to\n",
      "[nltk_data]     C:\\Users\\mario\\AppData\\Roaming\\nltk_data...\n",
      "[nltk_data]   Package treebank is already up-to-date!\n"
     ]
    },
    {
     "data": {
      "text/plain": [
       "True"
      ]
     },
     "execution_count": 1,
     "metadata": {},
     "output_type": "execute_result"
    }
   ],
   "source": [
    "import nltk\n",
    "import pycrfsuite\n",
    "from tqdm import tqdm\n",
    "import time\n",
    "nltk.download('treebank')"
   ]
  },
  {
   "cell_type": "code",
   "execution_count": 2,
   "metadata": {
    "id": "O-zpLSB5-seK"
   },
   "outputs": [],
   "source": [
    "train_data = nltk.corpus.treebank.tagged_sents()[:3000]\n",
    "test_data = nltk.corpus.treebank.tagged_sents()[3000:]"
   ]
  },
  {
   "cell_type": "code",
   "execution_count": 3,
   "metadata": {},
   "outputs": [
    {
     "data": {
      "text/plain": [
       "[[('Pierre', 'NNP'), ('Vinken', 'NNP'), (',', ','), ('61', 'CD'), ('years', 'NNS'), ('old', 'JJ'), (',', ','), ('will', 'MD'), ('join', 'VB'), ('the', 'DT'), ('board', 'NN'), ('as', 'IN'), ('a', 'DT'), ('nonexecutive', 'JJ'), ('director', 'NN'), ('Nov.', 'NNP'), ('29', 'CD'), ('.', '.')], [('Mr.', 'NNP'), ('Vinken', 'NNP'), ('is', 'VBZ'), ('chairman', 'NN'), ('of', 'IN'), ('Elsevier', 'NNP'), ('N.V.', 'NNP'), (',', ','), ('the', 'DT'), ('Dutch', 'NNP'), ('publishing', 'VBG'), ('group', 'NN'), ('.', '.')], ...]"
      ]
     },
     "execution_count": 3,
     "metadata": {},
     "output_type": "execute_result"
    }
   ],
   "source": [
    "train_data"
   ]
  },
  {
   "cell_type": "code",
   "execution_count": 4,
   "metadata": {
    "id": "T7PqFzDz_nmf"
   },
   "outputs": [],
   "source": [
    "def train_models(amount_data):\n",
    "  pbar = tqdm(total=100)\n",
    "  test_data = nltk.corpus.treebank.tagged_sents()[3000:]\n",
    "  total_results = {'HMM': [], 'TnT':[], 'PER':[], 'CRF':[]}\n",
    "  times = {'HMM': [], 'TnT':[], 'PER':[], 'CRF':[]}\n",
    "\n",
    "  for i in tqdm(amount_data):\n",
    "    train_data = nltk.corpus.treebank.tagged_sents()[:i]\n",
    "\n",
    "    # Hidden Markov Model\n",
    "    time_before = time.time()\n",
    "    trainer = nltk.tag.hmm.HiddenMarkovModelTrainer()\n",
    "    HMM = trainer.train_supervised(train_data)\n",
    "    total_results['HMM'].append(round(HMM.accuracy(test_data), 3))\n",
    "    times['HMM'].append(time.time() - time_before)\n",
    "\n",
    "    # Trigrams'n'Tags\n",
    "    time_before = time.time()\n",
    "    TnT = nltk.tag.tnt.TnT()\n",
    "    TnT.train(train_data)\n",
    "    total_results['TnT'].append(round(TnT.accuracy(test_data), 3))\n",
    "    times['TnT'].append(time.time() - time_before)\n",
    "\n",
    "    #  Perceptron tagger\n",
    "    time_before = time.time()\n",
    "    PER = nltk.tag.perceptron.PerceptronTagger(load=False)\n",
    "    PER.train(train_data)\n",
    "    total_results['PER'].append(round(PER.accuracy(test_data), 3))\n",
    "    times['PER'].append(time.time() - time_before)\n",
    "\n",
    "    # Conditional Random Fields\n",
    "    time_before = time.time()\n",
    "    CRF = nltk.tag.CRFTagger()\n",
    "    CRF.train(train_data,'crf_tagger_model')\n",
    "    total_results['CRF'].append(round(CRF.accuracy(test_data), 3))\n",
    "    times['CRF'].append(time.time() - time_before)\n",
    "\n",
    "    print(i)\n",
    "\n",
    "  return times, total_results\n",
    "\n"
   ]
  },
  {
   "cell_type": "code",
   "execution_count": 5,
   "metadata": {
    "colab": {
     "base_uri": "https://localhost:8080/"
    },
    "id": "8ImCiu9-DHAR",
    "outputId": "33d2af88-cec1-4f3e-b83d-052702a08c81"
   },
   "outputs": [
    {
     "name": "stderr",
     "output_type": "stream",
     "text": [
      "  0%|          | 0/100 [00:00<?, ?it/s]"
     ]
    },
    {
     "name": "stdout",
     "output_type": "stream",
     "text": [
      "500\n"
     ]
    },
    {
     "name": "stderr",
     "output_type": "stream",
     "text": []
    },
    {
     "name": "stdout",
     "output_type": "stream",
     "text": [
      "1000\n"
     ]
    },
    {
     "name": "stderr",
     "output_type": "stream",
     "text": []
    },
    {
     "name": "stdout",
     "output_type": "stream",
     "text": [
      "1500\n"
     ]
    },
    {
     "name": "stderr",
     "output_type": "stream",
     "text": []
    },
    {
     "name": "stdout",
     "output_type": "stream",
     "text": [
      "2000\n"
     ]
    },
    {
     "name": "stderr",
     "output_type": "stream",
     "text": []
    },
    {
     "name": "stdout",
     "output_type": "stream",
     "text": [
      "2500\n"
     ]
    },
    {
     "name": "stderr",
     "output_type": "stream",
     "text": [
      "100%|██████████| 6/6 [07:06<00:00, 71.07s/it]\n",
      "  0%|          | 0/100 [07:07<?, ?it/s]"
     ]
    },
    {
     "name": "stdout",
     "output_type": "stream",
     "text": [
      "3000\n"
     ]
    },
    {
     "name": "stderr",
     "output_type": "stream",
     "text": [
      "\n"
     ]
    }
   ],
   "source": [
    "train_dict = train_models([500,1000,1500,2000,2500,3000])"
   ]
  },
  {
   "cell_type": "code",
   "execution_count": 6,
   "metadata": {
    "colab": {
     "base_uri": "https://localhost:8080/",
     "height": 265
    },
    "id": "PqLdC9FkHivc",
    "outputId": "28200452-b57d-4df1-86f1-bb7f08ea32fa"
   },
   "outputs": [
    {
     "data": {
      "image/png": "[encoded data removed]",
      "text/plain": [
       "<Figure size 640x480 with 1 Axes>"
      ]
     },
     "metadata": {},
     "output_type": "display_data"
    }
   ],
   "source": [
    "import pandas as pd\n",
    "import matplotlib.pyplot as plt\n",
    "\n",
    "df = pd.DataFrame.from_dict(train_dict[1])\n",
    "\n",
    "plt.plot([500,1000,1500,2000,2500,3000], 'HMM', data=df, marker='.')\n",
    "plt.plot([500,1000,1500,2000,2500,3000], 'TnT', data=df, marker='.')\n",
    "plt.plot([500,1000,1500,2000,2500,3000], 'PER', data=df, marker='.', markersize = 10)\n",
    "plt.plot([500,1000,1500,2000,2500,3000], 'CRF', data=df, marker='.')\n",
    "\n",
    "plt.legend()\n",
    "plt.show()"
   ]
  },
  {
   "cell_type": "markdown",
   "metadata": {
    "id": "FmeKb90Vk_hs"
   },
   "source": [
    "Below is a table containing the duration of each training and evaluation operation to compare the efficiency of each algorithm to aid in choosing the best performing option."
   ]
  },
  {
   "cell_type": "code",
   "execution_count": 7,
   "metadata": {
    "colab": {
     "base_uri": "https://localhost:8080/",
     "height": 237
    },
    "id": "ZUGaVh8Ij45d",
    "outputId": "719ad9dd-c550-4dda-a3cb-8f5aa96a9d85"
   },
   "outputs": [
    {
     "data": {
      "text/html": [
       "<div>\n",
       "<style scoped>\n",
       "    .dataframe tbody tr th:only-of-type {\n",
       "        vertical-align: middle;\n",
       "    }\n",
       "\n",
       "    .dataframe tbody tr th {\n",
       "        vertical-align: top;\n",
       "    }\n",
       "\n",
       "    .dataframe thead th {\n",
       "        text-align: right;\n",
       "    }\n",
       "</style>\n",
       "<table border=\"1\" class=\"dataframe\">\n",
       "  <thead>\n",
       "    <tr style=\"text-align: right;\">\n",
       "      <th></th>\n",
       "      <th>HMM</th>\n",
       "      <th>TnT</th>\n",
       "      <th>PER</th>\n",
       "      <th>CRF</th>\n",
       "      <th>Sentences</th>\n",
       "    </tr>\n",
       "  </thead>\n",
       "  <tbody>\n",
       "    <tr>\n",
       "      <th>0</th>\n",
       "      <td>4.270</td>\n",
       "      <td>8.629</td>\n",
       "      <td>2.755</td>\n",
       "      <td>2.717</td>\n",
       "      <td>500</td>\n",
       "    </tr>\n",
       "    <tr>\n",
       "      <th>1</th>\n",
       "      <td>4.526</td>\n",
       "      <td>22.149</td>\n",
       "      <td>4.741</td>\n",
       "      <td>5.803</td>\n",
       "      <td>1000</td>\n",
       "    </tr>\n",
       "    <tr>\n",
       "      <th>2</th>\n",
       "      <td>4.724</td>\n",
       "      <td>36.691</td>\n",
       "      <td>6.658</td>\n",
       "      <td>10.013</td>\n",
       "      <td>1500</td>\n",
       "    </tr>\n",
       "    <tr>\n",
       "      <th>3</th>\n",
       "      <td>4.989</td>\n",
       "      <td>46.994</td>\n",
       "      <td>8.652</td>\n",
       "      <td>15.526</td>\n",
       "      <td>2000</td>\n",
       "    </tr>\n",
       "    <tr>\n",
       "      <th>4</th>\n",
       "      <td>5.315</td>\n",
       "      <td>58.393</td>\n",
       "      <td>13.093</td>\n",
       "      <td>29.062</td>\n",
       "      <td>2500</td>\n",
       "    </tr>\n",
       "    <tr>\n",
       "      <th>5</th>\n",
       "      <td>6.957</td>\n",
       "      <td>72.768</td>\n",
       "      <td>15.228</td>\n",
       "      <td>33.402</td>\n",
       "      <td>3000</td>\n",
       "    </tr>\n",
       "  </tbody>\n",
       "</table>\n",
       "</div>"
      ],
      "text/plain": [
       "     HMM     TnT     PER     CRF  Sentences\n",
       "0  4.270   8.629   2.755   2.717        500\n",
       "1  4.526  22.149   4.741   5.803       1000\n",
       "2  4.724  36.691   6.658  10.013       1500\n",
       "3  4.989  46.994   8.652  15.526       2000\n",
       "4  5.315  58.393  13.093  29.062       2500\n",
       "5  6.957  72.768  15.228  33.402       3000"
      ]
     },
     "execution_count": 7,
     "metadata": {},
     "output_type": "execute_result"
    }
   ],
   "source": [
    "df_times = pd.DataFrame.from_dict(train_dict[0]).round(3)\n",
    "df_times['Sentences'] = [500,1000,1500,2000,2500,3000]\n",
    "df_times"
   ]
  },
  {
   "cell_type": "markdown",
   "metadata": {
    "id": "MRA6E6QQh1fh"
   },
   "source": [
    "# Conclusions\n",
    "- Which model would you select? Justify the answer.\n",
    "\n",
    "We would select the perceptron tagger model. One reason is that it performs extremeley well even with smaller amounts of data (i.e. with only 500 sentences). Another reason is that it is relatively fast. Among the four models tested, the only model that ran faster than the Perceptron Tagger was the Hidden Markov Model. However, HMM had significantly worse performance, even with large amounts of data. Therefore, the small increase in duration is worth the large increase in performance.\n",
    "\n",
    "TnT is not a bad model, but it is outperformed both in time and performance by PER and CRF. CRF's performance is almost comparable to PER, however, the time it takes to compute is almost three times as long as PER.\n",
    "\n",
    "**"
   ]
  }
 ],
 "metadata": {
  "colab": {
   "collapsed_sections": [],
   "include_colab_link": true,
   "provenance": []
  },
  "kernelspec": {
   "display_name": "Python 3.9.13 ('IHLT')",
   "language": "python",
   "name": "python3"
  },
  "language_info": {
   "codemirror_mode": {
    "name": "ipython",
    "version": 3
   },
   "file_extension": ".py",
   "mimetype": "text/x-python",
   "name": "python",
   "nbconvert_exporter": "python",
   "pygments_lexer": "ipython3",
   "version": "3.9.13"
  },
  "vscode": {
   "interpreter": {
    "hash": "0795eca24a98e58b2dcbec80c9554a91f94c5c7d4e675f06c8c2f85c434623a5"
   }
  }
 },
 "nbformat": 4,
 "nbformat_minor": 0
}
