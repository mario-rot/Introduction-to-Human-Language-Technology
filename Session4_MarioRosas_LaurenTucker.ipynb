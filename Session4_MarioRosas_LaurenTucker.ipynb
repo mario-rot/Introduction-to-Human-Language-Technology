{
 "nbformat": 4,
 "nbformat_minor": 0,
 "metadata": {
  "colab": {
   "provenance": [],
   "collapsed_sections": [],
   "include_colab_link": true
  },
  "kernelspec": {
   "name": "python3",
   "display_name": "Python 3"
  },
  "language_info": {
   "name": "python"
  }
 },
 "cells": [
  {
   "cell_type": "markdown",
   "metadata": {
    "id": "view-in-github",
    "colab_type": "text"
   },
   "source": [
    "<a href=\"https://colab.research.google.com/github/mario-rot/Introduction-to-Human-Language-Technology/blob/main/Session4_MarioRosas_LaurenTucker.ipynb\" target=\"_parent\"><img src=\"https://colab.research.google.com/assets/colab-badge.svg\" alt=\"Open In Colab\"/></a>"
   ]
  },
  {
   "cell_type": "markdown",
   "source": [
    "# Lab session 4 (Part Of Speech) - ILTH\n",
    "\n",
    "**Students:** Lauren Tucker & Mario Rosas"
   ],
   "metadata": {
    "id": "LpEp-jhafvsx"
   }
  },
  {
   "cell_type": "code",
   "source": [
    "!pip install python-crfsuite"
   ],
   "metadata": {
    "colab": {
     "base_uri": "https://localhost:8080/"
    },
    "id": "lA6xrVN4-3NZ",
    "outputId": "8830506f-73b4-452d-eeb9-4a9839302a2b"
   },
   "execution_count": null,
   "outputs": [
    {
     "name": "stdout",
     "output_type": "stream",
     "text": [
      "Collecting python-crfsuite\n",
      "  Downloading python_crfsuite-0.9.8-cp39-cp39-win_amd64.whl (158 kB)\n",
      "     -------------------------------------- 158.6/158.6 kB 3.2 MB/s eta 0:00:00\n",
      "Installing collected packages: python-crfsuite\n",
      "Successfully installed python-crfsuite-0.9.8\n"
     ]
    }
   ]
  },
  {
   "cell_type": "code",
   "source": [
    "import nltk\n",
    "import pycrfsuite\n",
    "from tqdm import tqdm\n",
    "import time\n",
    "nltk.download('treebank')"
   ],
   "metadata": {
    "colab": {
     "base_uri": "https://localhost:8080/"
    },
    "id": "6YtfZf_5-oIk",
    "outputId": "4eec01d4-ac1d-4884-a8b9-2d4014c87449"
   },
   "execution_count": null,
   "outputs": [
    {
     "name": "stderr",
     "output_type": "stream",
     "text": [
      "[nltk_data] Downloading package treebank to\n",
      "[nltk_data]     C:\\Users\\mario\\AppData\\Roaming\\nltk_data...\n",
      "[nltk_data]   Package treebank is already up-to-date!\n"
     ]
    },
    {
     "data": {
      "text/plain": "True"
     },
     "execution_count": 14,
     "metadata": {},
     "output_type": "execute_result"
    }
   ]
  },
  {
   "cell_type": "code",
   "source": [
    "train_data = nltk.corpus.treebank.tagged_sents()[:3000]\n",
    "test_data = nltk.corpus.treebank.tagged_sents()[3000:]"
   ],
   "metadata": {
    "id": "O-zpLSB5-seK"
   },
   "execution_count": null,
   "outputs": []
  },
  {
   "cell_type": "code",
   "source": [
    "def train_models(amount_data):\n",
    "  pbar = tqdm(total=100)\n",
    "  test_data = nltk.corpus.treebank.tagged_sents()[3000:]\n",
    "  total_results = {'HMM': [], 'TnT':[], 'PER':[], 'CRF':[]}\n",
    "  times = {'HMM': [], 'TnT':[], 'PER':[], 'CRF':[]}\n",
    "\n",
    "  for i in tqdm(amount_data):\n",
    "    train_data = nltk.corpus.treebank.tagged_sents()[:i]\n",
    "\n",
    "    # Hidden Markov Model\n",
    "    time_before = time.time()\n",
    "    trainer = nltk.tag.hmm.HiddenMarkovModelTrainer()\n",
    "    HMM = trainer.train_supervised(train_data)\n",
    "    total_results['HMM'].append(round(HMM.evaluate(test_data), 3))\n",
    "    times['HMM'].append(time.time() - time_before)\n",
    "\n",
    "    # Trigrams'n'Tags\n",
    "    time_before = time.time()\n",
    "    TnT = nltk.tag.tnt.TnT()\n",
    "    TnT.train(train_data)\n",
    "    total_results['TnT'].append(round(TnT.evaluate(test_data), 3))\n",
    "    times['TnT'].append(time.time() - time_before)\n",
    "\n",
    "    #  Perceptron tagger\n",
    "    time_before = time.time()\n",
    "    PER = nltk.tag.perceptron.PerceptronTagger(load=False)\n",
    "    PER.train(train_data)\n",
    "    total_results['PER'].append(round(PER.evaluate(test_data), 3))\n",
    "    times['PER'].append(time.time() - time_before)\n",
    "\n",
    "    # Conditional Random Fields\n",
    "    time_before = time.time()\n",
    "    CRF = nltk.tag.CRFTagger()\n",
    "    CRF.train(train_data,'crf_tagger_model')\n",
    "    total_results['CRF'].append(round(CRF.evaluate(test_data), 3))\n",
    "    times['CRF'].append(time.time() - time_before)\n",
    "\n",
    "    print(i)\n",
    "\n",
    "  return times, total_results\n",
    "\n"
   ],
   "metadata": {
    "id": "T7PqFzDz_nmf"
   },
   "execution_count": null,
   "outputs": []
  },
  {
   "cell_type": "code",
   "source": [
    "train_dict = train_models([500,1000,1500,2000,2500,3000])"
   ],
   "metadata": {
    "colab": {
     "base_uri": "https://localhost:8080/"
    },
    "id": "8ImCiu9-DHAR",
    "outputId": "33d2af88-cec1-4f3e-b83d-052702a08c81"
   },
   "execution_count": null,
   "outputs": [
    {
     "name": "stderr",
     "output_type": "stream",
     "text": [
      "\n",
      "  0%|          | 0/100 [00:00<?, ?it/s]\u001B[A\n",
      "\n",
      "  0%|          | 0/6 [00:00<?, ?it/s]\u001B[A\u001B[AC:\\Users\\mario\\AppData\\Local\\Temp\\ipykernel_29408\\1830867272.py:14: DeprecationWarning: \n",
      "  Function evaluate() has been deprecated.  Use accuracy(gold)\n",
      "  instead.\n",
      "  total_results['HMM'].append(round(HMM.evaluate(test_data), 3))\n",
      "C:\\Users\\mario\\AppData\\Local\\Temp\\ipykernel_29408\\1830867272.py:21: DeprecationWarning: \n",
      "  Function evaluate() has been deprecated.  Use accuracy(gold)\n",
      "  instead.\n",
      "  total_results['TnT'].append(round(TnT.evaluate(test_data), 3))\n",
      "C:\\Users\\mario\\AppData\\Local\\Temp\\ipykernel_29408\\1830867272.py:28: DeprecationWarning: \n",
      "  Function evaluate() has been deprecated.  Use accuracy(gold)\n",
      "  instead.\n",
      "  total_results['PER'].append(round(PER.evaluate(test_data), 3))\n",
      "C:\\Users\\mario\\AppData\\Local\\Temp\\ipykernel_29408\\1830867272.py:35: DeprecationWarning: \n",
      "  Function evaluate() has been deprecated.  Use accuracy(gold)\n",
      "  instead.\n",
      "  total_results['CRF'].append(round(CRF.evaluate(test_data), 3))\n",
      "\n",
      "\n",
      " 17%|█▋        | 1/6 [00:16<01:22, 16.42s/it]\u001B[A\u001B[A"
     ]
    },
    {
     "name": "stdout",
     "output_type": "stream",
     "text": [
      "500\n"
     ]
    },
    {
     "name": "stderr",
     "output_type": "stream",
     "text": [
      "\n",
      "\n",
      " 33%|███▎      | 2/6 [00:54<01:57, 29.28s/it]\u001B[A\u001B[A"
     ]
    },
    {
     "name": "stdout",
     "output_type": "stream",
     "text": [
      "1000\n"
     ]
    },
    {
     "name": "stderr",
     "output_type": "stream",
     "text": [
      "\n",
      "\n",
      " 50%|█████     | 3/6 [01:57<02:13, 44.58s/it]\u001B[A\u001B[A"
     ]
    },
    {
     "name": "stdout",
     "output_type": "stream",
     "text": [
      "1500\n"
     ]
    },
    {
     "name": "stderr",
     "output_type": "stream",
     "text": [
      "\n",
      "\n",
      " 67%|██████▋   | 4/6 [03:09<01:50, 55.33s/it]\u001B[A\u001B[A"
     ]
    },
    {
     "name": "stdout",
     "output_type": "stream",
     "text": [
      "2000\n"
     ]
    },
    {
     "name": "stderr",
     "output_type": "stream",
     "text": [
      "\n",
      "\n",
      " 83%|████████▎ | 5/6 [04:31<01:05, 65.17s/it]\u001B[A\u001B[A"
     ]
    },
    {
     "name": "stdout",
     "output_type": "stream",
     "text": [
      "2500\n"
     ]
    },
    {
     "name": "stderr",
     "output_type": "stream",
     "text": [
      "\n",
      "\n",
      "100%|██████████| 6/6 [06:09<00:00, 61.53s/it]\u001B[A\u001B[A\n",
      "  0%|          | 0/100 [06:09<?, ?it/s]"
     ]
    },
    {
     "name": "stdout",
     "output_type": "stream",
     "text": [
      "3000\n"
     ]
    },
    {
     "name": "stderr",
     "output_type": "stream",
     "text": [
      "\n"
     ]
    }
   ]
  },
  {
   "cell_type": "code",
   "source": [
    "import pandas as pd\n",
    "import matplotlib.pyplot as plt\n",
    "\n",
    "df = pd.DataFrame.from_dict(train_dict[1])\n",
    "\n",
    "plt.plot([500,1000,1500,2000,2500,3000], 'HMM', data=df, marker='.')\n",
    "plt.plot([500,1000,1500,2000,2500,3000], 'TnT', data=df, marker='.')\n",
    "plt.plot([500,1000,1500,2000,2500,3000], 'PER', data=df, marker='.', markersize = 10)\n",
    "plt.plot([500,1000,1500,2000,2500,3000], 'CRF', data=df, marker='.')\n",
    "\n",
    "plt.legend()\n",
    "plt.show()"
   ],
   "metadata": {
    "colab": {
     "base_uri": "https://localhost:8080/",
     "height": 265
    },
    "id": "PqLdC9FkHivc",
    "outputId": "28200452-b57d-4df1-86f1-bb7f08ea32fa"
   },
   "execution_count": null,
   "outputs": [
    {
     "data": {
      "text/plain": "<Figure size 640x480 with 1 Axes>",
      "image/png": "[encoded data removed]"
     },
     "metadata": {},
     "output_type": "display_data"
    }
   ]
  },
  {
   "cell_type": "markdown",
   "source": [
    "Below is a table containing the duration of each training and evaluation operation to compare the efficiency of each algorithm to aid in choosing the best performing option."
   ],
   "metadata": {
    "id": "FmeKb90Vk_hs"
   }
  },
  {
   "cell_type": "code",
   "source": [
    "df_times = pd.DataFrame.from_dict(train_dict[0]).round(3)\n",
    "df_times['Sentences'] = [500,1000,1500,2000,2500,3000]\n",
    "df_times"
   ],
   "metadata": {
    "colab": {
     "base_uri": "https://localhost:8080/",
     "height": 237
    },
    "id": "ZUGaVh8Ij45d",
    "outputId": "719ad9dd-c550-4dda-a3cb-8f5aa96a9d85"
   },
   "execution_count": null,
   "outputs": [
    {
     "data": {
      "text/plain": "     HMM     TnT     PER     CRF  Sentences\n0  3.754   7.540   2.669   2.356        500\n1  4.642  21.669   5.146   6.637       1000\n2  5.394  38.408   7.268  11.360       1500\n3  5.672  42.590   8.360  14.765       2000\n4  4.780  46.764   9.589  21.036       2500\n5  5.620  53.749  11.994  25.366       3000",
      "text/html": "<div>\n<style scoped>\n    .dataframe tbody tr th:only-of-type {\n        vertical-align: middle;\n    }\n\n    .dataframe tbody tr th {\n        vertical-align: top;\n    }\n\n    .dataframe thead th {\n        text-align: right;\n    }\n</style>\n<table border=\"1\" class=\"dataframe\">\n  <thead>\n    <tr style=\"text-align: right;\">\n      <th></th>\n      <th>HMM</th>\n      <th>TnT</th>\n      <th>PER</th>\n      <th>CRF</th>\n      <th>Sentences</th>\n    </tr>\n  </thead>\n  <tbody>\n    <tr>\n      <th>0</th>\n      <td>3.754</td>\n      <td>7.540</td>\n      <td>2.669</td>\n      <td>2.356</td>\n      <td>500</td>\n    </tr>\n    <tr>\n      <th>1</th>\n      <td>4.642</td>\n      <td>21.669</td>\n      <td>5.146</td>\n      <td>6.637</td>\n      <td>1000</td>\n    </tr>\n    <tr>\n      <th>2</th>\n      <td>5.394</td>\n      <td>38.408</td>\n      <td>7.268</td>\n      <td>11.360</td>\n      <td>1500</td>\n    </tr>\n    <tr>\n      <th>3</th>\n      <td>5.672</td>\n      <td>42.590</td>\n      <td>8.360</td>\n      <td>14.765</td>\n      <td>2000</td>\n    </tr>\n    <tr>\n      <th>4</th>\n      <td>4.780</td>\n      <td>46.764</td>\n      <td>9.589</td>\n      <td>21.036</td>\n      <td>2500</td>\n    </tr>\n    <tr>\n      <th>5</th>\n      <td>5.620</td>\n      <td>53.749</td>\n      <td>11.994</td>\n      <td>25.366</td>\n      <td>3000</td>\n    </tr>\n  </tbody>\n</table>\n</div>"
     },
     "execution_count": 22,
     "metadata": {},
     "output_type": "execute_result"
    }
   ]
  },
  {
   "cell_type": "markdown",
   "source": [
    "# Conclusions\n",
    "- Which model would you select? Justify the answer.\n",
    "\n",
    "We would select the perceptron tagger model. One reason is that it performs extremeley well even with smaller amounts of data (i.e. with only 500 sentences). Another reason is that it is relatively fast. Among the four models tested, the only model that ran faster than the Perceptron Tagger was the Hidden Markov Model. However, HMM had significantly worse performance, even with large amounts of data. Therefore, the small increase in duration is worth the large increase in performance.\n",
    "\n",
    "TnT is not a bad model, but it is outperformed both in time and performance by PER and CRF. CRF's performance is almost comparable to PER, however, the time it takes to compute is almost three times as long as PER.\n",
    "\n",
    "**"
   ],
   "metadata": {
    "id": "MRA6E6QQh1fh"
   }
  }
 ]
}
