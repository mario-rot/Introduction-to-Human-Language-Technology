{
  "cells": [
    {
      "cell_type": "markdown",
      "metadata": {
        "colab_type": "text",
        "id": "view-in-github"
      },
      "source": [
        "<a href=\"https://colab.research.google.com/github/mario-rot/Introduction-to-Human-Language-Technology/blob/main/IHLTscratch.ipynb\" target=\"_parent\"><img src=\"https://colab.research.google.com/assets/colab-badge.svg\" alt=\"Open In Colab\"/></a>"
      ]
    },
    {
      "cell_type": "code",
      "execution_count": 3,
      "metadata": {
        "colab": {
          "base_uri": "https://localhost:8080/"
        },
        "id": "H51fi4pDqVTY",
        "outputId": "5faab353-161c-41b7-a626-b5383dbc2beb"
      },
      "outputs": [
        {
          "name": "stdout",
          "output_type": "stream",
          "text": [
            "Cloning into 'Introduction-to-Human-Language-Technology'...\n",
            "remote: Enumerating objects: 977, done.\u001b[K\n",
            "remote: Counting objects: 100% (977/977), done.\u001b[K\n",
            "remote: Compressing objects: 100% (882/882), done.\u001b[K\n",
            "remote: Total 977 (delta 166), reused 865 (delta 90), pack-reused 0\u001b[K\n",
            "Receiving objects: 100% (977/977), 2.72 MiB | 8.08 MiB/s, done.\n",
            "Resolving deltas: 100% (166/166), done.\n",
            "Looking in indexes: https://pypi.org/simple, https://us-python.pkg.dev/colab-wheels/public/simple/\n",
            "Requirement already satisfied: svgling in /usr/local/lib/python3.8/dist-packages (0.3.1)\n",
            "Requirement already satisfied: svgwrite in /usr/local/lib/python3.8/dist-packages (from svgling) (1.4.3)\n"
          ]
        },
        {
          "data": {
            "text/plain": []
          },
          "execution_count": 3,
          "metadata": {},
          "output_type": "execute_result"
        }
      ],
      "source": [
        "%%shell\n",
        "git clone https://github.com/mario-rot/Introduction-to-Human-Language-Technology.git\n",
        "cd 'Introduction-to-Human-Language-Technology'\n",
        "mv 'Complementary Material' /content/\n",
        "mv 'text_processing.py' /content/\n",
        "\n",
        "pip install svgling"
      ]
    },
    {
      "cell_type": "code",
      "execution_count": 2,
      "metadata": {
        "colab": {
          "base_uri": "https://localhost:8080/"
        },
        "id": "gNGeWOSyp3E0",
        "outputId": "b88cf023-0d8d-47b4-d5d4-236a6547db5d"
      },
      "outputs": [
        {
          "name": "stderr",
          "output_type": "stream",
          "text": [
            "[nltk_data] Downloading package wordnet_ic to\n",
            "[nltk_data]     C:\\Users\\mario\\AppData\\Roaming\\nltk_data...\n",
            "[nltk_data]   Package wordnet_ic is already up-to-date!\n",
            "[nltk_data] Downloading package stopwords to\n",
            "[nltk_data]     C:\\Users\\mario\\AppData\\Roaming\\nltk_data...\n",
            "[nltk_data]   Package stopwords is already up-to-date!\n",
            "[nltk_data] Downloading package averaged_perceptron_tagger to\n",
            "[nltk_data]     C:\\Users\\mario\\AppData\\Roaming\\nltk_data...\n",
            "[nltk_data]   Package averaged_perceptron_tagger is already up-to-\n",
            "[nltk_data]       date!\n",
            "[nltk_data] Downloading package wordnet to\n",
            "[nltk_data]     C:\\Users\\mario\\AppData\\Roaming\\nltk_data...\n",
            "[nltk_data]   Package wordnet is already up-to-date!\n",
            "[nltk_data] Downloading package omw-1.4 to\n",
            "[nltk_data]     C:\\Users\\mario\\AppData\\Roaming\\nltk_data...\n",
            "[nltk_data]   Package omw-1.4 is already up-to-date!\n"
          ]
        },
        {
          "data": {
            "text/plain": [
              "True"
            ]
          },
          "execution_count": 2,
          "metadata": {},
          "output_type": "execute_result"
        }
      ],
      "source": [
        "import pandas as pd\n",
        "import numpy as np\n",
        "import nltk\n",
        "import string\n",
        "import math\n",
        "from nltk.util import bigrams, trigrams\n",
        "from nltk.corpus import wordnet as wn\n",
        "### added so text_processing will work ###\n",
        "nltk.download('wordnet_ic')\n",
        "##########################################\n",
        "from text_processing import text_processing, compute_metrics\n",
        "from collections import Counter\n",
        "nltk.download('stopwords')\n",
        "nltk.download('averaged_perceptron_tagger')\n",
        "nltk.download('wordnet')\n",
        "nltk.download('omw-1.4')"
      ]
    },
    {
      "cell_type": "code",
      "execution_count": 3,
      "metadata": {
        "id": "k1JvdAoop_gX"
      },
      "outputs": [],
      "source": [
        "dt = pd.read_csv('Complementary Material/test-gold/STS.input.SMTeuroparl.txt',sep='\\t',header=None)"
      ]
    },
    {
      "cell_type": "code",
      "execution_count": 4,
      "metadata": {
        "colab": {
          "base_uri": "https://localhost:8080/",
          "height": 206
        },
        "id": "cBbnChn-sOZ4",
        "outputId": "fcffb779-271f-48be-df05-e85ed721fb0f"
      },
      "outputs": [
        {
          "data": {
            "text/html": [
              "<div>\n",
              "<style scoped>\n",
              "    .dataframe tbody tr th:only-of-type {\n",
              "        vertical-align: middle;\n",
              "    }\n",
              "\n",
              "    .dataframe tbody tr th {\n",
              "        vertical-align: top;\n",
              "    }\n",
              "\n",
              "    .dataframe thead th {\n",
              "        text-align: right;\n",
              "    }\n",
              "</style>\n",
              "<table border=\"1\" class=\"dataframe\">\n",
              "  <thead>\n",
              "    <tr style=\"text-align: right;\">\n",
              "      <th></th>\n",
              "      <th>0</th>\n",
              "      <th>1</th>\n",
              "    </tr>\n",
              "  </thead>\n",
              "  <tbody>\n",
              "    <tr>\n",
              "      <th>0</th>\n",
              "      <td>The leaders have now been given a new chance a...</td>\n",
              "      <td>The leaders benefit aujourd' hui of a new luck...</td>\n",
              "    </tr>\n",
              "    <tr>\n",
              "      <th>1</th>\n",
              "      <td>Amendment No 7 proposes certain changes in the...</td>\n",
              "      <td>Amendment No 7 is proposing certain changes in...</td>\n",
              "    </tr>\n",
              "    <tr>\n",
              "      <th>2</th>\n",
              "      <td>Let me remind you that our allies include ferv...</td>\n",
              "      <td>I would like to remind you that among our alli...</td>\n",
              "    </tr>\n",
              "    <tr>\n",
              "      <th>3</th>\n",
              "      <td>The vote will take place today at 5.30 p.m.</td>\n",
              "      <td>The vote will take place at 5.30pm</td>\n",
              "    </tr>\n",
              "    <tr>\n",
              "      <th>4</th>\n",
              "      <td>The fishermen are inactive, tired and disappoi...</td>\n",
              "      <td>The fishermen are inactive, tired and disappoi...</td>\n",
              "    </tr>\n",
              "  </tbody>\n",
              "</table>\n",
              "</div>"
            ],
            "text/plain": [
              "                                                   0  \\\n",
              "0  The leaders have now been given a new chance a...   \n",
              "1  Amendment No 7 proposes certain changes in the...   \n",
              "2  Let me remind you that our allies include ferv...   \n",
              "3        The vote will take place today at 5.30 p.m.   \n",
              "4  The fishermen are inactive, tired and disappoi...   \n",
              "\n",
              "                                                   1  \n",
              "0  The leaders benefit aujourd' hui of a new luck...  \n",
              "1  Amendment No 7 is proposing certain changes in...  \n",
              "2  I would like to remind you that among our alli...  \n",
              "3                 The vote will take place at 5.30pm  \n",
              "4  The fishermen are inactive, tired and disappoi...  "
            ]
          },
          "execution_count": 4,
          "metadata": {},
          "output_type": "execute_result"
        }
      ],
      "source": [
        "dt.head()"
      ]
    },
    {
      "cell_type": "code",
      "execution_count": 5,
      "metadata": {
        "colab": {
          "base_uri": "https://localhost:8080/"
        },
        "id": "v-lAzSV_Ixxo",
        "outputId": "4938cdf3-a278-4052-9a7c-bfff53da4a81"
      },
      "outputs": [
        {
          "name": "stdout",
          "output_type": "stream",
          "text": [
            "\n",
            " -- Data hasn't been cleaned, to lemmatize the data is going to be cleaned with the default parameters --\n",
            "\n",
            "\n",
            " -- Data hasn't been cleaned, to lemmatize the data is going to be cleaned with the default parameters --\n",
            "\n"
          ]
        }
      ],
      "source": [
        "sentences1 = dt[0]\n",
        "sentences2 = dt[1]\n",
        "\n",
        "tp1 = text_processing(sentences1).lemmatize_data()\n",
        "tp2 = text_processing(sentences2).lemmatize_data()"
      ]
    },
    {
      "cell_type": "code",
      "execution_count": 6,
      "metadata": {
        "colab": {
          "base_uri": "https://localhost:8080/"
        },
        "id": "pYsrV-NdVKEP",
        "outputId": "b6680cbc-1157-4cc8-eb77-d82f00fe1b98"
      },
      "outputs": [
        {
          "name": "stdout",
          "output_type": "stream",
          "text": [
            "\n",
            " -- Data hasn't been cleaned, to apply most_common_lemma to data is going to be cleaned with the default parameters --\n",
            "\n",
            "\n",
            " -- Data hasn't been cleaned, to apply most_common_lemma to data is going to be cleaned with the default parameters --\n",
            "\n"
          ]
        }
      ],
      "source": [
        "cln1 = text_processing(sentences1).clean_data()\n",
        "cln2 = text_processing(sentences2).clean_data()\n",
        "\n",
        "mcl1 = text_processing(sentences1).mc_lemmatize_data(lemma=True)\n",
        "mcl2 = text_processing(sentences2).mc_lemmatize_data(lemma=True)\n",
        "\n",
        "syn1 = [[lemma.synset() for lemma in sentence if lemma] for sentence in mcl1]\n",
        "syn2 = [[lemma.synset() for lemma in sentence if lemma] for sentence in mcl2]"
      ]
    },
    {
      "cell_type": "code",
      "execution_count": 7,
      "metadata": {
        "colab": {
          "base_uri": "https://localhost:8080/"
        },
        "id": "Q_8lEQ1DVShZ",
        "outputId": "e3652014-9541-49e0-9cb5-ec0f163c224d"
      },
      "outputs": [
        {
          "data": {
            "text/plain": [
              "[Lemma('addition.n.03.increase'),\n",
              " Lemma('power.n.01.power'),\n",
              " Lemma('large.a.01.big'),\n",
              " Lemma('state.n.04.country'),\n",
              " Lemma('expense.v.01.expense'),\n",
              " Lemma('small.a.01.small'),\n",
              " Lemma('state.n.04.country')]"
            ]
          },
          "execution_count": 7,
          "metadata": {},
          "output_type": "execute_result"
        }
      ],
      "source": [
        "mcl1[95]"
      ]
    },
    {
      "cell_type": "code",
      "execution_count": 8,
      "metadata": {
        "id": "lhR5x-ulvEli"
      },
      "outputs": [],
      "source": [
        "def clean(corpus, stopwords, minwords_len, signs):\n",
        "   corpus = corpus.split(' ')\n",
        "   corpus = [word.lower() for word in corpus]\n",
        "   corpus = [word if not any(caracter in signs for caracter in word) else remove_signs(word) for word in corpus]\n",
        "   corpus = [word for word in corpus if word not in stopwords and word.isalpha()]\n",
        "   corpus = [word for word in corpus if len(word) > minwords_len]\n",
        "   return corpus\n",
        "\n",
        "def remove_signs(wrd):\n",
        "  wrd = list(wrd)\n",
        "  wrd = [word for word in wrd if not any(caracter in signs for caracter in word)]\n",
        "  wrd = ''.join(wrd)\n",
        "  return wrd\n",
        "\n",
        "\n",
        "stopwords=set(nltk.corpus.stopwords.words('english'))\n",
        "signs = string.punctuation\n",
        "minwords_len = 2"
      ]
    },
    {
      "cell_type": "code",
      "execution_count": 9,
      "metadata": {
        "id": "AxkxGN-Ns3yO"
      },
      "outputs": [],
      "source": [
        "def cosine_similarity(sentence1, sentence2):\n",
        "  sim = 0\n",
        "  all_words = set(sentence1).union(set(sentence2))\n",
        "  s1vec = []\n",
        "  s2vec = []\n",
        "  for word in all_words:\n",
        "    if word in sentence1:\n",
        "      s1vec.append(1)\n",
        "    else:\n",
        "      s1vec.append(0)\n",
        "    if word in sentence2:\n",
        "      s2vec.append(1)\n",
        "    else:\n",
        "      s2vec.append(0)\n",
        "  sim = np.dot(np.array(s1vec), np.array(s2vec)) / (math.sqrt(sum(s1vec)*sum(s2vec)))\n",
        "  print(sentence1)\n",
        "  print(sentence2)\n",
        "  print(all_words)\n",
        "  print(s1vec)\n",
        "  print(s2vec)\n",
        "  print(sim)\n",
        "  return sim"
      ]
    },
    {
      "cell_type": "code",
      "execution_count": 10,
      "metadata": {
        "id": "wJop2rudvfIZ"
      },
      "outputs": [],
      "source": [
        "sent1 = clean(dt[0][0], stopwords, minwords_len, signs)\n",
        "sent2 = clean(dt[1][0], stopwords, minwords_len, signs)"
      ]
    },
    {
      "cell_type": "code",
      "execution_count": 11,
      "metadata": {
        "colab": {
          "base_uri": "https://localhost:8080/"
        },
        "id": "QLCLetgst5rN",
        "outputId": "d3679276-3048-4915-eed8-415445414a83"
      },
      "outputs": [
        {
          "name": "stdout",
          "output_type": "stream",
          "text": [
            "['leaders', 'given', 'new', 'chance', 'let', 'hope', 'seize']\n",
            "['leaders', 'benefit', 'aujourd', 'hui', 'new', 'luck', 'lets', 'let', 'therefore', 'seize']\n",
            "{'leaders', 'hope', 'luck', 'benefit', 'lets', 'let', 'chance', 'therefore', 'given', 'aujourd', 'hui', 'seize', 'new'}\n",
            "[1, 1, 0, 0, 0, 1, 1, 0, 1, 0, 0, 1, 1]\n",
            "[1, 0, 1, 1, 1, 1, 0, 1, 0, 1, 1, 1, 1]\n",
            "0.47809144373375745\n"
          ]
        },
        {
          "data": {
            "text/plain": [
              "0.47809144373375745"
            ]
          },
          "execution_count": 11,
          "metadata": {},
          "output_type": "execute_result"
        }
      ],
      "source": [
        "cosine_similarity(sent1, sent2)"
      ]
    },
    {
      "cell_type": "code",
      "execution_count": 12,
      "metadata": {
        "id": "VUCnqBkmuH_-"
      },
      "outputs": [],
      "source": [
        "def unigram_similarity(words1, words2):\n",
        "    count_same = 0\n",
        "    for w in words1:\n",
        "        count_same += min(words1.count(w), words2.count(w))\n",
        "    \n",
        "    if len(words1) > 0 or len(words2) > 0:\n",
        "        return 2*count_same/(len(words1)+len(words2))\n",
        "    else:\n",
        "        return 0"
      ]
    },
    {
      "cell_type": "code",
      "execution_count": 13,
      "metadata": {
        "colab": {
          "base_uri": "https://localhost:8080/"
        },
        "id": "NF3LSnVo0fPC",
        "outputId": "aec8dbd9-c129-4466-d4af-0b21589aeb6d"
      },
      "outputs": [
        {
          "data": {
            "text/plain": [
              "0.47058823529411764"
            ]
          },
          "execution_count": 13,
          "metadata": {},
          "output_type": "execute_result"
        }
      ],
      "source": [
        "unigram_similarity(sent1, sent2)"
      ]
    },
    {
      "cell_type": "code",
      "execution_count": 14,
      "metadata": {
        "colab": {
          "base_uri": "https://localhost:8080/"
        },
        "id": "-y0OdZk40hl7",
        "outputId": "03853055-6580-40fb-8011-a6df33f046de"
      },
      "outputs": [
        {
          "data": {
            "text/plain": [
              "0.47058823529411764"
            ]
          },
          "execution_count": 14,
          "metadata": {},
          "output_type": "execute_result"
        }
      ],
      "source": [
        "8/17"
      ]
    },
    {
      "cell_type": "code",
      "execution_count": 15,
      "metadata": {
        "id": "oZ0xATW70yDt"
      },
      "outputs": [],
      "source": [
        "def unigram_similarity_mine(sentence1, sentence2, remove_duplicates):\n",
        "  if remove_duplicates:\n",
        "    sentence1 = list(set(sentence1))\n",
        "    sentence2 = list(set(sentence2))\n",
        "    print(sentence1)\n",
        "    print(sentence2)\n",
        "  total_words = len(sentence1) + len(sentence2)\n",
        "  used_words = []\n",
        "  count = 0\n",
        "  for word in sentence1:\n",
        "    if word in sentence2 and word not in used_words:\n",
        "      count += sentence1.count(word)\n",
        "      count += sentence2.count(word)\n",
        "    used_words.append(word)\n",
        "\n",
        "  sim = count / total_words\n",
        "  return sim"
      ]
    },
    {
      "cell_type": "code",
      "execution_count": 16,
      "metadata": {
        "id": "-P7563T06vxC"
      },
      "outputs": [],
      "source": [
        "def unigram_similarity_mine(sentence1, sentence2, remove_duplicates, consider_importance):\n",
        "  if remove_duplicates:\n",
        "    sentence1 = list(set(sentence1))\n",
        "    sentence2 = list(set(sentence2))\n",
        "    print(sentence1)\n",
        "    print(sentence2)\n",
        "\n",
        "  if consider_importance:\n",
        "    idf = get_idf(sentences)\n",
        "  else:\n",
        "    idf = 1\n",
        "\n",
        "\n",
        "  total_words = len(sentence1) + len(sentence2)\n",
        "  used_words = []\n",
        "  count = 0\n",
        "  for word in sentence1:\n",
        "    if word in sentence2 and word not in used_words:\n",
        "      if consider_importance:\n",
        "        tf1 = float(sentence1.count(word)) / len(sentence1)\n",
        "        tf2 = float(sentence2.count(word)) / len(sentence2)\n",
        "        count += (sentence1.count(word) * (tf1 * idf))\n",
        "        count += (sentence2.count(word) * (tf2 * idf))\n",
        "      else:\n",
        "        count += sentence1.count(word)\n",
        "        count += sentence2.count(word)\n",
        "    used_words.append(word)\n",
        "\n",
        "  sim = count / total_words\n",
        "  return sim"
      ]
    },
    {
      "cell_type": "code",
      "execution_count": 17,
      "metadata": {
        "colab": {
          "base_uri": "https://localhost:8080/"
        },
        "id": "bL6htqia1oFe",
        "outputId": "ad5417ca-e1c9-444d-b385-fa8363d336be"
      },
      "outputs": [
        {
          "ename": "TypeError",
          "evalue": "unigram_similarity_mine() missing 1 required positional argument: 'consider_importance'",
          "output_type": "error",
          "traceback": [
            "\u001b[1;31m---------------------------------------------------------------------------\u001b[0m",
            "\u001b[1;31mTypeError\u001b[0m                                 Traceback (most recent call last)",
            "\u001b[1;32mc:\\Users\\mario\\Github\\UPC\\IHLT - Introduction to Human Language Technology\\IHLTscratch.ipynb Celda 18\u001b[0m in \u001b[0;36m<cell line: 1>\u001b[1;34m()\u001b[0m\n\u001b[1;32m----> <a href='vscode-notebook-cell:/c%3A/Users/mario/Github/UPC/IHLT%20-%20Introduction%20to%20Human%20Language%20Technology/IHLTscratch.ipynb#X23sZmlsZQ%3D%3D?line=0'>1</a>\u001b[0m unigram_similarity_mine(sent1, sent2, \u001b[39mFalse\u001b[39;49;00m)\n",
            "\u001b[1;31mTypeError\u001b[0m: unigram_similarity_mine() missing 1 required positional argument: 'consider_importance'"
          ]
        }
      ],
      "source": [
        "unigram_similarity_mine(sent1, sent2, False)"
      ]
    },
    {
      "cell_type": "code",
      "execution_count": 18,
      "metadata": {
        "colab": {
          "base_uri": "https://localhost:8080/",
          "height": 35
        },
        "id": "q5NE_W5R1rXG",
        "outputId": "1c093cd3-fb5a-4f91-fe38-568554f169f3"
      },
      "outputs": [
        {
          "data": {
            "text/plain": [
              "'It increases the power of the big countries at the expense of the small countries.'"
            ]
          },
          "execution_count": 18,
          "metadata": {},
          "output_type": "execute_result"
        }
      ],
      "source": [
        "dt[0][95]"
      ]
    },
    {
      "cell_type": "code",
      "execution_count": 19,
      "metadata": {
        "colab": {
          "base_uri": "https://localhost:8080/"
        },
        "id": "f0YOEcr41unT",
        "outputId": "50f2eacc-97a9-4727-9811-2a6d967a3f63"
      },
      "outputs": [
        {
          "name": "stdout",
          "output_type": "stream",
          "text": [
            "0.8\n"
          ]
        },
        {
          "ename": "TypeError",
          "evalue": "unigram_similarity_mine() missing 1 required positional argument: 'consider_importance'",
          "output_type": "error",
          "traceback": [
            "\u001b[1;31m---------------------------------------------------------------------------\u001b[0m",
            "\u001b[1;31mTypeError\u001b[0m                                 Traceback (most recent call last)",
            "\u001b[1;32mc:\\Users\\mario\\Github\\UPC\\IHLT - Introduction to Human Language Technology\\IHLTscratch.ipynb Celda 20\u001b[0m in \u001b[0;36m<cell line: 9>\u001b[1;34m()\u001b[0m\n\u001b[0;32m      <a href='vscode-notebook-cell:/c%3A/Users/mario/Github/UPC/IHLT%20-%20Introduction%20to%20Human%20Language%20Technology/IHLTscratch.ipynb#X25sZmlsZQ%3D%3D?line=5'>6</a>\u001b[0m sent2 \u001b[39m=\u001b[39m clean(sentence2, stopwords, minwords_len, signs)\n\u001b[0;32m      <a href='vscode-notebook-cell:/c%3A/Users/mario/Github/UPC/IHLT%20-%20Introduction%20to%20Human%20Language%20Technology/IHLTscratch.ipynb#X25sZmlsZQ%3D%3D?line=7'>8</a>\u001b[0m \u001b[39mprint\u001b[39m(unigram_similarity(sent1, sent2))\n\u001b[1;32m----> <a href='vscode-notebook-cell:/c%3A/Users/mario/Github/UPC/IHLT%20-%20Introduction%20to%20Human%20Language%20Technology/IHLTscratch.ipynb#X25sZmlsZQ%3D%3D?line=8'>9</a>\u001b[0m \u001b[39mprint\u001b[39m(unigram_similarity_mine(sent1, sent2, \u001b[39mFalse\u001b[39;49;00m))\n\u001b[0;32m     <a href='vscode-notebook-cell:/c%3A/Users/mario/Github/UPC/IHLT%20-%20Introduction%20to%20Human%20Language%20Technology/IHLTscratch.ipynb#X25sZmlsZQ%3D%3D?line=9'>10</a>\u001b[0m \u001b[39mprint\u001b[39m(sent1)\n\u001b[0;32m     <a href='vscode-notebook-cell:/c%3A/Users/mario/Github/UPC/IHLT%20-%20Introduction%20to%20Human%20Language%20Technology/IHLTscratch.ipynb#X25sZmlsZQ%3D%3D?line=10'>11</a>\u001b[0m \u001b[39mprint\u001b[39m(sent2)\n",
            "\u001b[1;31mTypeError\u001b[0m: unigram_similarity_mine() missing 1 required positional argument: 'consider_importance'"
          ]
        }
      ],
      "source": [
        "sentence1 = 'It increases the power of the big countries at the expense of the small countries.'\n",
        "sentence2 = 'This has the effect of increasing the power of large countries at the expense of smaller countries.'\n",
        "\n",
        "\n",
        "sent1 = clean(sentence1, stopwords, minwords_len, signs)\n",
        "sent2 = clean(sentence2, stopwords, minwords_len, signs)\n",
        "\n",
        "print(unigram_similarity(sent1, sent2))\n",
        "print(unigram_similarity_mine(sent1, sent2, False))\n",
        "print(sent1)\n",
        "print(sent2)\n",
        "print(unigram_similarity_mine(sent1, sent2, True))"
      ]
    },
    {
      "cell_type": "code",
      "execution_count": 20,
      "metadata": {
        "colab": {
          "base_uri": "https://localhost:8080/"
        },
        "id": "P_RUqSr4J0EU",
        "outputId": "6092a67f-d45e-4a1b-8dd2-8d3a32e51f13"
      },
      "outputs": [
        {
          "ename": "TypeError",
          "evalue": "unigram_similarity_mine() missing 1 required positional argument: 'consider_importance'",
          "output_type": "error",
          "traceback": [
            "\u001b[1;31m---------------------------------------------------------------------------\u001b[0m",
            "\u001b[1;31mTypeError\u001b[0m                                 Traceback (most recent call last)",
            "\u001b[1;32mc:\\Users\\mario\\Github\\UPC\\IHLT - Introduction to Human Language Technology\\IHLTscratch.ipynb Celda 21\u001b[0m in \u001b[0;36m<cell line: 1>\u001b[1;34m()\u001b[0m\n\u001b[1;32m----> <a href='vscode-notebook-cell:/c%3A/Users/mario/Github/UPC/IHLT%20-%20Introduction%20to%20Human%20Language%20Technology/IHLTscratch.ipynb#X26sZmlsZQ%3D%3D?line=0'>1</a>\u001b[0m \u001b[39mprint\u001b[39m(unigram_similarity_mine(tp1[\u001b[39m95\u001b[39;49m], tp2[\u001b[39m95\u001b[39;49m], \u001b[39mTrue\u001b[39;49;00m))\n\u001b[0;32m      <a href='vscode-notebook-cell:/c%3A/Users/mario/Github/UPC/IHLT%20-%20Introduction%20to%20Human%20Language%20Technology/IHLTscratch.ipynb#X26sZmlsZQ%3D%3D?line=1'>2</a>\u001b[0m \u001b[39mprint\u001b[39m(unigram_similarity_mine(tp1[\u001b[39m95\u001b[39m], tp2[\u001b[39m95\u001b[39m], \u001b[39mFalse\u001b[39;00m))\n",
            "\u001b[1;31mTypeError\u001b[0m: unigram_similarity_mine() missing 1 required positional argument: 'consider_importance'"
          ]
        }
      ],
      "source": [
        "print(unigram_similarity_mine(tp1[95], tp2[95], True))\n",
        "print(unigram_similarity_mine(tp1[95], tp2[95], False))"
      ]
    },
    {
      "cell_type": "code",
      "execution_count": 21,
      "metadata": {
        "colab": {
          "base_uri": "https://localhost:8080/"
        },
        "id": "CPL7c1PaXpPL",
        "outputId": "edbf722b-cce0-475b-ef38-d0b9a4ee687f"
      },
      "outputs": [
        {
          "name": "stdout",
          "output_type": "stream",
          "text": [
            "[Lemma('addition.n.03.increase'), Lemma('power.n.01.power'), Lemma('large.a.01.big'), Lemma('state.n.04.country'), Lemma('expense.v.01.expense'), Lemma('small.a.01.small'), Lemma('state.n.04.country')]\n",
            "[Lemma('consequence.n.01.effect'), Lemma('increase.v.01.increase'), Lemma('power.n.01.power'), Lemma('large.a.01.large'), Lemma('state.n.04.country'), Lemma('expense.v.01.expense'), Lemma('small.a.01.small')]\n"
          ]
        }
      ],
      "source": [
        "print(mcl1[95])\n",
        "print(mcl2[95])"
      ]
    },
    {
      "cell_type": "code",
      "execution_count": 22,
      "metadata": {
        "colab": {
          "base_uri": "https://localhost:8080/"
        },
        "id": "nq_q7_AfWY7j",
        "outputId": "c2c29405-97db-4d65-f122-96d1a45073ac"
      },
      "outputs": [
        {
          "name": "stdout",
          "output_type": "stream",
          "text": [
            "[Lemma('leader.n.01.leader'), Lemma('give.v.01.give'), Lemma('new.a.01.new'), Lemma('opportunity.n.01.chance'), Lemma('let.v.01.let'), Lemma('seize.v.01.seize')]\n",
            "[Lemma('leader.n.01.leader'), Lemma('profit.v.01.benefit'), Lemma('new.a.01.new'), Lemma('fortune.n.04.fortune'), Lemma('lashkar-e-taiba.n.01.Lashkar-e-Taiba'), Lemma('let.v.01.let'), Lemma('therefore.r.01.therefore'), Lemma('seize.v.01.seize')]\n",
            "The leaders benefit aujourd' hui of a new luck and let's let them therefore seize it.\n"
          ]
        },
        {
          "ename": "TypeError",
          "evalue": "unigram_similarity_mine() missing 1 required positional argument: 'consider_importance'",
          "output_type": "error",
          "traceback": [
            "\u001b[1;31m---------------------------------------------------------------------------\u001b[0m",
            "\u001b[1;31mTypeError\u001b[0m                                 Traceback (most recent call last)",
            "\u001b[1;32mc:\\Users\\mario\\Github\\UPC\\IHLT - Introduction to Human Language Technology\\IHLTscratch.ipynb Celda 23\u001b[0m in \u001b[0;36m<cell line: 11>\u001b[1;34m()\u001b[0m\n\u001b[0;32m      <a href='vscode-notebook-cell:/c%3A/Users/mario/Github/UPC/IHLT%20-%20Introduction%20to%20Human%20Language%20Technology/IHLTscratch.ipynb#X31sZmlsZQ%3D%3D?line=6'>7</a>\u001b[0m \u001b[39mprint\u001b[39m(mcl295)\n\u001b[0;32m      <a href='vscode-notebook-cell:/c%3A/Users/mario/Github/UPC/IHLT%20-%20Introduction%20to%20Human%20Language%20Technology/IHLTscratch.ipynb#X31sZmlsZQ%3D%3D?line=8'>9</a>\u001b[0m \u001b[39mprint\u001b[39m(sentences2[\u001b[39m0\u001b[39m])\n\u001b[1;32m---> <a href='vscode-notebook-cell:/c%3A/Users/mario/Github/UPC/IHLT%20-%20Introduction%20to%20Human%20Language%20Technology/IHLTscratch.ipynb#X31sZmlsZQ%3D%3D?line=10'>11</a>\u001b[0m \u001b[39mprint\u001b[39m(unigram_similarity_mine(mcl195, mcl295, \u001b[39mTrue\u001b[39;49;00m))\n\u001b[0;32m     <a href='vscode-notebook-cell:/c%3A/Users/mario/Github/UPC/IHLT%20-%20Introduction%20to%20Human%20Language%20Technology/IHLTscratch.ipynb#X31sZmlsZQ%3D%3D?line=11'>12</a>\u001b[0m \u001b[39mprint\u001b[39m(unigram_similarity_mine(mcl195, mcl295, \u001b[39mFalse\u001b[39;00m))\n",
            "\u001b[1;31mTypeError\u001b[0m: unigram_similarity_mine() missing 1 required positional argument: 'consider_importance'"
          ]
        }
      ],
      "source": [
        "mcl195 = [lemma for lemma in mcl1[0] if lemma]\n",
        "mcl295 = [lemma for lemma in mcl2[0] if lemma]\n",
        "\n",
        "\n",
        "\n",
        "print(mcl195)\n",
        "print(mcl295)\n",
        "\n",
        "print(sentences2[0])\n",
        "\n",
        "print(unigram_similarity_mine(mcl195, mcl295, True))\n",
        "print(unigram_similarity_mine(mcl195, mcl295, False))"
      ]
    },
    {
      "cell_type": "code",
      "execution_count": 23,
      "metadata": {
        "colab": {
          "base_uri": "https://localhost:8080/"
        },
        "id": "tkmJ7NUFdcId",
        "outputId": "a58104fa-c391-45f4-817c-eb3e71707c03"
      },
      "outputs": [
        {
          "ename": "TypeError",
          "evalue": "unigram_similarity_mine() missing 1 required positional argument: 'consider_importance'",
          "output_type": "error",
          "traceback": [
            "\u001b[1;31m---------------------------------------------------------------------------\u001b[0m",
            "\u001b[1;31mTypeError\u001b[0m                                 Traceback (most recent call last)",
            "\u001b[1;32mc:\\Users\\mario\\Github\\UPC\\IHLT - Introduction to Human Language Technology\\IHLTscratch.ipynb Celda 24\u001b[0m in \u001b[0;36m<cell line: 5>\u001b[1;34m()\u001b[0m\n\u001b[0;32m      <a href='vscode-notebook-cell:/c%3A/Users/mario/Github/UPC/IHLT%20-%20Introduction%20to%20Human%20Language%20Technology/IHLTscratch.ipynb#X32sZmlsZQ%3D%3D?line=3'>4</a>\u001b[0m counter_eq \u001b[39m=\u001b[39m \u001b[39m0\u001b[39m\n\u001b[0;32m      <a href='vscode-notebook-cell:/c%3A/Users/mario/Github/UPC/IHLT%20-%20Introduction%20to%20Human%20Language%20Technology/IHLTscratch.ipynb#X32sZmlsZQ%3D%3D?line=4'>5</a>\u001b[0m \u001b[39mfor\u001b[39;00m pair \u001b[39min\u001b[39;00m \u001b[39mzip\u001b[39m(tp1, tp2):\n\u001b[1;32m----> <a href='vscode-notebook-cell:/c%3A/Users/mario/Github/UPC/IHLT%20-%20Introduction%20to%20Human%20Language%20Technology/IHLTscratch.ipynb#X32sZmlsZQ%3D%3D?line=5'>6</a>\u001b[0m   no_dups \u001b[39m=\u001b[39m unigram_similarity_mine(pair[\u001b[39m0\u001b[39;49m], pair[\u001b[39m1\u001b[39;49m], \u001b[39mTrue\u001b[39;49;00m)\n\u001b[0;32m      <a href='vscode-notebook-cell:/c%3A/Users/mario/Github/UPC/IHLT%20-%20Introduction%20to%20Human%20Language%20Technology/IHLTscratch.ipynb#X32sZmlsZQ%3D%3D?line=6'>7</a>\u001b[0m   w_dups \u001b[39m=\u001b[39m unigram_similarity_mine(pair[\u001b[39m0\u001b[39m], pair[\u001b[39m1\u001b[39m], \u001b[39mFalse\u001b[39;00m)\n\u001b[0;32m      <a href='vscode-notebook-cell:/c%3A/Users/mario/Github/UPC/IHLT%20-%20Introduction%20to%20Human%20Language%20Technology/IHLTscratch.ipynb#X32sZmlsZQ%3D%3D?line=7'>8</a>\u001b[0m   \u001b[39mif\u001b[39;00m no_dups \u001b[39m>\u001b[39m w_dups:\n",
            "\u001b[1;31mTypeError\u001b[0m: unigram_similarity_mine() missing 1 required positional argument: 'consider_importance'"
          ]
        }
      ],
      "source": [
        "\n",
        "# conclusion: higher similarity scores with duplicates not removed\n",
        "\n",
        "counter = 0\n",
        "counter_eq = 0\n",
        "for pair in zip(tp1, tp2):\n",
        "  no_dups = unigram_similarity_mine(pair[0], pair[1], True)\n",
        "  w_dups = unigram_similarity_mine(pair[0], pair[1], False)\n",
        "  if no_dups > w_dups:\n",
        "    counter +=1\n",
        "  elif no_dups == w_dups:\n",
        "    counter_eq +=1\n",
        "\n",
        "print(counter)\n",
        "print(counter_eq)\n",
        "print(len(tp1) - counter - counter_eq)\n",
        "\n"
      ]
    },
    {
      "cell_type": "code",
      "execution_count": 24,
      "metadata": {
        "colab": {
          "base_uri": "https://localhost:8080/",
          "height": 253
        },
        "id": "LgcCBs7taPRc",
        "outputId": "4cdb87d0-25bc-46ee-abb6-0ad58cc2c3f5"
      },
      "outputs": [
        {
          "name": "stdout",
          "output_type": "stream",
          "text": [
            "0\n"
          ]
        },
        {
          "ename": "NameError",
          "evalue": "name 'trigram_similarity' is not defined",
          "output_type": "error",
          "traceback": [
            "\u001b[1;31m---------------------------------------------------------------------------\u001b[0m",
            "\u001b[1;31mNameError\u001b[0m                                 Traceback (most recent call last)",
            "\u001b[1;32mc:\\Users\\mario\\Github\\UPC\\IHLT - Introduction to Human Language Technology\\IHLTscratch.ipynb Celda 25\u001b[0m in \u001b[0;36m<cell line: 15>\u001b[1;34m()\u001b[0m\n\u001b[0;32m     <a href='vscode-notebook-cell:/c%3A/Users/mario/Github/UPC/IHLT%20-%20Introduction%20to%20Human%20Language%20Technology/IHLTscratch.ipynb#X33sZmlsZQ%3D%3D?line=14'>15</a>\u001b[0m \u001b[39mfor\u001b[39;00m n,(c1, c2, m1, m2, s1, s2) \u001b[39min\u001b[39;00m \u001b[39menumerate\u001b[39m(\u001b[39mzip\u001b[39m(cln1, cln2, tp1, tp2, syn1, syn2)):\n\u001b[0;32m     <a href='vscode-notebook-cell:/c%3A/Users/mario/Github/UPC/IHLT%20-%20Introduction%20to%20Human%20Language%20Technology/IHLTscratch.ipynb#X33sZmlsZQ%3D%3D?line=15'>16</a>\u001b[0m   \u001b[39mprint\u001b[39m(n)\n\u001b[1;32m---> <a href='vscode-notebook-cell:/c%3A/Users/mario/Github/UPC/IHLT%20-%20Introduction%20to%20Human%20Language%20Technology/IHLTscratch.ipynb#X33sZmlsZQ%3D%3D?line=16'>17</a>\u001b[0m   clean \u001b[39m=\u001b[39m trigram_similarity(c1, c2, \u001b[39mFalse\u001b[39;00m)\n\u001b[0;32m     <a href='vscode-notebook-cell:/c%3A/Users/mario/Github/UPC/IHLT%20-%20Introduction%20to%20Human%20Language%20Technology/IHLTscratch.ipynb#X33sZmlsZQ%3D%3D?line=17'>18</a>\u001b[0m   lemma \u001b[39m=\u001b[39m trigram_similarity(m1, m2, \u001b[39mFalse\u001b[39;00m)\n\u001b[0;32m     <a href='vscode-notebook-cell:/c%3A/Users/mario/Github/UPC/IHLT%20-%20Introduction%20to%20Human%20Language%20Technology/IHLTscratch.ipynb#X33sZmlsZQ%3D%3D?line=18'>19</a>\u001b[0m   syns \u001b[39m=\u001b[39m trigram_similarity(s1, s2, \u001b[39mFalse\u001b[39;00m)\n",
            "\u001b[1;31mNameError\u001b[0m: name 'trigram_similarity' is not defined"
          ]
        }
      ],
      "source": [
        "# the best option is to use synsets, as the most frequent occurrence is that all methods are equal\n",
        "# but the second best option is synsets -- therefore, using synsets we will have the highest value\n",
        "# (189 + 175) / 459 of the time for unigrams\n",
        "# (266 + 116) / 459 of the time for bigrams\n",
        "# (379 + 48) / 459 of the time for trigrams -- likely because there are fewer trigrams so 0 == 0\n",
        "\n",
        "results = []\n",
        "clean_counter = 0\n",
        "lemma_counter = 0\n",
        "syns_counter = 0\n",
        "all_equal_ctr = 0\n",
        "cln_lem_ctr = 0\n",
        "lem_syns_ctr = 0\n",
        "cln_syns_ctr = 0\n",
        "for n,(c1, c2, m1, m2, s1, s2) in enumerate(zip(cln1, cln2, tp1, tp2, syn1, syn2)):\n",
        "  print(n)\n",
        "  clean = trigram_similarity(c1, c2, False)\n",
        "  lemma = trigram_similarity(m1, m2, False)\n",
        "  syns = trigram_similarity(s1, s2, False)\n",
        "  if clean > lemma and clean > syns:\n",
        "    clean_counter +=1\n",
        "  elif lemma > clean and lemma > syns:\n",
        "    lemma_counter += 1\n",
        "  elif syns > lemma and syns > clean:\n",
        "    syns_counter +=1\n",
        "  elif clean == lemma == syns:\n",
        "    all_equal_ctr += 1\n",
        "  elif clean == lemma:\n",
        "    cln_lem_ctr +=1\n",
        "  elif lemma == syns:\n",
        "    lem_syns_ctr += 1\n",
        "  elif clean == syns:\n",
        "    cln_syns_ctr += 1\n",
        "\n",
        "  results.append(np.array([clean, lemma, syns]).argmax())\n",
        "\n",
        "print(Counter(results))\n",
        "print(clean_counter, lemma_counter, syns_counter)\n",
        "print(all_equal_ctr, cln_lem_ctr, lem_syns_ctr, cln_syns_ctr)\n",
        "\n",
        "sum([all_equal_ctr, cln_lem_ctr, lem_syns_ctr, cln_syns_ctr, clean_counter, lemma_counter, syns_counter])"
      ]
    },
    {
      "cell_type": "code",
      "execution_count": 25,
      "metadata": {
        "id": "s5Yvq1rMk9Y8"
      },
      "outputs": [
        {
          "ename": "TypeError",
          "evalue": "unigram_similarity_mine() missing 1 required positional argument: 'consider_importance'",
          "output_type": "error",
          "traceback": [
            "\u001b[1;31m---------------------------------------------------------------------------\u001b[0m",
            "\u001b[1;31mTypeError\u001b[0m                                 Traceback (most recent call last)",
            "\u001b[1;32mc:\\Users\\mario\\Github\\UPC\\IHLT - Introduction to Human Language Technology\\IHLTscratch.ipynb Celda 26\u001b[0m in \u001b[0;36m<cell line: 1>\u001b[1;34m()\u001b[0m\n\u001b[1;32m----> <a href='vscode-notebook-cell:/c%3A/Users/mario/Github/UPC/IHLT%20-%20Introduction%20to%20Human%20Language%20Technology/IHLTscratch.ipynb#X34sZmlsZQ%3D%3D?line=0'>1</a>\u001b[0m clean \u001b[39m=\u001b[39m unigram_similarity_mine(cln1[\u001b[39m90\u001b[39;49m], cln2[\u001b[39m90\u001b[39;49m], \u001b[39mFalse\u001b[39;49;00m)\n\u001b[0;32m      <a href='vscode-notebook-cell:/c%3A/Users/mario/Github/UPC/IHLT%20-%20Introduction%20to%20Human%20Language%20Technology/IHLTscratch.ipynb#X34sZmlsZQ%3D%3D?line=1'>2</a>\u001b[0m lemma \u001b[39m=\u001b[39m unigram_similarity_mine(tp1[\u001b[39m90\u001b[39m], tp2[\u001b[39m90\u001b[39m], \u001b[39mFalse\u001b[39;00m)\n\u001b[0;32m      <a href='vscode-notebook-cell:/c%3A/Users/mario/Github/UPC/IHLT%20-%20Introduction%20to%20Human%20Language%20Technology/IHLTscratch.ipynb#X34sZmlsZQ%3D%3D?line=2'>3</a>\u001b[0m syns \u001b[39m=\u001b[39m unigram_similarity_mine(syn1[\u001b[39m90\u001b[39m], syn2[\u001b[39m90\u001b[39m], \u001b[39mFalse\u001b[39;00m)\n",
            "\u001b[1;31mTypeError\u001b[0m: unigram_similarity_mine() missing 1 required positional argument: 'consider_importance'"
          ]
        }
      ],
      "source": [
        "clean = unigram_similarity_mine(cln1[90], cln2[90], False)\n",
        "lemma = unigram_similarity_mine(tp1[90], tp2[90], False)\n",
        "syns = unigram_similarity_mine(syn1[90], syn2[90], False)"
      ]
    },
    {
      "cell_type": "code",
      "execution_count": 26,
      "metadata": {
        "id": "KVnE0gXdlPXj"
      },
      "outputs": [
        {
          "ename": "NameError",
          "evalue": "name 'lemma' is not defined",
          "output_type": "error",
          "traceback": [
            "\u001b[1;31m---------------------------------------------------------------------------\u001b[0m",
            "\u001b[1;31mNameError\u001b[0m                                 Traceback (most recent call last)",
            "\u001b[1;32mc:\\Users\\mario\\Github\\UPC\\IHLT - Introduction to Human Language Technology\\IHLTscratch.ipynb Celda 27\u001b[0m in \u001b[0;36m<cell line: 1>\u001b[1;34m()\u001b[0m\n\u001b[1;32m----> <a href='vscode-notebook-cell:/c%3A/Users/mario/Github/UPC/IHLT%20-%20Introduction%20to%20Human%20Language%20Technology/IHLTscratch.ipynb#X35sZmlsZQ%3D%3D?line=0'>1</a>\u001b[0m clean,lemma,syns\n",
            "\u001b[1;31mNameError\u001b[0m: name 'lemma' is not defined"
          ]
        }
      ],
      "source": [
        "clean,lemma,syns"
      ]
    },
    {
      "cell_type": "code",
      "execution_count": 27,
      "metadata": {
        "id": "vyZONUWMKSwV"
      },
      "outputs": [
        {
          "data": {
            "text/plain": [
              "0.7692307692307693"
            ]
          },
          "execution_count": 27,
          "metadata": {},
          "output_type": "execute_result"
        }
      ],
      "source": [
        "10/13"
      ]
    },
    {
      "cell_type": "code",
      "execution_count": 28,
      "metadata": {
        "id": "DbIE_3se2Z8e"
      },
      "outputs": [
        {
          "data": {
            "text/plain": [
              "0.5625"
            ]
          },
          "execution_count": 28,
          "metadata": {},
          "output_type": "execute_result"
        }
      ],
      "source": [
        "9/16"
      ]
    },
    {
      "cell_type": "code",
      "execution_count": 29,
      "metadata": {
        "colab": {
          "base_uri": "https://localhost:8080/"
        },
        "id": "MFoXUERS5_m5",
        "outputId": "b6e9f541-a886-4da7-a8c3-f8a7ddcd2573"
      },
      "outputs": [
        {
          "data": {
            "text/plain": [
              "0.46153846153846156"
            ]
          },
          "execution_count": 29,
          "metadata": {},
          "output_type": "execute_result"
        }
      ],
      "source": [
        "6/13"
      ]
    },
    {
      "cell_type": "code",
      "execution_count": 30,
      "metadata": {
        "id": "gbL9Zfvj_M5b"
      },
      "outputs": [],
      "source": [
        "def bigram_similarity(sentence1, sentence2, remove_duplicates):\n",
        "  bigrams1 = list(nltk.bigrams(sentence1))\n",
        "  bigrams2 = list(nltk.bigrams(sentence2))\n",
        "  if remove_duplicates:\n",
        "    bigrams1 = list(set(bigrams1))\n",
        "    bigrams2 = list(set(bigrams2))\n",
        "  total_bigrams = len(bigrams1) + len(bigrams2)\n",
        "  used_bigrams = []\n",
        "  count = 0\n",
        "  for bigram in bigrams1:\n",
        "    if bigram in bigrams2 and bigram not in used_bigrams:\n",
        "      count += bigrams1.count(bigram)\n",
        "      count += bigrams2.count(bigram)\n",
        "    used_bigrams.append(bigram)\n",
        "  print(bigrams1)\n",
        "  print(bigrams2)\n",
        "  print(total_bigrams)\n",
        "  if total_bigrams == 0:\n",
        "    return 0\n",
        "  else:\n",
        "    sim = count / total_bigrams\n",
        "    return sim"
      ]
    },
    {
      "cell_type": "code",
      "execution_count": 31,
      "metadata": {
        "colab": {
          "base_uri": "https://localhost:8080/"
        },
        "id": "cH_Kq8rrB3-e",
        "outputId": "8311bbc5-b73e-4427-cb7f-c2ebbca8213b"
      },
      "outputs": [
        {
          "name": "stdout",
          "output_type": "stream",
          "text": [
            "[('increases', 'power'), ('power', 'big'), ('big', 'countries'), ('countries', 'expense'), ('expense', 'small'), ('small', 'countries')]\n",
            "[('effect', 'increasing'), ('increasing', 'power'), ('power', 'large'), ('large', 'countries'), ('countries', 'expense'), ('expense', 'smaller'), ('smaller', 'countries')]\n",
            "13\n"
          ]
        },
        {
          "data": {
            "text/plain": [
              "0.15384615384615385"
            ]
          },
          "execution_count": 31,
          "metadata": {},
          "output_type": "execute_result"
        }
      ],
      "source": [
        "bigram_similarity(sent1, sent2, False)"
      ]
    },
    {
      "cell_type": "code",
      "execution_count": 32,
      "metadata": {
        "colab": {
          "base_uri": "https://localhost:8080/"
        },
        "id": "24FGWA1RB9Tk",
        "outputId": "25cbe7f9-b926-45a4-c306-c98d579745a7"
      },
      "outputs": [
        {
          "data": {
            "text/plain": [
              "0.13333333333333333"
            ]
          },
          "execution_count": 32,
          "metadata": {},
          "output_type": "execute_result"
        }
      ],
      "source": [
        "2/15"
      ]
    },
    {
      "cell_type": "code",
      "execution_count": 33,
      "metadata": {
        "id": "Vh1_yhrNEjfA"
      },
      "outputs": [],
      "source": [
        "def trigram_similarity(sentence1, sentence2, remove_duplicates):\n",
        "  trigrams1 = list(nltk.trigrams(sentence1))\n",
        "  trigrams2 = list(nltk.trigrams(sentence2))\n",
        "  if remove_duplicates:\n",
        "    trigrams1 = list(set(trigrams1))\n",
        "    trigrams2 = list(set(trigrams2))\n",
        "  total_trigrams = len(trigrams1) + len(trigrams2)\n",
        "  used_trigrams = []\n",
        "  count = 0\n",
        "  for trigram in trigrams1:\n",
        "    if trigram in trigrams2 and trigram not in used_trigrams:\n",
        "      count += trigrams1.count(trigram)\n",
        "      count += trigrams2.count(trigram)\n",
        "    used_trigrams.append(trigram)\n",
        "  print(trigrams1)\n",
        "  print(trigrams2)\n",
        "  print(count)\n",
        "  if total_trigrams == 0:\n",
        "    return 0\n",
        "  else:\n",
        "    sim = count / total_trigrams\n",
        "    return sim"
      ]
    },
    {
      "cell_type": "code",
      "execution_count": 34,
      "metadata": {
        "colab": {
          "base_uri": "https://localhost:8080/"
        },
        "id": "gAj5hgLIFNgL",
        "outputId": "58111cda-c830-475e-ffe9-ec20bc7f8d01"
      },
      "outputs": [
        {
          "name": "stdout",
          "output_type": "stream",
          "text": [
            "[('increases', 'power', 'big'), ('power', 'big', 'countries'), ('big', 'countries', 'expense'), ('countries', 'expense', 'small'), ('expense', 'small', 'countries')]\n",
            "[('effect', 'increasing', 'power'), ('increasing', 'power', 'large'), ('power', 'large', 'countries'), ('large', 'countries', 'expense'), ('countries', 'expense', 'smaller'), ('expense', 'smaller', 'countries')]\n",
            "0\n"
          ]
        },
        {
          "data": {
            "text/plain": [
              "0.0"
            ]
          },
          "execution_count": 34,
          "metadata": {},
          "output_type": "execute_result"
        }
      ],
      "source": [
        "trigram_similarity(sent1, sent2, False)"
      ]
    },
    {
      "cell_type": "code",
      "execution_count": 35,
      "metadata": {
        "colab": {
          "base_uri": "https://localhost:8080/"
        },
        "id": "Vvj8E3X3FQ3g",
        "outputId": "05bbf3f4-75ea-4d1c-cbe6-09d6030bc2c6"
      },
      "outputs": [
        {
          "data": {
            "text/plain": [
              "0.13333333333333333"
            ]
          },
          "execution_count": 35,
          "metadata": {},
          "output_type": "execute_result"
        }
      ],
      "source": [
        "2/15"
      ]
    },
    {
      "cell_type": "code",
      "execution_count": 36,
      "metadata": {
        "id": "3ThOlC8A4tjF"
      },
      "outputs": [],
      "source": [
        "def unigram_similarity_importance(sentence1, sentence2, remove_duplicates):\n",
        "  idf = get_idf(dt[0] + dt[1])  # need this to be the final cleaned sentences\n",
        "\n",
        "  if remove_duplicates:\n",
        "    sentence1 = list(set(sentence1))\n",
        "    sentence2 = list(set(sentence2))\n",
        "\n",
        "  total_words = len(sentence1) + len(sentence2)\n",
        "  used_words = []\n",
        "  count = 0\n",
        "  for word in sentence1:\n",
        "    if word in sentence2 and word not in used_words:\n",
        "      count += sentence1.count(word)\n",
        "      count += sentence2.count(word)\n",
        "    used_words.append(word)\n",
        "\n",
        "  sim = count / total_words\n",
        "\n",
        "  return sim"
      ]
    },
    {
      "cell_type": "markdown",
      "metadata": {
        "id": "xqcLw-B88gGh"
      },
      "source": [
        "new code as of 12/15"
      ]
    },
    {
      "cell_type": "code",
      "execution_count": 40,
      "metadata": {
        "id": "FM83Heoh8EAO"
      },
      "outputs": [],
      "source": [
        "def get_idf(sentences):\n",
        "  counterDict = {}\n",
        "  total_words = 0\n",
        "\n",
        "  for sentence in sentences:\n",
        "    for word in sentence:\n",
        "      if word in counterDict.keys():\n",
        "        counterDict[word] += 1\n",
        "      else:\n",
        "        counterDict[word] = 1\n",
        "      total_words += 1\n",
        "  \n",
        "  idf = {}\n",
        "  for word in counterDict.keys():\n",
        "    idf[word] = math.log(float(len(sentences)) / float(counterDict[word])) \n",
        "  return idf"
      ]
    },
    {
      "cell_type": "code",
      "execution_count": 41,
      "metadata": {
        "colab": {
          "base_uri": "https://localhost:8080/"
        },
        "id": "PQaEZmyFs2su",
        "outputId": "0815be57-ef3a-4db6-d1ad-6b214221239f"
      },
      "outputs": [
        {
          "name": "stdout",
          "output_type": "stream",
          "text": [
            "2.257849199152654\n",
            "6.822197390620491\n"
          ]
        }
      ],
      "source": [
        "idf = get_idf(tp1 + tp2)\n",
        "print(min(idf.values()))\n",
        "print(max(idf.values()))"
      ]
    },
    {
      "cell_type": "code",
      "execution_count": 42,
      "metadata": {
        "id": "1JqIhE418MIy"
      },
      "outputs": [],
      "source": [
        "def unigram_similarity_mine(sentence1, sentence2, remove_duplicates, consider_importance, corpus):\n",
        "  if remove_duplicates:\n",
        "    sentence1 = list(set(sentence1))\n",
        "    sentence2 = list(set(sentence2))\n",
        "\n",
        "  if consider_importance:\n",
        "    idf = get_idf(corpus)\n",
        "\n",
        "  total_words = len(sentence1) + len(sentence2)\n",
        "  used_words = []\n",
        "  count = 0\n",
        "  importance_vals = []\n",
        "  for word in sentence1:\n",
        "    if word in sentence2 and word not in used_words:\n",
        "      if consider_importance:\n",
        "        tf1 = float(sentence1.count(word)) / len(sentence1)\n",
        "        tf2 = float(sentence2.count(word)) / len(sentence2)\n",
        "        importance1 = tf1 * idf[word]\n",
        "        importance2 = tf2 * idf[word]\n",
        "        importance_vals.append(importance1)\n",
        "        importance_vals.append(importance2)\n",
        "        count += (sentence1.count(word) * importance1)\n",
        "        count += (sentence2.count(word) * importance2)\n",
        "      else:\n",
        "        count += sentence1.count(word)\n",
        "        count += sentence2.count(word)\n",
        "        importance_vals.append(1)\n",
        "    used_words.append(word)\n",
        "\n",
        "  if importance_vals == []:\n",
        "    importance_vals = [1]\n",
        "  max_importance = max(importance_vals)\n",
        "  #print(max_importance)\n",
        "  sim = (count / max_importance) / total_words\n",
        "  print(sim)\n",
        "  return sim"
      ]
    },
    {
      "cell_type": "code",
      "execution_count": 43,
      "metadata": {
        "colab": {
          "base_uri": "https://localhost:8080/"
        },
        "id": "tMzzUnKL8yGf",
        "outputId": "35563d6f-e9d0-45d1-bfd0-fb3e288a8488"
      },
      "outputs": [
        {
          "name": "stdout",
          "output_type": "stream",
          "text": [
            "0.391982344488564\n",
            "0.9392995144631895\n",
            "0.4154170579443992\n",
            "0.7044918319588901\n",
            "0.9931240849675144\n",
            "0.28443193250623927\n",
            "0.2479217252584624\n",
            "0.7454160566450097\n",
            "0.3897365131235611\n",
            "0.7044918319588901\n",
            "0.6607690932262013\n",
            "0.5688340177975626\n",
            "0.7149084935968805\n",
            "0.41319836076480376\n",
            "0.16666666666666663\n",
            "1.0\n",
            "0.41665145173146856\n",
            "0.7466338228288781\n",
            "0.5774455966173674\n",
            "0.7743086544535074\n",
            "0.31804733849790523\n",
            "1.0\n",
            "0.5688340177975626\n",
            "1.0\n",
            "0.9387523422525997\n",
            "0.3856952921394077\n",
            "0.2857142857142857\n",
            "0.25\n",
            "0.6656422767775366\n",
            "0.6089511189318298\n",
            "0.3333333333333333\n",
            "0.5\n",
            "0.33333333333333337\n",
            "0.31804733849790523\n",
            "0.5219581019415684\n",
            "0.7108753456017527\n",
            "0.3333333333333333\n",
            "0.4584203042027487\n",
            "0.9392995144631895\n",
            "0.8394557693504157\n",
            "0.3021407850700522\n",
            "1.0\n",
            "0.7804804538376469\n",
            "0.46484815586040423\n",
            "0.32612425266056205\n",
            "0.7044918319588901\n",
            "0.6192024684901926\n",
            "0.3527841100397076\n",
            "1.0\n",
            "0.7149084935968805\n",
            "1.0\n",
            "0.5774455966173674\n",
            "0.41665145173146856\n",
            "0.28443193250623927\n",
            "0.5255781038670189\n",
            "0.7466338228288781\n",
            "0.8848750969147176\n",
            "0.2\n",
            "0.7129630572160006\n",
            "0.9387523422525997\n",
            "0.36256894208406265\n",
            "0.6732964003871\n",
            "0.16666666666666669\n",
            "0.8394557693504157\n",
            "0.5275168704585991\n",
            "0.2738497059376037\n",
            "0.6192024684901926\n",
            "0.6192024684901926\n",
            "0.6636563226860381\n",
            "0.5891343503387124\n",
            "0.8848750969147176\n",
            "0.4700878121343019\n",
            "0.7804804538376469\n",
            "0.2844045876128599\n",
            "0.7129630572160006\n",
            "0.9387523422525997\n",
            "0.3333333333333333\n",
            "1.0\n",
            "0.4977080283225048\n",
            "0.5541415510210936\n",
            "0.16666666666666669\n",
            "0.6192024684901926\n",
            "0.49375913464426247\n",
            "0.9931240849675144\n",
            "0.49375913464426247\n",
            "1.0\n",
            "0.8394557693504157\n",
            "0.41665145173146856\n",
            "0.6109367830223612\n",
            "0.9387523422525997\n",
            "0.8848750969147176\n",
            "0.37562734008537996\n",
            "0.3333333333333333\n",
            "0.5774455966173674\n",
            "0.2844045876128599\n",
            "0.6192024684901926\n",
            "0.41665145173146856\n",
            "0.32612425266056205\n",
            "0.7129630572160006\n",
            "0.39207173987206506\n",
            "0.4664408910175187\n",
            "0.3261242526605621\n",
            "0.9931240849675144\n",
            "0.9499020399004409\n",
            "0.37562734008537996\n",
            "0.49480177643544504\n",
            "0.5541415510210935\n",
            "1.0\n",
            "0.9499020399004409\n",
            "0.6656422767775366\n",
            "0.3021407850700522\n",
            "0.7044918319588901\n",
            "1.0\n",
            "0.45637616158414096\n",
            "0.7466338228288781\n",
            "1.0\n",
            "0.46178462585091135\n",
            "0.7044918319588901\n",
            "0.19819379361162295\n",
            "0.6216338228288781\n",
            "0.525878276119532\n",
            "0.7129630572160006\n",
            "0.8394557693504157\n",
            "0.6666666666666667\n",
            "0.8848750969147176\n",
            "0.5774455966173674\n",
            "0.31566324119562744\n",
            "0.7466338228288781\n",
            "0.49375913464426247\n",
            "0.41665145173146856\n",
            "0.7129630572160006\n",
            "0.48398979280198445\n",
            "0.7804804538376469\n",
            "0.3333333333333333\n",
            "0.5255427636377358\n",
            "0.7044918319588901\n",
            "0.49375913464426247\n",
            "0.5312550352690333\n",
            "0.5774455966173674\n",
            "0.6860815992787863\n",
            "1.0\n",
            "0.42746527213853075\n",
            "0.19819379361162293\n",
            "0.9931240849675144\n",
            "0.2589778157743305\n",
            "0.7149084935968805\n",
            "0.2844045876128599\n",
            "0.16666666666666666\n",
            "0.6656422767775366\n",
            "0.1\n",
            "0.3333333333333333\n",
            "0.8848750969147176\n",
            "0.7499999999999999\n",
            "0.8848750969147176\n",
            "0.8485421360560652\n",
            "0.8394557693504157\n",
            "0.3923283953257749\n",
            "0.5616869898751929\n",
            "0.32078860851168783\n",
            "1.0\n",
            "0.3816568061974863\n",
            "0.2844045876128599\n",
            "0.19819379361162295\n",
            "0.37562734008537996\n",
            "0.19819379361162295\n",
            "0.4707455335542517\n",
            "0.2589778157743305\n",
            "0.495576819919651\n",
            "0.9387523422525997\n",
            "0.25\n",
            "0.5541415510210936\n",
            "0.9499020399004409\n",
            "0.5596371795669437\n",
            "0.46178462585091135\n",
            "0.23405639404856615\n",
            "0.6607690932262014\n",
            "0.3787048886998709\n",
            "0.4154170579443992\n",
            "0.48398979280198445\n",
            "0.3333333333333333\n",
            "1.0\n",
            "0.9499020399004409\n",
            "0.6656422767775366\n",
            "0.14285714285714282\n",
            "0.5166919895077001\n",
            "0.4615772616512742\n",
            "0.7044918319588901\n",
            "0.5555165710841998\n",
            "0.5555165710841998\n",
            "0.6666666666666667\n",
            "0.47402834816463546\n",
            "1.0\n",
            "1.0\n",
            "0.8394557693504157\n",
            "0.4707455335542518\n",
            "0.25\n",
            "0.6368013830230295\n",
            "0.9931240849675144\n",
            "0.7804804538376469\n",
            "1.0\n",
            "0.7129630572160006\n",
            "0.9387523422525997\n",
            "0.4615772616512742\n",
            "0.9387523422525997\n",
            "0.8394557693504157\n",
            "0.19819379361162295\n",
            "0.36759047807012685\n",
            "0.46357787498252173\n",
            "0.4011549121573942\n",
            "0.9499020399004409\n",
            "0.8848750969147176\n",
            "0.45637616158414096\n",
            "0.0\n",
            "0.4906147601690081\n",
            "0.3675904780701269\n",
            "0.46357787498252173\n",
            "0.9931240849675144\n",
            "0.5541415510210935\n",
            "0.36256894208406265\n",
            "0.6607690932262013\n",
            "0.19819379361162295\n",
            "0.16666666666666666\n",
            "0.5312550352690334\n",
            "0.2589778157743305\n",
            "1.0\n",
            "0.41665145173146856\n",
            "0.19819379361162295\n",
            "0.8394557693504157\n",
            "0.5774455966173674\n",
            "0.3816568061974864\n",
            "0.8394557693504157\n",
            "0.3333333333333333\n",
            "0.48398979280198445\n",
            "0.4154170579443992\n",
            "0.8394557693504157\n",
            "0.5052219075359967\n",
            "0.14285714285714285\n",
            "0.3816568061974864\n",
            "0.4480711311590755\n",
            "0.6109367830223611\n",
            "0.5541415510210935\n",
            "0.3856952921394077\n",
            "0.5330753040200212\n",
            "0.7129630572160006\n",
            "0.4154170579443992\n",
            "0.9392995144631895\n",
            "0.5312550352690333\n",
            "0.34410059685258076\n",
            "0.7044918319588901\n",
            "0.3816568061974864\n",
            "0.19819379361162295\n",
            "0.8394557693504157\n",
            "0.6345612465765859\n",
            "0.9387523422525997\n",
            "0.6656422767775365\n",
            "0.4011549121573942\n",
            "0.5330753040200212\n",
            "0.47402834816463546\n",
            "0.32406129844711007\n",
            "0.4154170579443992\n",
            "0.8848750969147176\n",
            "0.46357787498252173\n",
            "0.49375913464426247\n",
            "0.32406129844711007\n",
            "0.5774455966173674\n",
            "0.4567133391988723\n",
            "0.31566324119562744\n",
            "0.32406129844711007\n",
            "0.32406129844711007\n",
            "0.4615772616512742\n",
            "0.6656422767775366\n",
            "0.6368013830230292\n",
            "0.3333333333333333\n",
            "0.48398979280198445\n",
            "0.34410059685258076\n",
            "0.3156632411956275\n",
            "0.9931240849675144\n",
            "0.3021407850700522\n",
            "0.7044918319588901\n",
            "0.49375913464426247\n",
            "0.5219581019415684\n",
            "0.3787048886998709\n",
            "0.9499020399004409\n",
            "0.8485421360560652\n",
            "0.41665145173146856\n",
            "0.7224028799052246\n",
            "0.37562734008537996\n",
            "0.6607690932262014\n",
            "0.2844045876128599\n",
            "0.49375913464426247\n",
            "0.47678736229231267\n",
            "0.9931240849675144\n",
            "0.5541415510210935\n",
            "0.25\n",
            "0.2844045876128599\n",
            "0.0\n",
            "0.7235421360560652\n",
            "0.7510018738020798\n",
            "0.4615772616512742\n",
            "0.7466338228288781\n",
            "0.7129630572160006\n",
            "0.5541415510210936\n",
            "0.5219581019415684\n",
            "0.46357787498252173\n",
            "0.8485421360560652\n",
            "0.25\n",
            "0.49375913464426247\n",
            "1.0\n",
            "0.9392995144631895\n",
            "0.6154492197624596\n",
            "1.0\n",
            "0.5541415510210935\n",
            "0.9499020399004409\n",
            "0.48398979280198445\n",
            "0.3333333333333333\n",
            "0.5312550352690334\n",
            "0.46737563494866685\n",
            "0.9387523422525997\n",
            "0.5541415510210935\n",
            "0.4943384981903097\n",
            "0.19819379361162295\n",
            "0.8485421360560652\n",
            "0.3317358558541788\n",
            "0.36295087509409174\n",
            "0.6192024684901926\n",
            "0.6607690932262013\n",
            "0.7044918319588901\n",
            "0.7129630572160006\n",
            "0.47402834816463546\n",
            "1.0\n",
            "0.9392995144631895\n",
            "0.2738497059376037\n",
            "0.6607690932262013\n",
            "0.7044918319588901\n",
            "0.5596371795669437\n",
            "0.0\n",
            "0.2\n",
            "0.6224203724112354\n",
            "0.7466338228288781\n",
            "0.7235421360560653\n",
            "0.3816568061974864\n",
            "0.9499020399004409\n",
            "0.8394557693504157\n",
            "0.5219581019415684\n",
            "0.7129630572160006\n",
            "0.3333333333333333\n",
            "0.41665145173146856\n",
            "0.5555165710841998\n",
            "0.5935245873546314\n",
            "0.7044918319588901\n",
            "0.9189401739396845\n",
            "1.0\n",
            "0.49375913464426247\n",
            "0.25\n",
            "0.2738497059376037\n",
            "0.41665145173146856\n",
            "0.2\n",
            "0.2670183549646319\n",
            "1.0\n",
            "0.25\n",
            "0.9931240849675144\n",
            "0.8848750969147176\n",
            "1.0\n",
            "0.5688340177975626\n",
            "1.0\n",
            "0.4567133391988723\n",
            "0.46357787498252173\n",
            "0.2844045876128599\n",
            "0.41665145173146856\n",
            "0.9387523422525997\n",
            "0.49375913464426247\n",
            "0.32612425266056205\n",
            "0.1\n",
            "0.8848750969147176\n",
            "0.3063253983917724\n",
            "0.3816568061974863\n",
            "0.7499999999999999\n",
            "0.9931240849675144\n",
            "1.0\n",
            "0.2844045876128599\n",
            "0.3302579457615917\n",
            "0.4154170579443992\n",
            "0.3333333333333333\n",
            "0.33333333333333337\n",
            "0.5774455966173674\n",
            "0.3333333333333333\n",
            "0.19819379361162295\n",
            "0.6656422767775366\n",
            "0.33333333333333337\n",
            "0.2844045876128599\n",
            "0.31804733849790523\n",
            "0.7129630572160006\n",
            "0.25\n",
            "0.8848750969147176\n",
            "0.6109367830223612\n",
            "1.0\n",
            "0.6368013830230295\n",
            "0.41707276195812126\n",
            "0.3156632411956275\n",
            "0.6147063759245337\n",
            "0.6607690932262014\n",
            "1.0\n",
            "0.49375913464426247\n",
            "0.8848750969147176\n",
            "0.16666666666666666\n",
            "0.19819379361162295\n",
            "0.5572012101451507\n",
            "1.0\n",
            "0.9387523422525997\n",
            "0.7149084935968805\n",
            "0.6089511189318298\n",
            "0.46357787498252173\n",
            "0.33333333333333337\n",
            "0.663674509181225\n",
            "0.5\n",
            "0.2857142857142857\n",
            "0.2844045876128599\n",
            "0.8485421360560652\n",
            "0.2844045876128599\n",
            "0.37562734008537996\n",
            "0.6606459787054098\n",
            "0.4382318967662766\n",
            "0.2844045876128599\n",
            "0.9499020399004409\n",
            "0.19819379361162295\n",
            "0.2844045876128599\n",
            "0.9931240849675144\n",
            "1.0\n",
            "0.37562734008537996\n",
            "0.30763976414563055\n",
            "0.6656422767775366\n",
            "0.9392995144631895\n",
            "0.3923283953257749\n",
            "0.9387523422525997\n",
            "0.5312550352690333\n",
            "0.4161354839742888\n",
            "0.6198965816084344\n",
            "0.8848750969147176\n",
            "0.456376161584141\n",
            "0.5541415510210935\n",
            "0.9392995144631895\n",
            "0.9931240849675144\n",
            "0.7044918319588901\n",
            "0.395841421148356\n",
            "0.7044918319588901\n",
            "0.38717721160007623\n",
            "0.49375913464426247\n",
            "0.9931240849675144\n",
            "0.8485421360560652\n",
            "0.8485421360560652\n",
            "0.5541415510210935\n",
            "0.48398979280198445\n",
            "0.0\n",
            "0.4154170579443992\n",
            "0.46967057319337907\n",
            "0.7044918319588901\n",
            "0.41665145173146856\n",
            "0.28571428571428575\n",
            "0.47402834816463546\n"
          ]
        }
      ],
      "source": [
        "corpus = tp1+tp2\n",
        "for i in range(459):\n",
        "  unigram_similarity_mine(tp1[i], tp2[i], True, True, corpus)"
      ]
    },
    {
      "cell_type": "code",
      "execution_count": 117,
      "metadata": {
        "colab": {
          "base_uri": "https://localhost:8080/"
        },
        "id": "E55Sw_mVFQ9I",
        "outputId": "3ed883fb-3741-4ead-f353-707c3934e7d8"
      },
      "outputs": [
        {
          "data": {
            "text/plain": [
              "['perhaps', 'could', 'avoid', 'catastrophe']"
            ]
          },
          "execution_count": 117,
          "metadata": {},
          "output_type": "execute_result"
        }
      ],
      "source": [
        "tp1[452]"
      ]
    },
    {
      "cell_type": "code",
      "execution_count": 118,
      "metadata": {
        "colab": {
          "base_uri": "https://localhost:8080/"
        },
        "id": "KbrOoC21F0lK",
        "outputId": "2584352a-84e7-41e3-97b9-c6c8a62a37f1"
      },
      "outputs": [
        {
          "data": {
            "text/plain": [
              "['might', 'able', 'prevent', 'disaster']"
            ]
          },
          "execution_count": 118,
          "metadata": {},
          "output_type": "execute_result"
        }
      ],
      "source": [
        "tp2[452]"
      ]
    },
    {
      "cell_type": "code",
      "execution_count": 122,
      "metadata": {
        "colab": {
          "base_uri": "https://localhost:8080/"
        },
        "id": "CIigYUubF2yO",
        "outputId": "50046513-46ac-4b06-ac88-b88739cf25b8"
      },
      "outputs": [
        {
          "name": "stdout",
          "output_type": "stream",
          "text": [
            "0.6\n"
          ]
        },
        {
          "data": {
            "text/plain": [
              "0.6"
            ]
          },
          "execution_count": 122,
          "metadata": {},
          "output_type": "execute_result"
        }
      ],
      "source": [
        "unigram_similarity_mine(tp1[451],tp2[451], True, False, corpus)"
      ]
    },
    {
      "cell_type": "code",
      "execution_count": null,
      "metadata": {
        "id": "0yap_Z_OGCZE"
      },
      "outputs": [],
      "source": []
    }
  ],
  "metadata": {
    "colab": {
      "authorship_tag": "ABX9TyPUeGb7tQWHeAOj1eL6TQbw",
      "include_colab_link": true,
      "provenance": []
    },
    "kernelspec": {
      "display_name": "Python 3.9.13 ('IHLT')",
      "language": "python",
      "name": "python3"
    },
    "language_info": {
      "codemirror_mode": {
        "name": "ipython",
        "version": 3
      },
      "file_extension": ".py",
      "mimetype": "text/x-python",
      "name": "python",
      "nbconvert_exporter": "python",
      "pygments_lexer": "ipython3",
      "version": "3.9.13"
    },
    "vscode": {
      "interpreter": {
        "hash": "0795eca24a98e58b2dcbec80c9554a91f94c5c7d4e675f06c8c2f85c434623a5"
      }
    }
  },
  "nbformat": 4,
  "nbformat_minor": 0
}
