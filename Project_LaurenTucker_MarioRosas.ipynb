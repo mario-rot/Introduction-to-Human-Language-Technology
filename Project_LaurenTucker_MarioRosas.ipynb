{
  "cells": [
    {
      "cell_type": "markdown",
      "metadata": {
        "id": "view-in-github",
        "colab_type": "text"
      },
      "source": [
        "<a href=\"https://colab.research.google.com/github/mario-rot/Introduction-to-Human-Language-Technology/blob/main/Project_LaurenTucker_MarioRosas.ipynb\" target=\"_parent\"><img src=\"https://colab.research.google.com/assets/colab-badge.svg\" alt=\"Open In Colab\"/></a>"
      ]
    },
    {
      "cell_type": "markdown",
      "metadata": {
        "id": "LpEp-jhafvsx"
      },
      "source": [
        "# Final Project - ILTH\n",
        "\n",
        "**Students:** Lauren Tucker & Mario Rosas !!!"
      ]
    },
    {
      "cell_type": "markdown",
      "metadata": {
        "id": "l0LXucmalIYk"
      },
      "source": [
        "## Loading Data"
      ]
    },
    {
      "cell_type": "code",
<<<<<<< HEAD
      "execution_count": 2,
      "metadata": {},
=======
      "execution_count": null,
      "metadata": {
        "id": "6UG3R_lKSsqa"
      },
>>>>>>> db3b7cda7d92a2e92ae8af0957a035d1c271ebe9
      "outputs": [],
      "source": [
        "%load_ext autoreload\n",
        "%autoreload 2"
      ]
    },
    {
      "cell_type": "code",
      "execution_count": null,
      "metadata": {
        "colab": {
          "base_uri": "https://localhost:8080/"
        },
        "id": "7zTBIq_k_3Yb",
        "outputId": "21414362-13fe-4e6a-8cc4-c4857505aa25"
      },
      "outputs": [
        {
          "name": "stdout",
          "output_type": "stream",
          "text": [
            "Cloning into 'Introduction-to-Human-Language-Technology'...\n",
            "remote: Enumerating objects: 864, done.\u001b[K\n",
            "remote: Counting objects: 100% (864/864), done.\u001b[K\n",
            "remote: Compressing objects: 100% (792/792), done.\u001b[K\n",
            "remote: Total 864 (delta 117), reused 788 (delta 67), pack-reused 0\u001b[K\n",
            "Receiving objects: 100% (864/864), 2.27 MiB | 14.46 MiB/s, done.\n",
            "Resolving deltas: 100% (117/117), done.\n",
            "Looking in indexes: https://pypi.org/simple, https://us-python.pkg.dev/colab-wheels/public/simple/\n",
            "Collecting svgling\n",
            "  Downloading svgling-0.3.1-py3-none-any.whl (21 kB)\n",
            "Collecting svgwrite\n",
            "  Downloading svgwrite-1.4.3-py3-none-any.whl (67 kB)\n",
            "\u001b[K     |████████████████████████████████| 67 kB 3.0 MB/s \n",
            "\u001b[?25hInstalling collected packages: svgwrite, svgling\n",
            "Successfully installed svgling-0.3.1 svgwrite-1.4.3\n"
          ]
        },
        {
          "data": {
            "text/plain": []
          },
          "execution_count": 1,
          "metadata": {},
          "output_type": "execute_result"
        }
      ],
      "source": [
        "%%shell\n",
        "git clone https://github.com/mario-rot/Introduction-to-Human-Language-Technology.git\n",
        "cd 'Introduction-to-Human-Language-Technology'\n",
        "mv 'Complementary Material' /content/\n",
        "\n",
        "pip install svgling"
      ]
    },
    {
      "cell_type": "code",
<<<<<<< HEAD
      "execution_count": 162,
=======
      "execution_count": null,
>>>>>>> db3b7cda7d92a2e92ae8af0957a035d1c271ebe9
      "metadata": {
        "id": "Mi9UgnrHx1NN"
      },
      "outputs": [],
      "source": [
        "# Importing the libraries to use\n",
        "import pandas as pd\n",
        "import numpy as np\n",
        "from scipy.stats import pearsonr\n",
        "import collections\n",
        "from collections import Counter\n",
        "import io\n",
        "import string\n",
        "from typing import List, Dict, Tuple\n",
        "import math\n",
        "from tqdm import tqdm\n",
        "import matplotlib.pyplot as plt\n",
        "\n",
        "import nltk\n",
        "from nltk.metrics import jaccard_distance\n",
        "from nltk.corpus.reader.wordnet import VERB, NOUN, ADJ, ADV\n",
        "from nltk.corpus import wordnet as wn\n",
        "from nltk.corpus import wordnet_ic\n",
        "brown_ic = wordnet_ic.ic('ic-brown.dat')\n",
        "import spacy\n",
        "nlp = spacy.load(\"en_core_web_sm\")\n",
        "\n",
        "from sklearn.svm import SVR\n",
        "from sklearn.neural_network import MLPRegressor\n",
        "from sklearn.ensemble import GradientBoostingRegressor\n",
        "from sklearn.pipeline import make_pipeline\n",
        "from sklearn.preprocessing import StandardScaler, MinMaxScaler\n",
        "\n",
        "\n",
        "from text_processing import text_processing, compute_metrics\n",
        "\n",
        "dt = pd.read_csv('Complementary Material/test-gold/STS.input.SMTeuroparl.txt',sep='\\t',header=None)\n",
        "dt['gs'] = pd.read_csv('Complementary Material/test-gold/STS.gs.SMTeuroparl.txt',sep='\\t',header=None)"
      ]
    },
    {
      "cell_type": "markdown",
      "metadata": {
        "id": "CWRO7TkiSsqb"
      },
      "source": [
        "# Main classes"
      ]
    },
    {
      "cell_type": "markdown",
      "metadata": {
        "id": "4H6-tQ8mSsqc"
      },
      "source": [
        "## text_processing\n",
        "This is a class where we coded different methods to get different preprocessing techniques applied to the data."
      ]
    },
    {
      "cell_type": "code",
<<<<<<< HEAD
      "execution_count": 4,
      "metadata": {},
=======
      "execution_count": null,
      "metadata": {
        "id": "ghtvVYlnSsqc"
      },
>>>>>>> db3b7cda7d92a2e92ae8af0957a035d1c271ebe9
      "outputs": [],
      "source": [
        "class text_processing(): \n",
        "    def __init__(self,\n",
        "             data: List\n",
        "             ):\n",
        "        self.data = data\n",
        "        self.cleaned_data = []\n",
        "        self.tokenized_data = []\n",
        "        self.lemmatized_data = []\n",
        "        self.most_common_lemmatized_data = []\n",
        "        self.lesk_data = []\n",
        "        self.lesk_lemmatized_data = []\n",
        "        self.name_entities_nltk_data = []\n",
        "        self.name_entities_spacy_data = []\n",
        "        self.pos_map = {'N': NOUN,\n",
        "                        'V':VERB,\n",
        "                        'J':ADJ,\n",
        "                        'R':ADV}\n",
        "        self.match = {'j':\"s\", 'j':\"a\", 'r':\"r\", 'n':\"n\", 'v':\"v\"}\n",
        "        self.correcting = {'n':'n', 'v':'v', 'j':'a', 'r':'r'}\n",
        "        self.wnl = nltk.stem.WordNetLemmatizer()\n",
        "\n",
        "    def __len__(self):\n",
        "        return len(self.data)\n",
        "\n",
        "    def clean_data(self, data = False, auto = True, lowercase = False, stopwords = False, minwords_len = False, signs = False):\n",
        "        self.cleaned_data = []\n",
        "        c_data = self.data if not data else data\n",
        "        if auto:\n",
        "            lowercase = True\n",
        "            stopwords=set(nltk.corpus.stopwords.words('english'))\n",
        "            signs = string.punctuation\n",
        "            minwords_len = 2\n",
        "            for element in c_data:\n",
        "                self.cleaned_data.append(self.clean_sentence(element, lowercase, stopwords, minwords_len, signs))\n",
        "        else: \n",
        "            for element in c_data:\n",
        "                 self.cleaned_data.append(self.clean_sentence(element, lowercase, stopwords, minwords_len, signs))\n",
        "        return self.cleaned_data\n",
        "\n",
        "    def clean_sentence(self,sentence, lowercase = True, stopwords = False, minwords_len = False, signs = False):\n",
        "        sentence = sentence.split(' ')\n",
        "        if lowercase:\n",
        "            sentence = [word.lower() for word in sentence]\n",
        "        if signs:\n",
        "            sentence = [word if not any(caracter in signs for caracter in word) else self.remove_signs(word, signs) for word in sentence]\n",
        "        if stopwords:\n",
        "            sentence = [word for word in sentence if word not in stopwords and word.isalpha()]\n",
        "        if minwords_len:\n",
        "            sentence = [word for word in sentence if len(word) > minwords_len]\n",
        "        return sentence\n",
        "\n",
        "    def tokenize_data(self, data = False):\n",
        "        self.tokenized_data = []\n",
        "        t_data = self.data if not data else data\n",
        "        for element in t_data:\n",
        "            self.tokenized_data.append(nltk.word_tokenize(element))\n",
        "        return self.tokenized_data\n",
        "\n",
        "    def frequency(self, Global = False, type_data = 'cleaned'):\n",
        "        if type_data == 'cleaned':\n",
        "            if self.cleaned_data == []:\n",
        "                print('\\n -- Data hasn\\'t been cleaned, to calculate frequency, the data is going to be cleaned with the default parameters --\\n')\n",
        "                self.clean_data()\n",
        "            f_data = self.cleaned_data\n",
        "        elif type_data == 'tokenized':\n",
        "            if self.tokenized_data == []:\n",
        "                print('\\n -- Data hasn\\'t been tokenized, to calculate frequency, the data is going to be tokenized --\\n')\n",
        "                self.tokenize_data()\n",
        "            f_data = self.tokenized_data\n",
        "        if not Global:\n",
        "            frequency = []\n",
        "            for element in f_data:\n",
        "                frequency.append(pd.Series({k:v for k,v in collections.Counter(element).most_common()}))\n",
        "            return frequency\n",
        "        else: \n",
        "            t_data = [element for sublist in f_data for element in sublist]\n",
        "            frequency = pd.Series({k:v for k,v in collections.Counter(t_data).most_common()})\n",
        "            return frequency\n",
        "\n",
        "    def lemmatize_data(self, type_data = 'cleaned', data = False, r_pos_tag = False):\n",
        "        self.lemmatized_data = []\n",
        "        if data:\n",
        "            l_data = data\n",
        "        elif type_data == 'cleaned':\n",
        "            if self.cleaned_data == []:\n",
        "                print('\\n -- Data hasn\\'t been cleaned, to lemmatize the data is going to be cleaned with the default parameters --\\n')\n",
        "                self.clean_data()\n",
        "            l_data = self.cleaned_data\n",
        "        elif type_data == 'tokenized':\n",
        "            if self.tokenized_data == []:\n",
        "                print('\\n -- Data hasn\\'t been tokenized, to lemmatize the data is going to be tokenized --\\n')\n",
        "                self.tokenize_data()\n",
        "            l_data = self.tokenized_data\n",
        "        for element in l_data:\n",
        "            self.lemmatized_data.append(self.lemmatize_sentence(element, r_pos_tag=r_pos_tag))\n",
        "        return self.lemmatized_data\n",
        "\n",
        "    def lemmatize_sentence(self,sentence, cleaned = True, r_pos_tag = False):\n",
        "        if not cleaned:\n",
        "            sentence = self.clean_data([sentence])[0]\n",
        "        tagged = nltk.pos_tag(sentence)\n",
        "        if r_pos_tag:\n",
        "            return [[self.lemmatize(self, pair), pair[1]] for pair in tagged]\n",
        "        return[self.lemmatize(self, pair) for pair in tagged]\n",
        "\n",
        "    def mc_lemmatize_data(self, type_data = 'cleaned', data = False, lemma = False):\n",
        "        self.most_common_lemmatized_data = []\n",
        "        if data:\n",
        "            l_data = data\n",
        "        elif type_data == 'cleaned':\n",
        "            if self.cleaned_data == []:\n",
        "                print('\\n -- Data hasn\\'t been cleaned, to apply most_common_lemma to data is going to be cleaned with the default parameters --\\n')\n",
        "                self.clean_data()\n",
        "            l_data = self.cleaned_data\n",
        "        elif type_data == 'tokenized':\n",
        "            if self.tokenized_data == []:\n",
        "                print('\\n -- Data hasn\\'t been tokenized, to apply most_common_lemma to data is going to be tokenized --\\n')\n",
        "                self.tokenize_data()\n",
        "            l_data = self.tokenized_data\n",
        "        for element in l_data:\n",
        "            self.most_common_lemmatized_data.append(self.most_common_lemma_sentece(element, lemma = lemma))\n",
        "        return self.most_common_lemmatized_data\n",
        "    \n",
        "    def most_common_lemma_sentece(self,sentence, cleaned = True, lemma = False):\n",
        "        if not cleaned:\n",
        "            sentence = self.clean_data([sentence])[0]\n",
        "        return[self.get_most_common_lemma(self, word, lemma) for word in nltk.pos_tag(sentence)]\n",
        "\n",
        "    def apply_lesk_data(self, type_data = 'cleaned', all = False, data = False):\n",
        "        self.lesk_data = []\n",
        "        if data:\n",
        "            ls_data = data\n",
        "        elif type_data == 'cleaned':\n",
        "            if self.cleaned_data == []:\n",
        "                print('\\n -- Data hasn\\'t been cleaned, to apply lest to data is going to be cleaned with the default parameters --\\n')\n",
        "                self.clean_data()\n",
        "            ls_data = self.cleaned_data\n",
        "        elif type_data == 'tokenized':\n",
        "            if self.tokenized_data == []:\n",
        "                print('\\n -- Data hasn\\'t been tokenized, to apply lest to data is going to be tokenized --\\n')\n",
        "                self.tokenize_data()\n",
        "            ls_data = self.tokenized_data\n",
        "        for element in ls_data:\n",
        "            self.lesk_data.append(self.apply_lesk_sentence(element, all))\n",
        "        return self.lesk_data\n",
        "\n",
        "    def apply_lesk_sentence(self, sentence, all = False):\n",
        "        pairs = nltk.pos_tag(sentence)\n",
        "        synsets = []\n",
        "        for pair in pairs:\n",
        "            word, pos = self.filter_pos(self, pair)\n",
        "            if pos:\n",
        "                synset = nltk.wsd.lesk(sentence, word, pos)\n",
        "            else:\n",
        "                synset = False\n",
        "            if synset:\n",
        "                synsets.append(synset.lemmas()[0].name())\n",
        "            elif not synset and all:\n",
        "                synsets.append(pair[0])\n",
        "        return synsets\n",
        "\n",
        "    def apply_lesk_lemmas_data(self, type_data = 'cleaned', all = False, data = False):\n",
        "        self.lesk_lemmatized_data = []\n",
        "        if data:\n",
        "            ls_data = data\n",
        "        elif type_data == 'cleaned':\n",
        "            if self.cleaned_data == []:\n",
        "                print('\\n -- Data hasn\\'t been cleaned, to lesk lemmatize the data is going to be cleaned with the default parameters --\\n')\n",
        "                self.clean_data()\n",
        "            ls_data = self.cleaned_data\n",
        "        elif type_data == 'tokenized':\n",
        "            if self.tokenized_data == []:\n",
        "                print('\\n -- Data hasn\\'t been tokenized, to lesk lemmatize the data is going to be tokenized --\\n')\n",
        "                self.tokenize_data()\n",
        "            ls_data = self.tokenized_data\n",
        "        for element in ls_data:\n",
        "            self.lesk_lemmatized_data.append(self.apply_lesk_lemmas_sentence(element, all))\n",
        "        return self.lesk_lemmatized_data\n",
        "\n",
        "    def apply_lesk_lemmas_sentence(self, sentence, all = False):\n",
        "        lemmatized_sentence = self.lemmatize_sentence(sentence, r_pos_tag = True)\n",
        "        synsets = []\n",
        "        for pair in lemmatized_sentence:\n",
        "            word, pos = self.filter_pos(self, pair)\n",
        "            if pos:\n",
        "                synset = nltk.wsd.lesk(sentence, word, pos)\n",
        "            else:\n",
        "                synset = False\n",
        "            if synset:\n",
        "                synsets.append(synset.lemmas()[0].name())\n",
        "            elif not synset and all:\n",
        "                synsets.append(pair[0])\n",
        "        return synsets\n",
        "\n",
        "    def name_entities_nltk(self, type_data = 'cleaned', data = False):\n",
        "        self.name_entities_nltk_data = []\n",
        "        if data:\n",
        "            ls_data = data\n",
        "        elif type_data == 'cleaned':\n",
        "            if self.cleaned_data == []:\n",
        "                print('\\n -- Data hasn\\'t been cleaned, to get named entitites the data is going to be cleaned with the default parameters --\\n')\n",
        "                self.clean_data()\n",
        "            ls_data = self.cleaned_data\n",
        "        elif type_data == 'tokenized':\n",
        "            if self.tokenized_data == []:\n",
        "                print('\\n -- Data hasn\\'t been tokenized, to get named entitites the data is going to be tokenized --\\n')\n",
        "                self.tokenize_data()\n",
        "            ls_data = self.tokenized_data\n",
        "        for element in ls_data:\n",
        "            self.name_entities_nltk_data.append(self.named_entities_nltk_sentence(element))\n",
        "        return self.name_entities_nltk_data \n",
        "\n",
        "    def named_entities_nltk_sentence(self, sentence):\n",
        "        x = nltk.pos_tag(sentence)\n",
        "        res = nltk.ne_chunk(x)\n",
        "        named_entities = []\n",
        "        for item in res:\n",
        "            try: \n",
        "                ne = item.label()\n",
        "                named_entities.append(ne)\n",
        "            except:\n",
        "                named_entities.append(item[0])\n",
        "\n",
        "        if named_entities != []:\n",
        "            return named_entities\n",
        "\n",
        "    def name_entities_spacy(self):\n",
        "        ne_data = self.data\n",
        "        for element in ne_data:\n",
        "            self.name_entities_spacy_data.append(self.name_entities_spacy_sentence(element))\n",
        "        return self.name_entities_spacy_data\n",
        "\n",
        "    def name_entities_spacy_sentence(self, sentence):\n",
        "        doc = nlp(sentence)\n",
        "        with doc.retokenize() as retokenizer:\n",
        "            tokens = [token for token in doc]\n",
        "            for ent in doc.ents:\n",
        "                retokenizer.merge(doc[ent.start:ent.end], \n",
        "                                attrs={\"LEMMA\": \" \".join([tokens[i].text for i in range(ent.start, ent.end)])})\n",
        "        res = []\n",
        "        for ent in doc:\n",
        "            if ent.ent_type_ != '':\n",
        "                res.append(ent.ent_type_)\n",
        "                # pass\n",
        "            else:\n",
        "                res.append(ent.text) \n",
        "            # res.append(ent.text)\n",
        "        return res\n",
        "\n",
        "    @staticmethod\n",
        "    def remove_signs(wrd,signs):\n",
        "        wrd = list(wrd)\n",
        "        wrd = [word for word in wrd if not any(caracter in signs for caracter in word)]\n",
        "        wrd = ''.join(wrd)\n",
        "        return wrd\n",
        "\n",
        "    @staticmethod\n",
        "    def lemmatize(self, p):\n",
        "        if p[1][0] in {'N','V','J','R'}:\n",
        "            return self.wnl.lemmatize(p[0].lower(), pos=self.pos_map[p[1][0]])\n",
        "        return p[0]\n",
        "\n",
        "    @staticmethod\n",
        "    def get_most_common_lemma(self,pair, lemma = False):\n",
        "        try:\n",
        "            synsets = wn.synsets(pair[0], self.match[pair[1][0].lower()])\n",
        "            if synsets != []:\n",
        "                if lemma:\n",
        "                    return Counter([j for i in synsets for j in i.lemmas()]).most_common(1)[0][0]\n",
        "                return Counter([j for i in synsets for j in i.lemmas()]).most_common(1)[0][0].name()\n",
        "            else:\n",
        "                if lemma:\n",
        "                    return Counter([j for i in wn.synsets(pair[0]) for j in i.lemmas()]).most_common(1)[0][0]\n",
        "                return Counter([j for i in wn.synsets(pair[0]) for j in i.lemmas()]).most_common(1)[0][0].name()\n",
        "        except:\n",
        "            if not lemma:\n",
        "                return pair[0]\n",
        "\n",
        "    @staticmethod\n",
        "    def filter_pos(self, pair):\n",
        "        if pair[1][0].lower() in list(self.correcting.keys()):\n",
        "            return pair[0], self.correcting[pair[1][0].lower()]\n",
        "        return None, None"
      ]
    },
    {
      "cell_type": "markdown",
      "metadata": {
        "id": "aDcWSlTCSsqd"
      },
      "source": [
        "## Compute metrics\n",
        "\n",
        "Within this class we codded different similarity techniques tu compare the preprocessed data. Then, we will use these computations of different similarity measures to fit different models in order to predict over the test data a proper score of similarity between each pair of sentences."
      ]
    },
    {
      "cell_type": "code",
<<<<<<< HEAD
      "execution_count": 5,
      "metadata": {},
=======
      "execution_count": null,
      "metadata": {
        "id": "ZiQARoTKSsqe"
      },
>>>>>>> db3b7cda7d92a2e92ae8af0957a035d1c271ebe9
      "outputs": [],
      "source": [
        "class compute_metrics():\n",
        "    def __init__(self,\n",
        "             data: List = False,\n",
        "             metrics: List = False,\n",
        "             kargs: Dict = False,\n",
        "             verbose: bool = False\n",
        "             ):\n",
        "        self.data = np.array(data, dtype = object).T\n",
        "        self.metrics = metrics\n",
        "        self.kargs = kargs if kargs else {}\n",
        "        self.verbose = verbose\n",
        "        self.methods = {'jaccard': self.jaccard,\n",
        "                        'synset_similarity':self.synset_similarity,\n",
        "                        'norm_length_diff': self.normalized_length_difference, \n",
        "                        'cosine': self.cosine_similarity, \n",
        "                        'unigram': self.unigram_similarity,\n",
        "                        'bigram': self.bigram_similarity,\n",
        "                        'trigram': self.trigram_similarity}\n",
        "        self.pos_map = {'N': NOUN,\n",
        "                        'V':VERB,\n",
        "                        'J':ADJ,\n",
        "                        'R':ADV}\n",
        "        self.v_pos = {'n', 'v'}\n",
        "        self.maxi = {'wup':1, 'path':1, 'lin':1, 'lch':3}\n",
        "        self.similarities = {'wup':{},\n",
        "                             'path':{},\n",
        "                             'lch':{},\n",
        "                             'lin':{}}\n",
        "        \n",
        "    def do(self, save = False):\n",
        "        results = []\n",
        "        for num,met in enumerate(self.metrics):\n",
        "            if isinstance(self.kargs, list):\n",
        "                results.append(self.methods[met](**self.kargs[num]))\n",
        "            else:\n",
        "                results.append(self.methods[met](**self.kargs))\n",
        "        if save:\n",
        "            np.save(save, results)\n",
        "        return np.array(results)\n",
        "    \n",
        "    def jaccard(self,data=False):\n",
        "        j_data = self.data if not data else data\n",
        "        result = []\n",
        "        for row in j_data:\n",
        "            result.append(jaccard_distance(set(row[0]),\n",
        "                                           set(row[1]))*10)\n",
        "        return result\n",
        "\n",
        "    def normalized_length_difference(self, data = False):\n",
        "        j_data = self.data if not data else data\n",
        "        result = []\n",
        "        for n,row in enumerate(j_data):\n",
        "            result.append(self.normalized_length_difference_sentece(row[0],row[1]))\n",
        "        return result\n",
        "\n",
        "    def normalized_length_difference_sentece(self,sentece1, sentece2):\n",
        "        return abs(len(sentece1)-len(sentece2)) / max(len(sentece1), len(sentece2))\n",
        "\n",
        "    def synset_similarity(self,method, data = False, tag = False):\n",
        "        j_data = self.data if not data else data\n",
        "        result = []\n",
        "        for n,row in enumerate(j_data):\n",
        "            if self.verbose:\n",
        "                if n%50 == 0:\n",
        "                    print('Pairs analyzed: ', n)\n",
        "            result.append(self.similarity_sentence(method,row[0],row[1], tag))\n",
        "        return result\n",
        "\n",
        "    def similarity_sentence(self, method,lemmas1, lemmas2, tag = False):\n",
        "        if tag:\n",
        "            lemmas1 = nltk.pos_tag(lemmas1)\n",
        "            lemmas2 = nltk.pos_tag(lemmas2)\n",
        "        mean1 = sum(max([self.similarity_word(method,l1,l2, tag) for l2 in lemmas2]) for l1 in lemmas1)/len(lemmas1)\n",
        "        mean2 = sum(max([self.similarity_word(method,l2,l1, tag) for l1 in lemmas1]) for l2 in lemmas2)/len(lemmas2)\n",
        "        if mean1 != 0 and mean2 != 0:\n",
        "            return (2*mean1*mean2)/(mean1+mean2)\n",
        "        return 0\n",
        "        \n",
        "    def similarity_word(self,method,lemma1,lemma2,tag = False):\n",
        "\n",
        "        if lemma1 == lemma2:\n",
        "            return self.maxi[method]\n",
        "\n",
        "        if method in self.similarities:\n",
        "            if (lemma1,lemma2) in self.similarities[method]:\n",
        "                return self.similarities[method][(lemma1,lemma2)]\n",
        "\n",
        "        synsets1 = self.get_synsets(lemma1, tag)\n",
        "        synsets2 = self.get_synsets(lemma2, tag)\n",
        "        \n",
        "        if method == 'path':\n",
        "            similarities_t = [syn1.path_similarity(syn2) for syn1 in synsets1 for syn2 in synsets2]\n",
        "        elif method == 'wup':\n",
        "            similarities_t = [syn1.wup_similarity(syn2) for syn1 in synsets1 for syn2 in synsets2]\n",
        "        elif method == 'lch':\n",
        "            similarities_t = [syn1.lch_similarity(syn2) if syn1.pos() == syn2.pos() else 0 for syn1 in synsets1 for syn2 in synsets2]\n",
        "        elif method == 'lin':\n",
        "            similarities_t = [syn1.lin_similarity(syn2, brown_ic) if syn1.pos() == syn2.pos() and syn2.pos() in self.v_pos else 0 for syn1 in synsets1 for syn2 in synsets2]\n",
        "            \n",
        "        if similarities_t != []:\n",
        "            self.similarities[method][(lemma1,lemma2)] = max(similarities_t)\n",
        "            return self.similarities[method][(lemma1,lemma2)]\n",
        "        return 0\n",
        "\n",
        "    def cosine_similarity(self, data = False):\n",
        "        j_data = self.data if not data else data\n",
        "        result = []\n",
        "        for row in j_data:\n",
        "            result.append(self.cosine_similarity_sentence(row[0],row[1]))\n",
        "        return result\n",
        "\n",
        "    def cosine_similarity_sentence(self,sentence1, sentence2):\n",
        "        sim = 0\n",
        "        all_words = set(sentence1).union(set(sentence2))\n",
        "        s1vec = []\n",
        "        s2vec = []\n",
        "        for word in all_words:\n",
        "            if word in sentence1:\n",
        "                s1vec.append(1)\n",
        "            else:\n",
        "                s1vec.append(0)\n",
        "            if word in sentence2:\n",
        "                s2vec.append(1)\n",
        "            else:\n",
        "                s2vec.append(0)\n",
        "        sim = np.dot(np.array(s1vec), np.array(s2vec)) / (math.sqrt(sum(s1vec)*sum(s2vec)))\n",
        "        return sim\n",
        "\n",
        "    def unigram_similarity(self, data = False, remove_duplicates = False):\n",
        "        j_data = self.data if not data else data\n",
        "        result = []\n",
        "        for row in j_data:\n",
        "            result.append(self.unigram_similarity_sentence(row[0],row[1], remove_duplicates))\n",
        "        return result\n",
        "\n",
        "    def unigram_similarity_sentence(self, sentence1, sentence2, remove_duplicates = False):\n",
        "        if remove_duplicates:\n",
        "            sentence1 = list(set(sentence1))\n",
        "            sentence2 = list(set(sentence2))\n",
        "        total_words = len(sentence1) + len(sentence2)\n",
        "        used_words = []\n",
        "        count = 0\n",
        "        for word in sentence1:\n",
        "            if word in sentence2 and word not in used_words:\n",
        "                count += sentence1.count(word)\n",
        "                count += sentence2.count(word)\n",
        "                used_words.append(word)\n",
        "\n",
        "        sim = count / total_words\n",
        "        return sim\n",
        "\n",
        "    def bigram_similarity(self, data = False, remove_duplicates = False):\n",
        "        j_data = self.data if not data else data\n",
        "        result = []\n",
        "        for row in j_data:\n",
        "            result.append(self.bigram_similarity_sentence(row[0],row[1], remove_duplicates))\n",
        "        return result\n",
        "\n",
        "    def bigram_similarity_sentence(self, sentence1, sentence2, remove_duplicates = False):\n",
        "        bigrams1 = list(nltk.bigrams(sentence1))\n",
        "        bigrams2 = list(nltk.bigrams(sentence2))\n",
        "        if remove_duplicates:\n",
        "            bigrams1 = list(set(bigrams1))\n",
        "            bigrams2 = list(set(bigrams2))\n",
        "        total_bigrams = len(bigrams1) + len(bigrams2)\n",
        "        used_bigrams = []\n",
        "        count = 0\n",
        "        for bigram in bigrams1:\n",
        "            if bigram in bigrams2 and bigram not in used_bigrams:\n",
        "                count += bigrams1.count(bigram)\n",
        "                count += bigrams2.count(bigram)\n",
        "            used_bigrams.append(bigram)\n",
        "        if total_bigrams == 0:\n",
        "            return 0\n",
        "        else:\n",
        "            sim = count / total_bigrams\n",
        "            return sim\n",
        "\n",
        "    def trigram_similarity(self, data = False, remove_duplicates = False):\n",
        "        j_data = self.data if not data else data\n",
        "        result = []\n",
        "        for row in j_data:\n",
        "            result.append(self.trigram_similarity_sentence(row[0],row[1], remove_duplicates))\n",
        "        return result\n",
        "\n",
        "    def trigram_similarity_sentence(self, sentence1, sentence2, remove_duplicates = False):\n",
        "        trigrams1 = list(nltk.trigrams(sentence1))\n",
        "        trigrams2 = list(nltk.trigrams(sentence2))\n",
        "        if remove_duplicates:\n",
        "            trigrams1 = list(set(trigrams1))\n",
        "            trigrams2 = list(set(trigrams2))\n",
        "        total_trigrams = len(trigrams1) + len(trigrams2)\n",
        "        used_trigrams = []\n",
        "        count = 0\n",
        "        for trigram in trigrams1:\n",
        "            if trigram in trigrams2 and trigram not in used_trigrams:\n",
        "                count += trigrams1.count(trigram)\n",
        "                count += trigrams2.count(trigram)\n",
        "            used_trigrams.append(trigram)\n",
        "        if total_trigrams == 0:\n",
        "            return 0\n",
        "        else:\n",
        "            sim = count / total_trigrams\n",
        "            return sim\n",
        "    \n",
        "    def get_synsets(self,lemma,tag):\n",
        "        if not tag:\n",
        "            synsets = wn.synsets(lemma)\n",
        "        else:\n",
        "            if lemma[1][0] in list(self.pos_map.keys()):\n",
        "                synsets = wn.synsets(lemma[0], self.pos_map[lemma[1][0]])\n",
        "            else:\n",
        "                synsets = wn.synsets(lemma[0])\n",
        "        return synsets"
      ]
    },
    {
      "cell_type": "markdown",
      "metadata": {
        "id": "o0FiM7GPSsqe"
      },
      "source": [
        "## train_tags\n",
        "\n",
        "This is a class to easily train different models as word taggers and get the results with an informative table and a connected scatter chart."
      ]
    },
    {
      "cell_type": "code",
<<<<<<< HEAD
      "execution_count": 6,
      "metadata": {},
=======
      "execution_count": null,
      "metadata": {
        "id": "f6U0dPCBSsqf"
      },
>>>>>>> db3b7cda7d92a2e92ae8af0957a035d1c271ebe9
      "outputs": [],
      "source": [
        "class train_tags():\n",
        "    def __init__(self,\n",
        "             data,\n",
        "             amounts_data,\n",
        "             test_n,\n",
        "             models\n",
        "             ):\n",
        "        self.data = data\n",
        "        self.amount_data = amounts_data\n",
        "        self.test_n = test_n\n",
        "        self.models = models\n",
        "        self.times = {key:[] for key in self.models}\n",
        "        self.total_results = {key:[] for key in self.models}\n",
        "        \n",
        "    def do(self):\n",
        "        pbar = tqdm(total=100)\n",
        "        test_data = self.data[self.test_n:]\n",
        "\n",
        "        for i in tqdm(self.amount_data):\n",
        "            train_data = self.data[:i]\n",
        "\n",
        "            # Hidden Markov Model\n",
        "            if 'HMM' in self.models:\n",
        "                time_before = time.time()\n",
        "                trainer = nltk.tag.hmm.HiddenMarkovModelTrainer()\n",
        "                HMM = trainer.train_supervised(train_data)\n",
        "                self.total_results['HMM'].append(round(HMM.accuracy(test_data), 3))\n",
        "                self.times['HMM'].append(time.time() - time_before)\n",
        "            \n",
        "            # Trigrams'n'Tags\n",
        "            if 'TnT' in self.models:\n",
        "                time_before = time.time()\n",
        "                TnT = nltk.tag.tnt.TnT()\n",
        "                TnT.train(train_data)\n",
        "                self.total_results['TnT'].append(round(TnT.accuracy(test_data), 3))\n",
        "                self.times['TnT'].append(time.time() - time_before)\n",
        "\n",
        "            #  Perceptron tagger\n",
        "            if 'PER' in self.models:\n",
        "                time_before = time.time()\n",
        "                PER = nltk.tag.perceptron.PerceptronTagger(load=False)\n",
        "                PER.train(train_data)\n",
        "                self.total_results['PER'].append(round(PER.accuracy(test_data), 3))\n",
        "                self.times['PER'].append(time.time() - time_before)\n",
        "\n",
        "            # Conditional Random Fields\n",
        "            if 'CRF' in self.models:\n",
        "                time_before = time.time()\n",
        "                CRF = nltk.tag.CRFTagger()\n",
        "                CRF.train(train_data,'crf_tagger_model')\n",
        "                self.total_results['CRF'].append(round(CRF.accuracy(test_data), 3))\n",
        "                self.times['CRF'].append(time.time() - time_before)\n",
        "\n",
        "            print(i)\n",
        "\n",
        "        return self.times, self.total_results\n",
        "    \n",
        "    def results(self):\n",
        "        df = pd.DataFrame.from_dict(self.total_results)\n",
        "\n",
        "        if 'HMM' in self.models:\n",
        "            plt.plot(self.amount_data, 'HMM', data=df, marker='.')\n",
        "        if 'TnT' in self.models:\n",
        "            plt.plot(self.amount_data, 'TnT', data=df, marker='.')\n",
        "        if 'PER' in self.models:\n",
        "            plt.plot(self.amount_data, 'PER', data=df, marker='.', markersize = 10)\n",
        "        if 'CRF' in self.models:\n",
        "            plt.plot(self.amount_data, 'CRF', data=df, marker='.')\n",
        "\n",
        "        plt.legend()\n",
        "        plt.show()\n",
        "\n",
        "        df_times = pd.DataFrame.from_dict(self.times).round(3)\n",
        "        df_times['Sentences'] = self.amount_data\n",
        "        print(df_times)"
      ]
    },
    {
      "cell_type": "markdown",
      "metadata": {
        "id": "Rw5wRtYzSsqf"
      },
      "source": [
        "# Feature Extraction"
      ]
    },
    {
      "cell_type": "markdown",
      "metadata": {
        "id": "kQRjabnaSsqf"
      },
      "source": [
        "## Loading the Training and Test Data"
      ]
    },
    {
      "cell_type": "code",
<<<<<<< HEAD
      "execution_count": 4,
      "metadata": {},
=======
      "execution_count": null,
      "metadata": {
        "id": "ZfZ9nHcASsqf"
      },
>>>>>>> db3b7cda7d92a2e92ae8af0957a035d1c271ebe9
      "outputs": [],
      "source": [
        "# --------------- Training Data\n",
        "europarl_Train = pd.read_csv('Complementary Material/train/STS.input.SMTeuroparl.txt',sep='\\t',header=None)\n",
        "europarl_Train['gs'] = pd.read_csv('Complementary Material/train/STS.gs.SMTeuroparl.txt',sep='\\t',header=None)\n",
        "\n",
        "vid_Train = pd.read_csv('Complementary Material/train/STS.input.MSRvid.txt',sep='\\t',header=None)\n",
        "vid_Train['gs'] = pd.read_csv('Complementary Material/train/STS.gs.MSRvid.txt',sep='\\t',header=None)\n",
        "\n",
        "with open('Complementary Material/train/STS.input.MSRpar.txt') as f:\n",
        "    lines = f.readlines()\n",
        "for index in range(len(lines)):\n",
        "    lines[index] = lines[index].replace('\\\"', ' ')\n",
        "par_Train = pd.read_csv(io.StringIO(''.join(lines)), sep='\\t',header=None, on_bad_lines='warn')\n",
        "par_Train['gs'] = pd.read_csv('Complementary Material/train/STS.gs.MSRpar.txt',sep='\\t',header=None)\n",
        "\n",
        "total_Train = pd.concat([europarl_Train, vid_Train, par_Train]).reset_index(drop=True)\n",
        "\n",
        "# --------------- Testing Data\n",
        "europarl_Test = pd.read_csv('Complementary Material/test-gold/STS.input.SMTeuroparl.txt',sep='\\t',header=None)\n",
        "europarl_Test['gs'] = pd.read_csv('Complementary Material/test-gold/STS.gs.SMTeuroparl.txt',sep='\\t',header=None)\n",
        "\n",
        "vid_Test = pd.read_csv('Complementary Material/test-gold/STS.input.MSRvid.txt',sep='\\t',header=None)\n",
        "vid_Test['gs'] = pd.read_csv('Complementary Material/test-gold/STS.gs.MSRvid.txt',sep='\\t',header=None)\n",
        "\n",
        "with open('Complementary Material/test-gold/STS.input.MSRpar.txt', encoding='utf8') as f:\n",
        "    lines = f.readlines()\n",
        "for index in range(len(lines)):\n",
        "    lines[index] = lines[index].replace('\\\"', ' ')\n",
        "par_Test = pd.read_csv(io.StringIO(''.join(lines)), sep='\\t',header=None, on_bad_lines='warn')\n",
        "par_Test['gs'] = pd.read_csv('Complementary Material/test-gold/STS.gs.MSRpar.txt',sep='\\t',header=None)\n",
        "\n",
        "onwn_Test = pd.read_csv('Complementary Material/test-gold/STS.input.surprise.OnWN.txt',sep='\\t',header=None)\n",
        "onwn_Test['gs'] = pd.read_csv('Complementary Material/test-gold/STS.gs.surprise.OnWN.txt',sep='\\t',header=None)\n",
        "\n",
        "news_Test = pd.read_csv('Complementary Material/test-gold/STS.input.surprise.SMTnews.txt',sep='\\t',header=None)\n",
        "news_Test['gs'] = pd.read_csv('Complementary Material/test-gold/STS.gs.surprise.SMTnews.txt',sep='\\t',header=None) \n",
        "\n",
        "total_Test = pd.concat([europarl_Test, vid_Test, par_Test, onwn_Test, news_Test]).reset_index(drop=True)"
      ]
    },
    {
      "cell_type": "markdown",
      "metadata": {
        "id": "5zs390sVSsqg"
      },
      "source": [
        "## Similarity measure computation\n",
        "In the next code cell we compute different similarity measures and store them in npy files in order to facilitate the the model fitting phase by using different subsets of extracted features. By changing the variable ``feature`` a similarity will be computed for the training and test data and stored in its own file."
      ]
    },
    {
      "cell_type": "code",
<<<<<<< HEAD
      "execution_count": 132,
      "metadata": {},
=======
      "execution_count": null,
      "metadata": {
        "id": "Z3fC0wj5Ssqg"
      },
>>>>>>> db3b7cda7d92a2e92ae8af0957a035d1c271ebe9
      "outputs": [],
      "source": [
        "feature = 'trigram'\n",
        "\n",
        "Train1 = text_processing(total_Train[0])\n",
        "Train2 = text_processing(total_Train[1])\n",
        "#Train1.clean_data(auto=False, lowercase = lowercase, signs = signs),Train2.clean_data(auto=False, lowercase = lowercase, signs = signs)\n",
        "Train1.clean_data(),Train2.clean_data()\n",
        "Train1.lemmatize_data(), Train2.lemmatize_data()\n",
        "mcl1,mcl2 = Train1.mc_lemmatize_data(lemma=True), Train2.mc_lemmatize_data(lemma=True)\n",
        "\n",
        "syn1 = [[lemma.synset() for lemma in sentence if lemma] for sentence in mcl1]\n",
        "syn2 = [[lemma.synset() for lemma in sentence if lemma] for sentence in mcl2] \n",
        "\n",
        "# kargs_train = {'corpus': Train1.lemmatized_data+Train2.lemmatized_data}\n",
        "kargs_train = {}\n",
        "\n",
        "save_train_path = 'Complementary Material/Extracted Features/Train/'+feature+'_synsets'\n",
        "X = compute_metrics([syn1,syn2],[feature], kargs_train).do(save_train_path)\n",
        "\n",
        "Test1 = text_processing(total_Test[0])\n",
        "Test2 = text_processing(total_Test[1])\n",
        "#Test1.clean_data(auto=False, lowercase = lowercase, signs = signs),Test2.clean_data(auto=False, lowercase = lowercase, signs = signs)\n",
        "Test1.clean_data(),Test2.clean_data()\n",
        "Test1.lemmatize_data(), Test2.lemmatize_data() \n",
        "mcl1T,mcl2T = Test1.mc_lemmatize_data(lemma=True), Test2.mc_lemmatize_data(lemma=True)\n",
        "\n",
        "syn1T = [[lemma.synset() for lemma in sentence if lemma] for sentence in mcl1T]\n",
        "syn2T = [[lemma.synset() for lemma in sentence if lemma] for sentence in mcl2T] \n",
        "\n",
        "kargs_test = {}\n",
        "\n",
        "save_test_path = 'Complementary Material/Extracted Features/Test/'+feature+'_synsets'\n",
        "X_test = compute_metrics([syn1T,syn2T],[feature], kargs_test).do(save_test_path)"
      ]
    },
    {
      "cell_type": "markdown",
      "metadata": {
        "id": "ebDXYOkvSsqg"
      },
      "source": [
        "# Classification, Inference & Evaluation"
      ]
    },
    {
      "cell_type": "markdown",
      "metadata": {
        "id": "QdI9pd-vSsqg"
      },
      "source": [
        "## Support Vector Regresor\n",
        "Fitting a SVR with a specific subset of features, and tunning the model parameters we got ~0.7406 in the pearson correlation between our predictions and the gold-standard la labeling"
      ]
    },
    {
      "cell_type": "code",
<<<<<<< HEAD
      "execution_count": 160,
      "metadata": {},
=======
      "execution_count": null,
      "metadata": {
        "id": "lysaStEkSsqg",
        "outputId": "ba49dfeb-e907-4f65-f8dd-9b382cda9907"
      },
>>>>>>> db3b7cda7d92a2e92ae8af0957a035d1c271ebe9
      "outputs": [
        {
          "data": {
            "text/plain": [
              "PearsonRResult(statistic=0.7441366895010385, pvalue=0.0)"
            ]
          },
          "execution_count": 160,
          "metadata": {},
          "output_type": "execute_result"
        }
      ],
      "source": [
        "features_to_try = ['LinSym_lemmas', 'LchSym_lemmas', 'PathSym_lemmas', 'jaccard_lemmas', 'cosine_lemmas', 'unigram_lemmas', 'bigram_lemmas', 'trigram_lemmas', 'jaccard_semi_clean', 'bigram_semi_clean', 'trigram_semi_clean', 'jaccard_comp_clean', 'unigram_comp_clean', 'bigram_comp_clean', 'unigram_imp_lemmas']\n",
        "# features_to_try = [feat.name[:-4] for feat in list(Path('Complementary Material/Extracted Features/Test').iterdir())]\n",
        "train_feats = np.load('Complementary Material/Extracted Features/Train/'+features_to_try[0]+'.npy')\n",
        "for n in range(1, len(features_to_try)):\n",
        "    train_feats = np.concatenate((train_feats, np.load('Complementary Material/Extracted Features/Train/'+features_to_try[n]+'.npy')))\n",
        "train_feats = np.moveaxis(np.array(train_feats),0,-1)\n",
        "\n",
        "y = total_Train['gs'].values\n",
        "\n",
        "regr = make_pipeline(StandardScaler(), SVR(kernel = 'rbf', C=2, epsilon=0, gamma = 'scale', tol=1e-1))\n",
        "regr.fit(train_feats, y)\n",
        "\n",
        "test_feats = np.load('Complementary Material/Extracted Features/Test/'+features_to_try[0]+'.npy')\n",
        "for n in range(1, len(features_to_try)):\n",
        "    test_feats = np.concatenate((test_feats, np.load('Complementary Material/Extracted Features/Test/'+features_to_try[n]+'.npy')))\n",
        "test_feats = np.moveaxis(np.array(test_feats),0,-1)\n",
        "\n",
        "pearsonr(total_Test['gs'].values,regr.predict(test_feats))"
      ]
    },
    {
      "cell_type": "code",
      "execution_count": 158,
      "metadata": {},
      "outputs": [],
      "source": [
        "from sklearn.inspection import permutation_importance\n",
        "from sklearn.metrics import make_scorer\n",
        "from pathlib import Path\n",
        "\n",
        "def prs(y,yp):\n",
        "    return pearsonr(y,yp).statistic\n",
        "\n",
        "features_to_try = [feat.name[:-4] for feat in list(Path('Complementary Material/Extracted Features/Test').iterdir())]\n",
        "# features_to_try = ['LinSym_lemmas', 'LchSym_lemmas', 'PathSym_lemmas', 'jaccard_lemmas', 'cosine_lemmas', 'unigram_lemmas', 'bigram_lemmas', 'trigram_lemmas', 'jaccard_semi_clean', 'bigram_semi_clean', 'trigram_semi_clean', 'jaccard_comp_clean', 'unigram_comp_clean', 'bigram_comp_clean', 'unigram_imp_lemmas']\n",
        "train_feats = np.load('Complementary Material/Extracted Features/Train/'+features_to_try[0]+'.npy')\n",
        "for n in range(1, len(features_to_try)):\n",
        "    train_feats = np.concatenate((train_feats, np.load('Complementary Material/Extracted Features/Train/'+features_to_try[n]+'.npy')))\n",
        "train_feats = np.moveaxis(np.array(train_feats),0,-1)\n",
        "\n",
        "y = total_Train['gs'].values\n",
        "\n",
        "regr = make_pipeline(StandardScaler(), SVR(kernel = 'rbf', C=2, epsilon=0, gamma = 'scale', tol=1e-1))\n",
        "# regr = SVR(kernel = 'rbf', C=2, epsilon=0, gamma = 'scale', tol=1e-1)\n",
        "regr.fit(train_feats, y)\n",
        "\n",
        "pr = make_scorer(prs)\n",
        "\n",
        "# perform permutation importance\n",
        "results = permutation_importance(regr, train_feats, y, scoring=pr)\n"
      ]
    },
    {
      "cell_type": "code",
      "execution_count": 109,
      "metadata": {},
      "outputs": [
        {
          "data": {
            "image/png": "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",
            "text/plain": [
              "<Figure size 640x480 with 1 Axes>"
            ]
          },
          "metadata": {},
          "output_type": "display_data"
        }
      ],
      "source": [
        "# get importance\n",
        "importance = results.importances_mean\n",
        "plt.bar(features_to_try, np.moveaxis(importance,0,-1))\n",
        "plt.xticks(range(len(features_to_try)), features_to_try, rotation='vertical')\n",
        "plt.show()"
      ]
    },
    {
      "cell_type": "markdown",
      "metadata": {
        "id": "yvkLzdDkSsqh"
      },
      "source": [
        "## Gradient Boosting Regresor\n",
        "Fitting a BGR with a specific subset of features, and tunning the model parameters we got ~0.7384 in the pearson correlation between our predictions and the gold-standard la labeling"
      ]
    },
    {
      "cell_type": "code",
<<<<<<< HEAD
      "execution_count": 151,
      "metadata": {},
=======
      "execution_count": null,
      "metadata": {
        "id": "H8RxxDHvSsqh",
        "outputId": "4c897551-e925-4c96-d1a0-4275af23a42e"
      },
>>>>>>> db3b7cda7d92a2e92ae8af0957a035d1c271ebe9
      "outputs": [
        {
          "data": {
            "text/plain": [
              "PearsonRResult(statistic=0.7400845779272051, pvalue=0.0)"
            ]
          },
          "execution_count": 151,
          "metadata": {},
          "output_type": "execute_result"
        }
      ],
      "source": [
        "features_to_try = ['LinSym_lemmas', 'LchSym_lemmas', 'PathSym_lemmas', 'jaccard_lemmas', 'cosine_lemmas', 'unigram_lemmas', 'bigram_lemmas', 'trigram_lemmas', 'jaccard_semi_clean', 'bigram_semi_clean', 'trigram_semi_clean', 'jaccard_comp_clean', 'unigram_comp_clean', 'bigram_comp_clean', 'unigram_imp_lemmas']\n",
        "# features_to_try = ['LinSym_lemmas', 'LchSym_lemmas', 'PathSym_lemmas', 'jaccard_lemmas', 'cosine_lemmas', 'unigram_lemmas', 'bigram_lemmas', 'trigram_lemmas', 'jaccard_semi_clean', 'jaccard_comp_clean', 'unigram_comp_clean']\n",
        "# features_to_try = [feat.name[:-4] for feat in list(Path('Complementary Material/Extracted Features/Test').iterdir())]\n",
        "train_feats = np.load('Complementary Material/Extracted Features/Train/'+features_to_try[0]+'.npy')\n",
        "for n in range(1, len(features_to_try)):\n",
        "    train_feats = np.concatenate((train_feats, np.load('Complementary Material/Extracted Features/Train/'+features_to_try[n]+'.npy')))\n",
        "train_feats = np.moveaxis(np.array(train_feats),0,-1)\n",
        "\n",
        "y = total_Train['gs'].values\n",
        "\n",
        "# gbr = GradientBoostingRegressor(random_state=17)\n",
        "gbr = make_pipeline(StandardScaler(), GradientBoostingRegressor(random_state=8))\n",
        "gbr.fit(train_feats, y)\n",
        "\n",
        "\n",
        "test_feats = np.load('Complementary Material/Extracted Features/Test/'+features_to_try[0]+'.npy')\n",
        "for n in range(1, len(features_to_try)):\n",
        "    test_feats = np.concatenate((test_feats, np.load('Complementary Material/Extracted Features/Test/'+features_to_try[n]+'.npy')))\n",
        "test_feats = np.moveaxis(np.array(test_feats),0,-1)\n",
        "\n",
        "pearsonr(total_Test['gs'].values,gbr.predict(test_feats))"
      ]
    },
    {
      "cell_type": "code",
      "execution_count": 152,
      "metadata": {},
      "outputs": [],
      "source": [
        "from sklearn.inspection import permutation_importance\n",
        "from sklearn.metrics import make_scorer\n",
        "from pathlib import Path\n",
        "\n",
        "def prs(y,yp):\n",
        "    return pearsonr(y,yp).statistic\n",
        "\n",
        "features_to_try = [feat.name[:-4] for feat in list(Path('Complementary Material/Extracted Features/Test').iterdir())]\n",
        "# features_to_try = ['LinSym_lemmas', 'LchSym_lemmas', 'PathSym_lemmas', 'jaccard_lemmas', 'cosine_lemmas', 'unigram_lemmas', 'bigram_lemmas', 'trigram_lemmas', 'jaccard_semi_clean', 'bigram_semi_clean', 'trigram_semi_clean', 'jaccard_comp_clean', 'unigram_comp_clean', 'bigram_comp_clean', 'unigram_imp_lemmas']\n",
        "train_feats = np.load('Complementary Material/Extracted Features/Train/'+features_to_try[0]+'.npy')\n",
        "for n in range(1, len(features_to_try)):\n",
        "    train_feats = np.concatenate((train_feats, np.load('Complementary Material/Extracted Features/Train/'+features_to_try[n]+'.npy')))\n",
        "train_feats = np.moveaxis(np.array(train_feats),0,-1)\n",
        "\n",
        "y = total_Train['gs'].values\n",
        "\n",
        "# gbr = GradientBoostingRegressor(random_state=17)\n",
        "gbr = make_pipeline(StandardScaler(), GradientBoostingRegressor(random_state=8))\n",
        "gbr.fit(train_feats, y)\n",
        "\n",
        "pr = make_scorer(prs)\n",
        "\n",
        "# perform permutation importance\n",
        "results = permutation_importance(gbr, train_feats, y, scoring=pr)"
      ]
    },
    {
      "cell_type": "code",
      "execution_count": 153,
      "metadata": {},
      "outputs": [
        {
          "data": {
            "image/png": "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",
            "text/plain": [
              "<Figure size 640x480 with 1 Axes>"
            ]
          },
          "metadata": {},
          "output_type": "display_data"
        }
      ],
      "source": [
        "# get importance\n",
        "importance = results.importances_mean\n",
        "plt.bar(features_to_try, np.moveaxis(importance,0,-1))\n",
        "plt.xticks(range(len(features_to_try)), features_to_try, rotation='vertical')\n",
        "plt.show()"
      ]
    },
    {
      "cell_type": "markdown",
      "metadata": {
        "id": "NPGX8dBvSsqi"
      },
      "source": [
        "## Multi-layer Perceptron Regresor\n",
        "Fitting a MLP-R with a specific subset of features, and tunning the model parameters we got ~0.7518 in the pearson correlation btween our predictions and the gold-standard la labeling"
      ]
    },
    {
      "cell_type": "code",
<<<<<<< HEAD
      "execution_count": 169,
      "metadata": {},
=======
      "execution_count": null,
      "metadata": {
        "id": "Cum8DugeSsqi",
        "outputId": "36744ba4-6503-4ac6-dfc2-034afa736c2f"
      },
>>>>>>> db3b7cda7d92a2e92ae8af0957a035d1c271ebe9
      "outputs": [
        {
          "data": {
            "text/plain": [
              "PearsonRResult(statistic=0.7335177638218559, pvalue=0.0)"
            ]
          },
          "execution_count": 169,
          "metadata": {},
          "output_type": "execute_result"
        }
      ],
      "source": [
        "features_to_try = ['LinSym_lemmas', 'LchSym_lemmas', 'PathSym_lemmas', 'jaccard_lemmas', 'cosine_lemmas', 'unigram_lemmas', 'bigram_lemmas', 'trigram_lemmas', 'jaccard_semi_clean', 'bigram_semi_clean', 'trigram_semi_clean', 'jaccard_comp_clean', 'unigram_comp_clean', 'bigram_comp_clean']\n",
        "# features_to_try = ['LinSym_lemmas', 'LchSym_lemmas', 'PathSym_lemmas', 'jaccard_lemmas', 'cosine_lemmas', 'unigram_lemmas', 'bigram_lemmas', 'trigram_lemmas']\n",
        "train_feats = np.load('Complementary Material/Extracted Features/Train/'+features_to_try[0]+'.npy', allow_pickle=True)\n",
        "for n in range(1, len(features_to_try)):\n",
        "    train_feats = np.concatenate((train_feats, np.load('Complementary Material/Extracted Features/Train/'+features_to_try[n]+'.npy')))\n",
        "train_feats = np.moveaxis(np.array(train_feats),0,-1)\n",
        "\n",
        "y = total_Train['gs'].values\n",
        "\n",
        "# mlp = MLPRegressor(hidden_layer_sizes=(100,500,1000,500,100), random_state=5, max_iter=900)\n",
        "mlp = MLPRegressor(hidden_layer_sizes=(100,100,100, 100), random_state=3, max_iter=400)\n",
        "# mlp = make_pipeline(MinMaxScaler(), MLPRegressor(hidden_layer_sizes=(100,100,100, 100), random_state=3, max_iter=400))\n",
        "mlp.fit(train_feats, y)\n",
        "\n",
        "test_feats = np.load('Complementary Material/Extracted Features/Test/'+features_to_try[0]+'.npy', allow_pickle=True)\n",
        "for n in range(1, len(features_to_try)):\n",
        "    test_feats = np.concatenate((test_feats, np.load('Complementary Material/Extracted Features/Test/'+features_to_try[n]+'.npy')))\n",
        "test_feats = np.moveaxis(np.array(test_feats),0,-1)\n",
        "\n",
        "pearsonr(total_Test['gs'].values,mlp.predict(test_feats))"
      ]
    },
    {
<<<<<<< HEAD
      "cell_type": "code",
      "execution_count": 175,
      "metadata": {},
      "outputs": [
        {
          "data": {
            "text/plain": [
              "PearsonRResult(statistic=0.7469384890838664, pvalue=0.0)"
            ]
          },
          "execution_count": 175,
          "metadata": {},
          "output_type": "execute_result"
        }
      ],
      "source": [
        "features_to_try = ['LinSym_lemmas', 'LchSym_lemmas', 'PathSym_lemmas', 'jaccard_lemmas', 'cosine_lemmas', 'unigram_lemmas', 'bigram_lemmas', 'trigram_lemmas', 'jaccard_semi_clean', 'bigram_semi_clean', 'trigram_semi_clean', 'jaccard_comp_clean', 'unigram_comp_clean', 'bigram_comp_clean']\n",
        "# features_to_try = ['LinSym_lemmas', 'LchSym_lemmas', 'PathSym_lemmas', 'jaccard_lemmas', 'cosine_lemmas', 'unigram_lemmas', 'bigram_lemmas', 'trigram_lemmas', 'jaccard_semi_clean', 'bigram_semi_clean', 'trigram_semi_clean']\n",
        "train_feats = np.load('Complementary Material/Extracted Features/Train/'+features_to_try[0]+'.npy', allow_pickle=True)\n",
        "for n in range(1, len(features_to_try)):\n",
        "    train_feats = np.concatenate((train_feats, np.load('Complementary Material/Extracted Features/Train/'+features_to_try[n]+'.npy')))\n",
        "train_feats = np.moveaxis(np.array(train_feats),0,-1)\n",
        "\n",
        "test_feats = np.load('Complementary Material/Extracted Features/Test/'+features_to_try[0]+'.npy', allow_pickle=True)\n",
        "for n in range(1, len(features_to_try)):\n",
        "    test_feats = np.concatenate((test_feats, np.load('Complementary Material/Extracted Features/Test/'+features_to_try[n]+'.npy')))\n",
        "test_feats = np.moveaxis(np.array(test_feats),0,-1)\n",
        "\n",
        "y = total_Train['gs']\n",
        "\n",
        "res = []\n",
        "\n",
        "for rs in range(20):\n",
        "    #mlp = MLPRegressor(hidden_layer_sizes=(100,500,1000,500,100), random_state=5, max_iter=900)\n",
        "    mlp = MLPRegressor(hidden_layer_sizes=(100,100,100,100), random_state=rs, max_iter=200)\n",
        "    mlp.fit(train_feats, y)\n",
        "Final Result\n",
        "Using the multilayer perceptron we got 0.7518254148216057, this result was obtained with appropriate preprocessing, data extraction and model configuration.Final Result\n",
        "Using the multilayer perceptron we got 0.7518254148216057, this result was obtained with appropriate preprocessing, data extraction and model configuration.Final Result\n",
        "Using the multilayer perceptron we got 0.7518254148216057, this result was obtained with appropriate preprocessing, data extraction and model configuration.Final Result\n",
        "Using the multilayer perceptron we got 0.7518254148216057, this result was obtained with appropriate preprocessing, data extraction and model configuration.Final Result\n",
        "Using the multilayer perceptron we got 0.7518254148216057, this result was obtained with appropriate preprocessing, data extraction and model configuration.Final Result\n",
        "Using the multilayer perceptron we got 0.7518254148216057, this result was obtained with appropriate preprocessing, data extraction and model configuration.Final Result\n",
        "Using the multilayer perceptron we got 0.7518254148216057, this result was obtained with appropriate preprocessing, data extraction and model configuration.Final Result\n",
        "Using the multilayer perceptron we got 0.7518254148216057, this result was obtained with appropriate preprocessing, data extraction and model configuration.Final Result\n",
        "Using the multilayer perceptron we got 0.7518254148216057, this result was obtained with appropriate preprocessing, data extraction and model configuration.#### 3cFinal Result\n",
        "Using the multilayer perceptron we got 0.7518254148216057, this result was obtained with appropriate preprocessing, data extraction and model configuration.dewefrf#Final Result\n",
        "Using the multilayer perceptron we got 0.7518254148216057, this result was obtained with appropriate preprocessing, data extraction and model configuration.vththbvthygtgthryhjyh hmnyuj\n",
        "    res.append(pearsonr(total_Test['gs'].values,mlp.predict(test_feats)))\n",
        "\n",
        "max(res)"
      ]
    },
    {
      "cell_type": "code",
      "execution_count": 172,
      "metadata": {},
      "outputs": [],
      "source": [
        "from sklearn.inspection import permutation_importance\n",
        "from sklearn.metrics import make_scorer\n",
        "from pathlib import Path\n",
        "\n",
        "def prs(y,yp):\n",
        "    return pearsonr(y,yp).statistic\n",
        "\n",
        "features_to_try = [feat.name[:-4] for feat in list(Path('Complementary Material/Extracted Features/Test').iterdir())]\n",
        "# features_to_try = ['LinSym_lemmas', 'LchSym_lemmas', 'PathSym_lemmas', 'jaccard_lemmas', 'cosine_lemmas', 'unigram_lemmas', 'bigram_lemmas', 'trigram_lemmas', 'jaccard_semi_clean', 'bigram_semi_clean', 'trigram_semi_clean', 'jaccard_comp_clean', 'unigram_comp_clean', 'bigram_comp_clean', 'unigram_imp_lemmas']\n",
        "train_feats = np.load('Complementary Material/Extracted Features/Train/'+features_to_try[0]+'.npy')\n",
        "for n in range(1, len(features_to_try)):\n",
        "    train_feats = np.concatenate((train_feats, np.load('Complementary Material/Extracted Features/Train/'+features_to_try[n]+'.npy')))\n",
        "train_feats = np.moveaxis(np.array(train_feats),0,-1)\n",
        "\n",
        "y = total_Train['gs'].values\n",
        "\n",
        "# gbr = GradientBoostingRegressor(random_state=17)\n",
        "mlp = MLPRegressor(hidden_layer_sizes=(100,100,100,100), random_state=rs, max_iter=200)\n",
        "mlp.fit(train_feats, y)\n",
        "\n",
        "pr = make_scorer(prs)\n",
        "\n",
        "# perform permutation importance\n",
        "results = permutation_importance(mlp, train_feats, y, scoring=pr)"
      ]
    },
    {
      "cell_type": "code",
      "execution_count": 174,
      "metadata": {},
      "outputs": [
        {
          "data": {
            "image/png": "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",
            "text/plain": [
              "<Figure size 640x480 with 1 Axes>"
            ]
          },
          "metadata": {},
          "output_type": "display_data"
        }
      ],
      "source": [
        "# get importance\n",
        "importance = results.importances_mean\n",
        "plt.bar(features_to_try, np.moveaxis(importance,0,-1))\n",
        "plt.xticks(range(len(features_to_try)), features_to_try, rotation='vertical')\n",
        "plt.show()"
      ]
    },
    {
      "cell_type": "markdown",
      "metadata": {},
      "source": [
        "# Final Result\n",
        "Using the multilayer perceptron we got 0.7518254148216057, this result was obtained with appropriate preprocessing, data extraction and model configuration."
      ]
=======
      "cell_type": "markdown",
      "source": [
        "# Final Result\n",
        "Using the multilayer perceptron we got 0.7518254148216057, this result was obtained with appropriate preprocessing, data extraction and model configuration. "
      ],
      "metadata": {
        "id": "OpJCe-vzTbvt"
      }
>>>>>>> db3b7cda7d92a2e92ae8af0957a035d1c271ebe9
    }
  ],
  "metadata": {
    "colab": {
      "provenance": [],
      "include_colab_link": true
    },
    "kernelspec": {
      "display_name": "Python 3.9.13 ('IHLT')",
      "language": "python",
      "name": "python3"
    },
    "language_info": {
      "codemirror_mode": {
        "name": "ipython",
        "version": 3
      },
      "file_extension": ".py",
      "mimetype": "text/x-python",
      "name": "python",
      "nbconvert_exporter": "python",
      "pygments_lexer": "ipython3",
      "version": "3.9.13"
    },
    "vscode": {
      "interpreter": {
        "hash": "0795eca24a98e58b2dcbec80c9554a91f94c5c7d4e675f06c8c2f85c434623a5"
      }
    }
  },
  "nbformat": 4,
  "nbformat_minor": 0
}