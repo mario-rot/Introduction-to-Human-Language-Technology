{
  "nbformat": 4,
  "nbformat_minor": 0,
  "metadata": {
    "colab": {
      "provenance": [],
      "collapsed_sections": [],
      "include_colab_link": true
    },
    "kernelspec": {
      "name": "python3",
      "display_name": "Python 3"
    },
    "language_info": {
      "name": "python"
    }
  },
  "cells": [
    {
      "cell_type": "markdown",
      "metadata": {
        "id": "view-in-github",
        "colab_type": "text"
      },
      "source": [
        "<a href=\"https://colab.research.google.com/github/mario-rot/Introduction-to-Human-Language-Technology/blob/main/Session3_MarioRosas_LaurenTucker.ipynb\" target=\"_parent\"><img src=\"https://colab.research.google.com/assets/colab-badge.svg\" alt=\"Open In Colab\"/></a>"
      ]
    },
    {
      "cell_type": "markdown",
      "source": [
        "# Lab session 3 (Morphology) - ILTH\n",
        "\n",
        "**Students:** Lauren Tucker & Mario Rosas"
      ],
      "metadata": {
        "id": "LpEp-jhafvsx"
      }
    },
    {
      "cell_type": "markdown",
      "metadata": {
        "id": "l0LXucmalIYk"
      },
      "source": [
        "## Paraphrases Template"
      ]
    },
    {
      "cell_type": "code",
      "source": [
        "!pip install wget"
      ],
      "metadata": {
        "colab": {
          "base_uri": "https://localhost:8080/"
        },
        "id": "LfZdkJaMZeHO",
        "outputId": "78c054e8-70c8-4533-b20b-17085255f932"
      },
      "execution_count": null,
      "outputs": [
        {
          "name": "stdout",
          "output_type": "stream",
          "text": [
            "Collecting wget\n",
            "  Downloading wget-3.2.zip (10 kB)\n",
            "  Preparing metadata (setup.py): started\n",
            "  Preparing metadata (setup.py): finished with status 'done'\n",
            "Building wheels for collected packages: wget\n",
            "  Building wheel for wget (setup.py): started\n",
            "  Building wheel for wget (setup.py): finished with status 'done'\n",
            "  Created wheel for wget: filename=wget-3.2-py3-none-any.whl size=9657 sha256=51ce9ab4378339a8a530b66e65d39ce310b8aa263aedfd5f4053f99fdefeed30\n",
            "  Stored in directory: c:\\users\\mario\\appdata\\local\\pip\\cache\\wheels\\04\\5f\\3e\\46cc37c5d698415694d83f607f833f83f0149e49b3af9d0f38\n",
            "Successfully built wget\n",
            "Installing collected packages: wget\n",
            "Successfully installed wget-3.2\n"
          ]
        }
      ]
    },
    {
      "cell_type": "code",
      "source": [
        "import wget\n",
        "URL = \"https://gebakx.github.io/ihlt/sts/resources/test-gold.tgz\"\n",
        "response = wget.download(URL, \"test_gold.tgz\")"
      ],
      "metadata": {
        "id": "Ow-SCj4EXL21"
      },
      "execution_count": null,
      "outputs": []
    },
    {
      "cell_type": "code",
      "source": [
        "# importing the \"tarfile\" module\n",
        "import tarfile\n",
        "\n",
        "def unzip_tars(root, files, targetFolder = None):\n",
        "  for fileN in files:\n",
        "    file = tarfile.open(root + fileN)# open file\n",
        "    if targetFolder:\n",
        "      file.extractall(targetFolder) # extracting file\n",
        "    else:\n",
        "      file.extractall(root) # extracting file\n",
        "    file.close()"
      ],
      "metadata": {
        "id": "vE2DAJT-9xo_"
      },
      "execution_count": null,
      "outputs": []
    },
    {
      "cell_type": "code",
      "source": [
        "# unzip_tars('/content/', ['test_gold.tgz'], '/content/')"
      ],
      "metadata": {
        "id": "7zTBIq_k_3Yb"
      },
      "execution_count": null,
      "outputs": []
    },
    {
      "cell_type": "code",
      "metadata": {
        "id": "Mi9UgnrHx1NN"
      },
      "source": [
        "import pandas as pd"
      ],
      "execution_count": null,
      "outputs": []
    },
    {
      "cell_type": "code",
      "metadata": {
        "id": "fx90zvqXx5eA"
      },
      "source": [
        "dt = pd.read_csv('Complementary Material/test-gold/STS.input.SMTeuroparl.txt',sep='\\t',header=None)"
      ],
      "execution_count": null,
      "outputs": []
    },
    {
      "cell_type": "code",
      "metadata": {
        "id": "0veZLO1xmGCD",
        "outputId": "382305b9-97fe-4d0e-da89-209932a453a9",
        "colab": {
          "base_uri": "https://localhost:8080/",
          "height": 206
        }
      },
      "source": [
        "dt.head()"
      ],
      "execution_count": null,
      "outputs": [
        {
          "data": {
            "text/plain": "                                                   0  \\\n0  The leaders have now been given a new chance a...   \n1  Amendment No 7 proposes certain changes in the...   \n2  Let me remind you that our allies include ferv...   \n3        The vote will take place today at 5.30 p.m.   \n4  The fishermen are inactive, tired and disappoi...   \n\n                                                   1  \n0  The leaders benefit aujourd' hui of a new luck...  \n1  Amendment No 7 is proposing certain changes in...  \n2  I would like to remind you that among our alli...  \n3                 The vote will take place at 5.30pm  \n4  The fishermen are inactive, tired and disappoi...  ",
            "text/html": "<div>\n<style scoped>\n    .dataframe tbody tr th:only-of-type {\n        vertical-align: middle;\n    }\n\n    .dataframe tbody tr th {\n        vertical-align: top;\n    }\n\n    .dataframe thead th {\n        text-align: right;\n    }\n</style>\n<table border=\"1\" class=\"dataframe\">\n  <thead>\n    <tr style=\"text-align: right;\">\n      <th></th>\n      <th>0</th>\n      <th>1</th>\n    </tr>\n  </thead>\n  <tbody>\n    <tr>\n      <th>0</th>\n      <td>The leaders have now been given a new chance a...</td>\n      <td>The leaders benefit aujourd' hui of a new luck...</td>\n    </tr>\n    <tr>\n      <th>1</th>\n      <td>Amendment No 7 proposes certain changes in the...</td>\n      <td>Amendment No 7 is proposing certain changes in...</td>\n    </tr>\n    <tr>\n      <th>2</th>\n      <td>Let me remind you that our allies include ferv...</td>\n      <td>I would like to remind you that among our alli...</td>\n    </tr>\n    <tr>\n      <th>3</th>\n      <td>The vote will take place today at 5.30 p.m.</td>\n      <td>The vote will take place at 5.30pm</td>\n    </tr>\n    <tr>\n      <th>4</th>\n      <td>The fishermen are inactive, tired and disappoi...</td>\n      <td>The fishermen are inactive, tired and disappoi...</td>\n    </tr>\n  </tbody>\n</table>\n</div>"
          },
          "execution_count": 6,
          "metadata": {},
          "output_type": "execute_result"
        }
      ]
    },
    {
      "cell_type": "code",
      "metadata": {
        "id": "4xWDSCAD0mZ_"
      },
      "source": [
        "dt['gs'] = pd.read_csv('Complementary Material/test-gold/STS.gs.SMTeuroparl.txt',sep='\\t',header=None)"
      ],
      "execution_count": null,
      "outputs": []
    },
    {
      "cell_type": "code",
      "metadata": {
        "colab": {
          "base_uri": "https://localhost:8080/"
        },
        "id": "_cLYgKtW0cL-",
        "outputId": "b6d79b41-b4e6-4386-d103-35904f3efaa7"
      },
      "source": [
        "dt.shape"
      ],
      "execution_count": null,
      "outputs": [
        {
          "data": {
            "text/plain": "(459, 3)"
          },
          "execution_count": 9,
          "metadata": {},
          "output_type": "execute_result"
        }
      ]
    },
    {
      "cell_type": "code",
      "metadata": {
        "colab": {
          "base_uri": "https://localhost:8080/",
          "height": 206
        },
        "id": "rDhoyDeY0Xpv",
        "outputId": "edb0cdbb-38b3-42d3-9a3e-826c93c03fd3"
      },
      "source": [
        "dt.head()"
      ],
      "execution_count": null,
      "outputs": [
        {
          "data": {
            "text/plain": "                                                   0  \\\n0  The leaders have now been given a new chance a...   \n1  Amendment No 7 proposes certain changes in the...   \n2  Let me remind you that our allies include ferv...   \n3        The vote will take place today at 5.30 p.m.   \n4  The fishermen are inactive, tired and disappoi...   \n\n                                                   1    gs  \n0  The leaders benefit aujourd' hui of a new luck...  4.50  \n1  Amendment No 7 is proposing certain changes in...  5.00  \n2  I would like to remind you that among our alli...  4.25  \n3                 The vote will take place at 5.30pm  4.50  \n4  The fishermen are inactive, tired and disappoi...  5.00  ",
            "text/html": "<div>\n<style scoped>\n    .dataframe tbody tr th:only-of-type {\n        vertical-align: middle;\n    }\n\n    .dataframe tbody tr th {\n        vertical-align: top;\n    }\n\n    .dataframe thead th {\n        text-align: right;\n    }\n</style>\n<table border=\"1\" class=\"dataframe\">\n  <thead>\n    <tr style=\"text-align: right;\">\n      <th></th>\n      <th>0</th>\n      <th>1</th>\n      <th>gs</th>\n    </tr>\n  </thead>\n  <tbody>\n    <tr>\n      <th>0</th>\n      <td>The leaders have now been given a new chance a...</td>\n      <td>The leaders benefit aujourd' hui of a new luck...</td>\n      <td>4.50</td>\n    </tr>\n    <tr>\n      <th>1</th>\n      <td>Amendment No 7 proposes certain changes in the...</td>\n      <td>Amendment No 7 is proposing certain changes in...</td>\n      <td>5.00</td>\n    </tr>\n    <tr>\n      <th>2</th>\n      <td>Let me remind you that our allies include ferv...</td>\n      <td>I would like to remind you that among our alli...</td>\n      <td>4.25</td>\n    </tr>\n    <tr>\n      <th>3</th>\n      <td>The vote will take place today at 5.30 p.m.</td>\n      <td>The vote will take place at 5.30pm</td>\n      <td>4.50</td>\n    </tr>\n    <tr>\n      <th>4</th>\n      <td>The fishermen are inactive, tired and disappoi...</td>\n      <td>The fishermen are inactive, tired and disappoi...</td>\n      <td>5.00</td>\n    </tr>\n  </tbody>\n</table>\n</div>"
          },
          "execution_count": 10,
          "metadata": {},
          "output_type": "execute_result"
        }
      ]
    },
    {
      "cell_type": "markdown",
      "source": [
        "# Excercise"
      ],
      "metadata": {
        "id": "lW6chj7pBMrs"
      }
    },
    {
      "cell_type": "code",
      "source": [
        "from nltk.metrics import jaccard_distance\n",
        "from nltk.stem import WordNetLemmatizer\n",
        "from nltk import pos_tag\n",
        "import nltk\n",
        "nltk.download('punkt')\n",
        "nltk.download('averaged_perceptron_tagger')\n",
        "nltk.download('wordnet')\n",
        "nltk.download('omw-1.4')\n",
        "from scipy.stats import pearsonr\n",
        "import numpy as np\n",
        "\n",
        "import string\n",
        "import collections\n",
        "import nltk\n",
        "from nltk.corpus import gutenberg\n",
        "from nltk.text import Text\n",
        "nltk.download('gutenberg')\n",
        "nltk.download('stopwords')\n",
        "\n",
        "def remove_signs(wrd):\n",
        "  wrd = list(wrd)\n",
        "  wrd = [word for word in wrd if not any(caracter in signs for caracter in word)]\n",
        "  wrd = ''.join(wrd)\n",
        "  return wrd\n",
        "\n",
        "def clean(corpus, stopwords, minwords_len, signs):\n",
        "   corpus = corpus.split(' ')\n",
        "   corpus = [word.lower() for word in corpus]\n",
        "   corpus = [word if not any(caracter in signs for caracter in word) else remove_signs(word) for word in corpus]\n",
        "   corpus = [word for word in corpus if word not in stopwords and word.isalpha()]\n",
        "   corpus = [word for word in corpus if len(word) > minwords_len]\n",
        "   return corpus\n",
        "\n",
        "from nltk.corpus.reader.wordnet import VERB, NOUN, ADJ, ADV\n",
        "pos_map = {'N': NOUN,\n",
        "           'V':VERB,\n",
        "           'J':ADJ,\n",
        "           'R':ADV}\n",
        "\n",
        "corpus = list(gutenberg.words('blake-poems.txt'))\n",
        "stopwords=set(nltk.corpus.stopwords.words('english'))\n",
        "signs = string.punctuation\n",
        "minwords_len = 2"
      ],
      "metadata": {
        "colab": {
          "base_uri": "https://localhost:8080/"
        },
        "id": "Yi0VomaR6RKR",
        "outputId": "118e12e7-e987-4aa8-a79f-dea6665a6f21"
      },
      "execution_count": null,
      "outputs": [
        {
          "name": "stderr",
          "output_type": "stream",
          "text": [
            "[nltk_data] Downloading package punkt to\n",
            "[nltk_data]     C:\\Users\\mario\\AppData\\Roaming\\nltk_data...\n",
            "[nltk_data]   Package punkt is already up-to-date!\n",
            "[nltk_data] Downloading package averaged_perceptron_tagger to\n",
            "[nltk_data]     C:\\Users\\mario\\AppData\\Roaming\\nltk_data...\n",
            "[nltk_data]   Unzipping taggers\\averaged_perceptron_tagger.zip.\n",
            "[nltk_data] Downloading package wordnet to\n",
            "[nltk_data]     C:\\Users\\mario\\AppData\\Roaming\\nltk_data...\n",
            "[nltk_data] Downloading package omw-1.4 to\n",
            "[nltk_data]     C:\\Users\\mario\\AppData\\Roaming\\nltk_data...\n",
            "[nltk_data] Downloading package gutenberg to\n",
            "[nltk_data]     C:\\Users\\mario\\AppData\\Roaming\\nltk_data...\n",
            "[nltk_data]   Package gutenberg is already up-to-date!\n",
            "[nltk_data] Downloading package stopwords to\n",
            "[nltk_data]     C:\\Users\\mario\\AppData\\Roaming\\nltk_data...\n",
            "[nltk_data]   Package stopwords is already up-to-date!\n"
          ]
        }
      ]
    },
    {
      "cell_type": "code",
      "source": [
        "cleaned = clean(dt.loc[0][0], stopwords, minwords_len, signs)"
      ],
      "metadata": {
        "id": "0ARQY-uEBgSx"
      },
      "execution_count": null,
      "outputs": []
    },
    {
      "cell_type": "code",
      "source": [
        "pairs = nltk.pos_tag(cleaned)\n",
        "pairs"
      ],
      "metadata": {
        "colab": {
          "base_uri": "https://localhost:8080/"
        },
        "id": "A7n3VHW-GG-R",
        "outputId": "2d647c12-ded2-4912-d4e6-1294f8c53895"
      },
      "execution_count": null,
      "outputs": [
        {
          "data": {
            "text/plain": "[('leaders', 'NNS'),\n ('given', 'VBN'),\n ('new', 'JJ'),\n ('chance', 'NN'),\n ('let', 'VBD'),\n ('hope', 'PRP'),\n ('seize', 'VB')]"
          },
          "execution_count": 13,
          "metadata": {},
          "output_type": "execute_result"
        }
      ]
    },
    {
      "cell_type": "code",
      "source": [
        "wnl = nltk.stem.WordNetLemmatizer()\n",
        "\n",
        "def lemmatize(p):\n",
        "    if p[1][0] in {'N','V','J','R'}:\n",
        "        return wnl.lemmatize(p[0].lower(), pos=pos_map[p[1][0]])\n",
        "    return p[0]\n",
        "\n",
        "def lemmatize_sentence(sentence):\n",
        "  cleaned = clean(sentence, stopwords, minwords_len, signs)\n",
        "  tagged = nltk.pos_tag(cleaned)\n",
        "  return[lemmatize(pair) for pair in tagged]\n",
        "\n",
        "# [lemmatize(pair) for pair in pairs]\n",
        "lemmatize_sentence(dt.loc[0][0])"
      ],
      "metadata": {
        "colab": {
          "base_uri": "https://localhost:8080/"
        },
        "id": "iL-4OVg5HKuf",
        "outputId": "8e33ba8a-9ba7-4da0-c932-d9fc7065e175"
      },
      "execution_count": null,
      "outputs": [
        {
          "data": {
            "text/plain": "['leader', 'give', 'new', 'chance', 'let', 'hope', 'seize']"
          },
          "execution_count": 14,
          "metadata": {},
          "output_type": "execute_result"
        }
      ]
    },
    {
      "cell_type": "code",
      "source": [
        "def compute_metric(metric, elements): # Fenction to calculate Jaccard Distance\n",
        "  if metric == 'jaccard':\n",
        "      res = jaccard_distance(set(lemmatize_sentence(elements[0])),\n",
        "                             set(lemmatize_sentence(elements[1])))\n",
        "  return res"
      ],
      "metadata": {
        "id": "TYColBS56ee3"
      },
      "execution_count": null,
      "outputs": []
    },
    {
      "cell_type": "code",
      "source": [
        "dt['jaccard'] = \"\""
      ],
      "metadata": {
        "id": "5A-e0Eey8H8U"
      },
      "execution_count": null,
      "outputs": []
    },
    {
      "cell_type": "code",
      "source": [
        "lemmatize_sentence(dt.loc[317][0]), lemmatize_sentence(dt.loc[317][1])"
      ],
      "metadata": {
        "colab": {
          "base_uri": "https://localhost:8080/"
        },
        "id": "MbidF7N1d5tq",
        "outputId": "c1743a2a-5be8-4567-f98b-e1bcd432a672"
      },
      "execution_count": null,
      "outputs": [
        {
          "data": {
            "text/plain": "(['parliament', 'adopt', 'legislative', 'resolution'],\n ['parliament', 'adopt', 'legislative', 'resolution'])"
          },
          "execution_count": 17,
          "metadata": {},
          "output_type": "execute_result"
        }
      ]
    },
    {
      "cell_type": "code",
      "source": [
        "clean(dt.iloc[455][0], stopwords, minwords_len, signs), clean(dt.iloc[455][1], stopwords, minwords_len, signs)"
      ],
      "metadata": {
        "colab": {
          "base_uri": "https://localhost:8080/"
        },
        "id": "0t3bfZbmedz6",
        "outputId": "be2ce0f0-7b4e-4705-b229-de78b378d474"
      },
      "execution_count": null,
      "outputs": [
        {
          "data": {
            "text/plain": "(['vote', 'take', 'place', 'today'], ['vote', 'take', 'place'])"
          },
          "execution_count": 18,
          "metadata": {},
          "output_type": "execute_result"
        }
      ]
    },
    {
      "cell_type": "code",
      "source": [
        "clean(dt.iloc[455][0], stopwords, minwords_len, signs), clean(dt.iloc[455][1], stopwords, minwords_len, signs)"
      ],
      "metadata": {
        "colab": {
          "base_uri": "https://localhost:8080/"
        },
        "id": "XJrygxy6fIb_",
        "outputId": "1b1174ed-248a-49d4-83eb-7824c5210625"
      },
      "execution_count": null,
      "outputs": [
        {
          "data": {
            "text/plain": "(['vote', 'take', 'place', 'today'], ['vote', 'take', 'place'])"
          },
          "execution_count": 19,
          "metadata": {},
          "output_type": "execute_result"
        }
      ]
    },
    {
      "cell_type": "code",
      "source": [
        "dt"
      ],
      "metadata": {
        "colab": {
          "base_uri": "https://localhost:8080/",
          "height": 424
        },
        "id": "8iUKadrbFTaJ",
        "outputId": "10bd66ae-a588-43f9-ada6-084eb0c7264a"
      },
      "execution_count": null,
      "outputs": [
        {
          "data": {
            "text/plain": "                                                     0  \\\n0    The leaders have now been given a new chance a...   \n1    Amendment No 7 proposes certain changes in the...   \n2    Let me remind you that our allies include ferv...   \n3          The vote will take place today at 5.30 p.m.   \n4    The fishermen are inactive, tired and disappoi...   \n..                                                 ...   \n454  It is our job to continue to support Latvia wi...   \n455        The vote will take place today at 5.30 p.m.   \n456  Neither was there a qualified majority within ...   \n457  Let me remind you that our allies include ferv...   \n458  We often pontificate here about being the repr...   \n\n                                                     1     gs jaccard  \n0    The leaders benefit aujourd' hui of a new luck...  4.500          \n1    Amendment No 7 is proposing certain changes in...  5.000          \n2    I would like to remind you that among our alli...  4.250          \n3                   The vote will take place at 5.30pm  4.500          \n4    The fishermen are inactive, tired and disappoi...  5.000          \n..                                                 ...    ...     ...  \n454  It is of our duty of continue to support the c...  5.000          \n455                   Vote will take place at 17 h 30.  4.750          \n456  There was no qualified majority in this Parlia...  5.000          \n457  I hold you recall that our allies, there are e...  4.000          \n458  We often take pride here to represent the citi...  3.833          \n\n[459 rows x 4 columns]",
            "text/html": "<div>\n<style scoped>\n    .dataframe tbody tr th:only-of-type {\n        vertical-align: middle;\n    }\n\n    .dataframe tbody tr th {\n        vertical-align: top;\n    }\n\n    .dataframe thead th {\n        text-align: right;\n    }\n</style>\n<table border=\"1\" class=\"dataframe\">\n  <thead>\n    <tr style=\"text-align: right;\">\n      <th></th>\n      <th>0</th>\n      <th>1</th>\n      <th>gs</th>\n      <th>jaccard</th>\n    </tr>\n  </thead>\n  <tbody>\n    <tr>\n      <th>0</th>\n      <td>The leaders have now been given a new chance a...</td>\n      <td>The leaders benefit aujourd' hui of a new luck...</td>\n      <td>4.500</td>\n      <td></td>\n    </tr>\n    <tr>\n      <th>1</th>\n      <td>Amendment No 7 proposes certain changes in the...</td>\n      <td>Amendment No 7 is proposing certain changes in...</td>\n      <td>5.000</td>\n      <td></td>\n    </tr>\n    <tr>\n      <th>2</th>\n      <td>Let me remind you that our allies include ferv...</td>\n      <td>I would like to remind you that among our alli...</td>\n      <td>4.250</td>\n      <td></td>\n    </tr>\n    <tr>\n      <th>3</th>\n      <td>The vote will take place today at 5.30 p.m.</td>\n      <td>The vote will take place at 5.30pm</td>\n      <td>4.500</td>\n      <td></td>\n    </tr>\n    <tr>\n      <th>4</th>\n      <td>The fishermen are inactive, tired and disappoi...</td>\n      <td>The fishermen are inactive, tired and disappoi...</td>\n      <td>5.000</td>\n      <td></td>\n    </tr>\n    <tr>\n      <th>...</th>\n      <td>...</td>\n      <td>...</td>\n      <td>...</td>\n      <td>...</td>\n    </tr>\n    <tr>\n      <th>454</th>\n      <td>It is our job to continue to support Latvia wi...</td>\n      <td>It is of our duty of continue to support the c...</td>\n      <td>5.000</td>\n      <td></td>\n    </tr>\n    <tr>\n      <th>455</th>\n      <td>The vote will take place today at 5.30 p.m.</td>\n      <td>Vote will take place at 17 h 30.</td>\n      <td>4.750</td>\n      <td></td>\n    </tr>\n    <tr>\n      <th>456</th>\n      <td>Neither was there a qualified majority within ...</td>\n      <td>There was no qualified majority in this Parlia...</td>\n      <td>5.000</td>\n      <td></td>\n    </tr>\n    <tr>\n      <th>457</th>\n      <td>Let me remind you that our allies include ferv...</td>\n      <td>I hold you recall that our allies, there are e...</td>\n      <td>4.000</td>\n      <td></td>\n    </tr>\n    <tr>\n      <th>458</th>\n      <td>We often pontificate here about being the repr...</td>\n      <td>We often take pride here to represent the citi...</td>\n      <td>3.833</td>\n      <td></td>\n    </tr>\n  </tbody>\n</table>\n<p>459 rows × 4 columns</p>\n</div>"
          },
          "execution_count": 20,
          "metadata": {},
          "output_type": "execute_result"
        }
      ]
    },
    {
      "cell_type": "code",
      "source": [
        "for i in range(len(dt)): # Iterating to get Jaccard distances over each column of the dataframe\n",
        "  dt['jaccard'][i] = np.float64(compute_metric('jaccard',[dt.iloc[i][0],dt.iloc[i][1]]))*10"
      ],
      "metadata": {
        "colab": {
          "base_uri": "https://localhost:8080/"
        },
        "id": "EO9hPVN_6-B5",
        "outputId": "664b9d2e-7a35-4d68-dd93-e6c11cefb49a"
      },
      "execution_count": null,
      "outputs": [
        {
          "name": "stderr",
          "output_type": "stream",
          "text": [
            "C:\\Users\\mario\\AppData\\Local\\Temp\\ipykernel_17996\\2783790266.py:2: SettingWithCopyWarning: \n",
            "A value is trying to be set on a copy of a slice from a DataFrame\n",
            "\n",
            "See the caveats in the documentation: https://pandas.pydata.org/pandas-docs/stable/user_guide/indexing.html#returning-a-view-versus-a-copy\n",
            "  dt['jaccard'][i] = np.float64(compute_metric('jaccard',[dt.iloc[i][0],dt.iloc[i][1]]))*10\n"
          ]
        }
      ]
    },
    {
      "cell_type": "code",
      "source": [
        "dt"
      ],
      "metadata": {
        "colab": {
          "base_uri": "https://localhost:8080/",
          "height": 424
        },
        "id": "-wK_jOyj7qum",
        "outputId": "66356498-62c4-48e0-ac6b-b427d4afb7c7"
      },
      "execution_count": null,
      "outputs": [
        {
          "data": {
            "text/plain": "                                                     0  \\\n0    The leaders have now been given a new chance a...   \n1    Amendment No 7 proposes certain changes in the...   \n2    Let me remind you that our allies include ferv...   \n3          The vote will take place today at 5.30 p.m.   \n4    The fishermen are inactive, tired and disappoi...   \n..                                                 ...   \n454  It is our job to continue to support Latvia wi...   \n455        The vote will take place today at 5.30 p.m.   \n456  Neither was there a qualified majority within ...   \n457  Let me remind you that our allies include ferv...   \n458  We often pontificate here about being the repr...   \n\n                                                     1     gs   jaccard  \n0    The leaders benefit aujourd' hui of a new luck...  4.500  6.666667  \n1    Amendment No 7 is proposing certain changes in...  5.000       0.0  \n2    I would like to remind you that among our alli...  4.250  7.272727  \n3                   The vote will take place at 5.30pm  4.500       2.5  \n4    The fishermen are inactive, tired and disappoi...  5.000       0.0  \n..                                                 ...    ...       ...  \n454  It is of our duty of continue to support the c...  5.000  6.363636  \n455                   Vote will take place at 17 h 30.  4.750       2.5  \n456  There was no qualified majority in this Parlia...  5.000  6.666667  \n457  I hold you recall that our allies, there are e...  4.000       8.0  \n458  We often take pride here to represent the citi...  3.833      6.25  \n\n[459 rows x 4 columns]",
            "text/html": "<div>\n<style scoped>\n    .dataframe tbody tr th:only-of-type {\n        vertical-align: middle;\n    }\n\n    .dataframe tbody tr th {\n        vertical-align: top;\n    }\n\n    .dataframe thead th {\n        text-align: right;\n    }\n</style>\n<table border=\"1\" class=\"dataframe\">\n  <thead>\n    <tr style=\"text-align: right;\">\n      <th></th>\n      <th>0</th>\n      <th>1</th>\n      <th>gs</th>\n      <th>jaccard</th>\n    </tr>\n  </thead>\n  <tbody>\n    <tr>\n      <th>0</th>\n      <td>The leaders have now been given a new chance a...</td>\n      <td>The leaders benefit aujourd' hui of a new luck...</td>\n      <td>4.500</td>\n      <td>6.666667</td>\n    </tr>\n    <tr>\n      <th>1</th>\n      <td>Amendment No 7 proposes certain changes in the...</td>\n      <td>Amendment No 7 is proposing certain changes in...</td>\n      <td>5.000</td>\n      <td>0.0</td>\n    </tr>\n    <tr>\n      <th>2</th>\n      <td>Let me remind you that our allies include ferv...</td>\n      <td>I would like to remind you that among our alli...</td>\n      <td>4.250</td>\n      <td>7.272727</td>\n    </tr>\n    <tr>\n      <th>3</th>\n      <td>The vote will take place today at 5.30 p.m.</td>\n      <td>The vote will take place at 5.30pm</td>\n      <td>4.500</td>\n      <td>2.5</td>\n    </tr>\n    <tr>\n      <th>4</th>\n      <td>The fishermen are inactive, tired and disappoi...</td>\n      <td>The fishermen are inactive, tired and disappoi...</td>\n      <td>5.000</td>\n      <td>0.0</td>\n    </tr>\n    <tr>\n      <th>...</th>\n      <td>...</td>\n      <td>...</td>\n      <td>...</td>\n      <td>...</td>\n    </tr>\n    <tr>\n      <th>454</th>\n      <td>It is our job to continue to support Latvia wi...</td>\n      <td>It is of our duty of continue to support the c...</td>\n      <td>5.000</td>\n      <td>6.363636</td>\n    </tr>\n    <tr>\n      <th>455</th>\n      <td>The vote will take place today at 5.30 p.m.</td>\n      <td>Vote will take place at 17 h 30.</td>\n      <td>4.750</td>\n      <td>2.5</td>\n    </tr>\n    <tr>\n      <th>456</th>\n      <td>Neither was there a qualified majority within ...</td>\n      <td>There was no qualified majority in this Parlia...</td>\n      <td>5.000</td>\n      <td>6.666667</td>\n    </tr>\n    <tr>\n      <th>457</th>\n      <td>Let me remind you that our allies include ferv...</td>\n      <td>I hold you recall that our allies, there are e...</td>\n      <td>4.000</td>\n      <td>8.0</td>\n    </tr>\n    <tr>\n      <th>458</th>\n      <td>We often pontificate here about being the repr...</td>\n      <td>We often take pride here to represent the citi...</td>\n      <td>3.833</td>\n      <td>6.25</td>\n    </tr>\n  </tbody>\n</table>\n<p>459 rows × 4 columns</p>\n</div>"
          },
          "execution_count": 22,
          "metadata": {},
          "output_type": "execute_result"
        }
      ]
    },
    {
      "cell_type": "code",
      "source": [
        "pearsonr(dt['gs'], 1-dt['jaccard']) # Calculating the pearson correlation between GS results and 1-Jaccard calculated dats"
      ],
      "metadata": {
        "colab": {
          "base_uri": "https://localhost:8080/"
        },
        "id": "d0LVZunA82f2",
        "outputId": "3c5334db-3b18-4de0-b517-d81e6a7ad5a9"
      },
      "execution_count": null,
      "outputs": [
        {
          "data": {
            "text/plain": "PearsonRResult(statistic=0.48102317341708245, pvalue=5.904510415498371e-28)"
          },
          "execution_count": 23,
          "metadata": {},
          "output_type": "execute_result"
        }
      ]
    },
    {
      "cell_type": "code",
      "source": [
        "lemmatize_sentence(dt.iloc[454][0]), lemmatize_sentence(dt.iloc[454][1])"
      ],
      "metadata": {
        "colab": {
          "base_uri": "https://localhost:8080/"
        },
        "id": "CwuAAVeEhOoO",
        "outputId": "c4dcc134-23b9-4808-8960-d7c80cc056d4"
      },
      "execution_count": null,
      "outputs": [
        {
          "data": {
            "text/plain": "(['job',\n  'continue',\n  'support',\n  'latvia',\n  'integration',\n  'russian',\n  'population'],\n ['duty',\n  'continue',\n  'support',\n  'country',\n  'issue',\n  'integration',\n  'russian',\n  'people'])"
          },
          "execution_count": 24,
          "metadata": {},
          "output_type": "execute_result"
        }
      ]
    },
    {
      "cell_type": "markdown",
      "source": [
        "# Conclusion\n",
        "\n",
        "Using the lemmatize function that we constructed, we obtained a higher Pearson correlation than in the prior lab. This shows that lemmatizing text samples rather than simply tokenizing them provides a more accurate measure of similarity. Compared to the gold standard, however, the performance is worse. One reason for this is that when we lemmatize, we are only looking at the word itself and analyzing whether the structure is the same. Gold standard uses more advanced techniques that analyze the meaning of each word and compare those meanings, rather than just comparing the letters. For example, in row 454, a few of the words in Sentence 1 were 'job', 'latvia', and 'population' whereas some sentences in Sentence 2 were 'duty', 'country', and 'people'. The gold standard measured a 5.0, indicating a perfect match, whereas the Jaccard distance was a 6.363636, indicating that using lemmatization these two sentences are not very similar. Since 'job' and 'duty', for example, are different words with the same meaning, lemmatization causes them to be interpreted as completely different words, but the algorithm measured by the gold standard interprets them as identical words in terms of similarity. In summary, lemmatization performs better than tokenization, but worse than the gold standard, largely due to interpreting structure instead of meaning.\n",
        "\n"
      ],
      "metadata": {
        "id": "MjCFQFyeeO28"
      }
    }
  ]
}