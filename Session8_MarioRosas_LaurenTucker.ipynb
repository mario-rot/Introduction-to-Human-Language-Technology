{
  "nbformat": 4,
  "nbformat_minor": 0,
  "metadata": {
    "colab": {
      "provenance": [],
      "authorship_tag": "ABX9TyMAl/uNxfiILzdKjpjWIYE2",
      "include_colab_link": true
    },
    "kernelspec": {
      "name": "python3",
      "display_name": "Python 3"
    },
    "language_info": {
      "name": "python"
    }
  },
  "cells": [
    {
      "cell_type": "markdown",
      "metadata": {
        "id": "view-in-github",
        "colab_type": "text"
      },
      "source": [
        "<a href=\"https://colab.research.google.com/github/mario-rot/Introduction-to-Human-Language-Technology/blob/main/Session8_MarioRosas_LaurenTucker.ipynb\" target=\"_parent\"><img src=\"https://colab.research.google.com/assets/colab-badge.svg\" alt=\"Open In Colab\"/></a>"
      ]
    },
    {
      "cell_type": "markdown",
      "source": [
        "\n",
        "# Lab session 8 (Parsing) - IHLT\n",
        "\n",
        "Students: Lauren Tucker & Mario Rosas\n"
      ],
      "metadata": {
        "id": "lqYSkCYHiDJ5"
      }
    },
    {
      "cell_type": "code",
      "source": [
        "import nltk\n",
        "from nltk import CFG, ChartParser\n",
        "\n",
        "grammar = CFG.fromstring('''\n",
        "  S   -> NP VB IN NP\n",
        "  NP  -> NNS | JJ NNS | NP CC NP\n",
        "  NNS -> \"cats\" | \"dogs\" | \"mice\" | NNS CC NNS \n",
        "  JJ  -> \"big\" | \"small\" | \"lazy\"\n",
        "  CC  -> \"and\" | \"or\"\n",
        "  IN  -> \"with\"\n",
        "  VB  -> \"play\"\n",
        "  ''')"
      ],
      "metadata": {
        "id": "ZO0d9xehiCda"
      },
      "execution_count": 15,
      "outputs": []
    },
    {
      "cell_type": "markdown",
      "source": [
        "## Chart Parser"
      ],
      "metadata": {
        "id": "E2zQKeAmtsDF"
      }
    },
    {
      "cell_type": "code",
      "source": [
        "parser = ChartParser(grammar, trace=1)\n",
        "\n",
        "sent = ['lazy', 'cats', 'play', 'with', 'mice']\n",
        "\n",
        "parse = parser.parse(sent)"
      ],
      "metadata": {
        "colab": {
          "base_uri": "https://localhost:8080/"
        },
        "id": "cfbuM-5gXScX",
        "outputId": "17cd7ce4-ebe3-426d-87aa-a4d34c75fc0f"
      },
      "execution_count": 16,
      "outputs": [
        {
          "output_type": "stream",
          "name": "stdout",
          "text": [
            "|.  lazy .  cats .  play .  with .  mice .|\n",
            "|[-------]       .       .       .       .| [0:1] 'lazy'\n",
            "|.       [-------]       .       .       .| [1:2] 'cats'\n",
            "|.       .       [-------]       .       .| [2:3] 'play'\n",
            "|.       .       .       [-------]       .| [3:4] 'with'\n",
            "|.       .       .       .       [-------]| [4:5] 'mice'\n",
            "|[-------]       .       .       .       .| [0:1] JJ -> 'lazy' *\n",
            "|[------->       .       .       .       .| [0:1] NP -> JJ * NNS\n",
            "|.       [-------]       .       .       .| [1:2] NNS -> 'cats' *\n",
            "|.       [-------]       .       .       .| [1:2] NP -> NNS *\n",
            "|.       [------->       .       .       .| [1:2] NNS -> NNS * CC NNS\n",
            "|[---------------]       .       .       .| [0:2] NP -> JJ NNS *\n",
            "|[--------------->       .       .       .| [0:2] S  -> NP * VB IN NP\n",
            "|[--------------->       .       .       .| [0:2] NP -> NP * CC NP\n",
            "|.       [------->       .       .       .| [1:2] S  -> NP * VB IN NP\n",
            "|.       [------->       .       .       .| [1:2] NP -> NP * CC NP\n",
            "|.       .       [-------]       .       .| [2:3] VB -> 'play' *\n",
            "|[----------------------->       .       .| [0:3] S  -> NP VB * IN NP\n",
            "|.       [--------------->       .       .| [1:3] S  -> NP VB * IN NP\n",
            "|.       .       .       [-------]       .| [3:4] IN -> 'with' *\n",
            "|[------------------------------->       .| [0:4] S  -> NP VB IN * NP\n",
            "|.       [----------------------->       .| [1:4] S  -> NP VB IN * NP\n",
            "|.       .       .       .       [-------]| [4:5] NNS -> 'mice' *\n",
            "|.       .       .       .       [-------]| [4:5] NP -> NNS *\n",
            "|.       .       .       .       [------->| [4:5] NNS -> NNS * CC NNS\n",
            "|.       .       .       .       [------->| [4:5] S  -> NP * VB IN NP\n",
            "|.       .       .       .       [------->| [4:5] NP -> NP * CC NP\n",
            "|[=======================================]| [0:5] S  -> NP VB IN NP *\n",
            "|.       [-------------------------------]| [1:5] S  -> NP VB IN NP *\n"
          ]
        }
      ]
    },
    {
      "cell_type": "code",
      "source": [
        "ts = []\n",
        "for t in parse:\n",
        "    ts.append(t)\n",
        "print('number of trees:', len(ts))"
      ],
      "metadata": {
        "colab": {
          "base_uri": "https://localhost:8080/"
        },
        "id": "QlWwfshrYUAU",
        "outputId": "8b7d3b40-6dd3-4012-efe9-af74c44c50a7"
      },
      "execution_count": 17,
      "outputs": [
        {
          "output_type": "stream",
          "name": "stdout",
          "text": [
            "number of trees: 1\n"
          ]
        }
      ]
    },
    {
      "cell_type": "code",
      "source": [
        "print(ts[0])"
      ],
      "metadata": {
        "colab": {
          "base_uri": "https://localhost:8080/"
        },
        "id": "EwbnROSDYXLy",
        "outputId": "d680783e-c858-4bf8-9354-2c12aa799a5d"
      },
      "execution_count": 18,
      "outputs": [
        {
          "output_type": "stream",
          "name": "stdout",
          "text": [
            "(S (NP (JJ lazy) (NNS cats)) (VB play) (IN with) (NP (NNS mice)))\n"
          ]
        }
      ]
    },
    {
      "cell_type": "code",
      "source": [
        "# achieve the list of applied edges\n",
        "parse = parser.chart_parse(sent)\n",
        "print(\"TD num edges = \",parse.num_edges())"
      ],
      "metadata": {
        "colab": {
          "base_uri": "https://localhost:8080/"
        },
        "id": "qWDOSJHcYa3n",
        "outputId": "fce5ecaf-ced9-44e7-a209-bd072c7fe75e"
      },
      "execution_count": 32,
      "outputs": [
        {
          "output_type": "stream",
          "name": "stdout",
          "text": [
            "|.  lazy .  cats .  play .  with .  mice .|\n",
            "|[-------]       .       .       .       .| [0:1] 'lazy'\n",
            "|.       [-------]       .       .       .| [1:2] 'cats'\n",
            "|.       .       [-------]       .       .| [2:3] 'play'\n",
            "|.       .       .       [-------]       .| [3:4] 'with'\n",
            "|.       .       .       .       [-------]| [4:5] 'mice'\n",
            "|[-------]       .       .       .       .| [0:1] JJ -> 'lazy' *\n",
            "|[------->       .       .       .       .| [0:1] NP -> JJ * NNS\n",
            "|.       [-------]       .       .       .| [1:2] NNS -> 'cats' *\n",
            "|.       [-------]       .       .       .| [1:2] NP -> NNS *\n",
            "|.       [------->       .       .       .| [1:2] NNS -> NNS * CC NNS\n",
            "|[---------------]       .       .       .| [0:2] NP -> JJ NNS *\n",
            "|[--------------->       .       .       .| [0:2] S  -> NP * VB IN NP\n",
            "|[--------------->       .       .       .| [0:2] NP -> NP * CC NP\n",
            "|.       [------->       .       .       .| [1:2] S  -> NP * VB IN NP\n",
            "|.       [------->       .       .       .| [1:2] NP -> NP * CC NP\n",
            "|.       .       [-------]       .       .| [2:3] VB -> 'play' *\n",
            "|[----------------------->       .       .| [0:3] S  -> NP VB * IN NP\n",
            "|.       [--------------->       .       .| [1:3] S  -> NP VB * IN NP\n",
            "|.       .       .       [-------]       .| [3:4] IN -> 'with' *\n",
            "|[------------------------------->       .| [0:4] S  -> NP VB IN * NP\n",
            "|.       [----------------------->       .| [1:4] S  -> NP VB IN * NP\n",
            "|.       .       .       .       [-------]| [4:5] NNS -> 'mice' *\n",
            "|.       .       .       .       [-------]| [4:5] NP -> NNS *\n",
            "|.       .       .       .       [------->| [4:5] NNS -> NNS * CC NNS\n",
            "|.       .       .       .       [------->| [4:5] S  -> NP * VB IN NP\n",
            "|.       .       .       .       [------->| [4:5] NP -> NP * CC NP\n",
            "|[=======================================]| [0:5] S  -> NP VB IN NP *\n",
            "|.       [-------------------------------]| [1:5] S  -> NP VB IN NP *\n",
            "TD num edges =  28\n"
          ]
        }
      ]
    },
    {
      "cell_type": "code",
      "source": [
        "parse.edges()"
      ],
      "metadata": {
        "colab": {
          "base_uri": "https://localhost:8080/"
        },
        "id": "RxNkubMaYgXZ",
        "outputId": "122a2cb8-12dd-4257-d082-b94292aeffae"
      },
      "execution_count": 20,
      "outputs": [
        {
          "output_type": "execute_result",
          "data": {
            "text/plain": [
              "[[Edge: [0:1] 'lazy'],\n",
              " [Edge: [1:2] 'cats'],\n",
              " [Edge: [2:3] 'play'],\n",
              " [Edge: [3:4] 'with'],\n",
              " [Edge: [4:5] 'mice'],\n",
              " [Edge: [0:1] JJ -> 'lazy' *],\n",
              " [Edge: [0:1] NP -> JJ * NNS],\n",
              " [Edge: [1:2] NNS -> 'cats' *],\n",
              " [Edge: [1:2] NP -> NNS *],\n",
              " [Edge: [1:2] NNS -> NNS * CC NNS],\n",
              " [Edge: [0:2] NP -> JJ NNS *],\n",
              " [Edge: [0:2] S  -> NP * VB IN NP],\n",
              " [Edge: [0:2] NP -> NP * CC NP],\n",
              " [Edge: [1:2] S  -> NP * VB IN NP],\n",
              " [Edge: [1:2] NP -> NP * CC NP],\n",
              " [Edge: [2:3] VB -> 'play' *],\n",
              " [Edge: [0:3] S  -> NP VB * IN NP],\n",
              " [Edge: [1:3] S  -> NP VB * IN NP],\n",
              " [Edge: [3:4] IN -> 'with' *],\n",
              " [Edge: [0:4] S  -> NP VB IN * NP],\n",
              " [Edge: [1:4] S  -> NP VB IN * NP],\n",
              " [Edge: [4:5] NNS -> 'mice' *],\n",
              " [Edge: [4:5] NP -> NNS *],\n",
              " [Edge: [4:5] NNS -> NNS * CC NNS],\n",
              " [Edge: [4:5] S  -> NP * VB IN NP],\n",
              " [Edge: [4:5] NP -> NP * CC NP],\n",
              " [Edge: [0:5] S  -> NP VB IN NP *],\n",
              " [Edge: [1:5] S  -> NP VB IN NP *]]"
            ]
          },
          "metadata": {},
          "execution_count": 20
        }
      ]
    },
    {
      "cell_type": "markdown",
      "source": [
        "## Bottom Up Chart Parser"
      ],
      "metadata": {
        "id": "nXAKlDUnlbhM"
      }
    },
    {
      "cell_type": "code",
      "source": [
        "from nltk import BottomUpChartParser\n",
        "\n",
        "parser = nltk.BottomUpChartParser(grammar,trace=1)\n",
        "parse = parser.parse(sent)\n",
        "ts = []\n",
        "for t in parse:\n",
        "    ts.append(t)"
      ],
      "metadata": {
        "colab": {
          "base_uri": "https://localhost:8080/"
        },
        "id": "S6u182U0Ylcx",
        "outputId": "ce6c1a38-4986-48c5-8884-0ef7f22a1a6c"
      },
      "execution_count": 21,
      "outputs": [
        {
          "output_type": "stream",
          "name": "stdout",
          "text": [
            "|.  lazy .  cats .  play .  with .  mice .|\n",
            "|[-------]       .       .       .       .| [0:1] 'lazy'\n",
            "|.       [-------]       .       .       .| [1:2] 'cats'\n",
            "|.       .       [-------]       .       .| [2:3] 'play'\n",
            "|.       .       .       [-------]       .| [3:4] 'with'\n",
            "|.       .       .       .       [-------]| [4:5] 'mice'\n",
            "|>       .       .       .       .       .| [0:0] JJ -> * 'lazy'\n",
            "|[-------]       .       .       .       .| [0:1] JJ -> 'lazy' *\n",
            "|>       .       .       .       .       .| [0:0] NP -> * JJ NNS\n",
            "|[------->       .       .       .       .| [0:1] NP -> JJ * NNS\n",
            "|.       >       .       .       .       .| [1:1] NNS -> * 'cats'\n",
            "|.       [-------]       .       .       .| [1:2] NNS -> 'cats' *\n",
            "|.       >       .       .       .       .| [1:1] NP -> * NNS\n",
            "|.       >       .       .       .       .| [1:1] NNS -> * NNS CC NNS\n",
            "|[---------------]       .       .       .| [0:2] NP -> JJ NNS *\n",
            "|.       [-------]       .       .       .| [1:2] NP -> NNS *\n",
            "|.       [------->       .       .       .| [1:2] NNS -> NNS * CC NNS\n",
            "|.       >       .       .       .       .| [1:1] S  -> * NP VB IN NP\n",
            "|.       >       .       .       .       .| [1:1] NP -> * NP CC NP\n",
            "|.       [------->       .       .       .| [1:2] S  -> NP * VB IN NP\n",
            "|.       [------->       .       .       .| [1:2] NP -> NP * CC NP\n",
            "|>       .       .       .       .       .| [0:0] S  -> * NP VB IN NP\n",
            "|>       .       .       .       .       .| [0:0] NP -> * NP CC NP\n",
            "|[--------------->       .       .       .| [0:2] S  -> NP * VB IN NP\n",
            "|[--------------->       .       .       .| [0:2] NP -> NP * CC NP\n",
            "|.       .       >       .       .       .| [2:2] VB -> * 'play'\n",
            "|.       .       [-------]       .       .| [2:3] VB -> 'play' *\n",
            "|.       [--------------->       .       .| [1:3] S  -> NP VB * IN NP\n",
            "|[----------------------->       .       .| [0:3] S  -> NP VB * IN NP\n",
            "|.       .       .       >       .       .| [3:3] IN -> * 'with'\n",
            "|.       .       .       [-------]       .| [3:4] IN -> 'with' *\n",
            "|.       [----------------------->       .| [1:4] S  -> NP VB IN * NP\n",
            "|[------------------------------->       .| [0:4] S  -> NP VB IN * NP\n",
            "|.       .       .       .       >       .| [4:4] NNS -> * 'mice'\n",
            "|.       .       .       .       [-------]| [4:5] NNS -> 'mice' *\n",
            "|.       .       .       .       >       .| [4:4] NP -> * NNS\n",
            "|.       .       .       .       >       .| [4:4] NNS -> * NNS CC NNS\n",
            "|.       .       .       .       [-------]| [4:5] NP -> NNS *\n",
            "|.       .       .       .       [------->| [4:5] NNS -> NNS * CC NNS\n",
            "|.       .       .       .       >       .| [4:4] S  -> * NP VB IN NP\n",
            "|.       .       .       .       >       .| [4:4] NP -> * NP CC NP\n",
            "|.       [-------------------------------]| [1:5] S  -> NP VB IN NP *\n",
            "|[=======================================]| [0:5] S  -> NP VB IN NP *\n",
            "|.       .       .       .       [------->| [4:5] S  -> NP * VB IN NP\n",
            "|.       .       .       .       [------->| [4:5] NP -> NP * CC NP\n"
          ]
        }
      ]
    },
    {
      "cell_type": "code",
      "source": [
        "print('number of trees:', len(ts))"
      ],
      "metadata": {
        "colab": {
          "base_uri": "https://localhost:8080/"
        },
        "id": "4_3gJOfxliLd",
        "outputId": "d03e6827-6a80-4893-acd4-cc07e52bd318"
      },
      "execution_count": 22,
      "outputs": [
        {
          "output_type": "stream",
          "name": "stdout",
          "text": [
            "number of trees: 1\n"
          ]
        }
      ]
    },
    {
      "cell_type": "code",
      "source": [
        "print(ts[0])"
      ],
      "metadata": {
        "colab": {
          "base_uri": "https://localhost:8080/"
        },
        "id": "Hc4q-tBnnGgS",
        "outputId": "9abb6791-e951-4682-bb2d-6c4a8500087d"
      },
      "execution_count": 23,
      "outputs": [
        {
          "output_type": "stream",
          "name": "stdout",
          "text": [
            "(S (NP (JJ lazy) (NNS cats)) (VB play) (IN with) (NP (NNS mice)))\n"
          ]
        }
      ]
    },
    {
      "cell_type": "code",
      "source": [
        "# achieve the list of applied edges\n",
        "parse = parser.chart_parse(sent)\n",
        "print(\"TD num edges = \",parse.num_edges())"
      ],
      "metadata": {
        "colab": {
          "base_uri": "https://localhost:8080/"
        },
        "id": "mCf1DXMinJlC",
        "outputId": "c3249c1e-971e-44cf-ffec-14db6fc2a294"
      },
      "execution_count": 30,
      "outputs": [
        {
          "output_type": "stream",
          "name": "stdout",
          "text": [
            "|.  lazy .  cats .  play .  with .  mice .|\n",
            "|[-------]       .       .       .       .| [0:1] 'lazy'\n",
            "|.       [-------]       .       .       .| [1:2] 'cats'\n",
            "|.       .       [-------]       .       .| [2:3] 'play'\n",
            "|.       .       .       [-------]       .| [3:4] 'with'\n",
            "|.       .       .       .       [-------]| [4:5] 'mice'\n",
            "|[-------]       .       .       .       .| [0:1] JJ -> 'lazy' *\n",
            "|[------->       .       .       .       .| [0:1] NP -> JJ * NNS\n",
            "|.       [-------]       .       .       .| [1:2] NNS -> 'cats' *\n",
            "|.       [-------]       .       .       .| [1:2] NP -> NNS *\n",
            "|.       [------->       .       .       .| [1:2] NNS -> NNS * CC NNS\n",
            "|[---------------]       .       .       .| [0:2] NP -> JJ NNS *\n",
            "|[--------------->       .       .       .| [0:2] S  -> NP * VB IN NP\n",
            "|[--------------->       .       .       .| [0:2] NP -> NP * CC NP\n",
            "|.       [------->       .       .       .| [1:2] S  -> NP * VB IN NP\n",
            "|.       [------->       .       .       .| [1:2] NP -> NP * CC NP\n",
            "|.       .       [-------]       .       .| [2:3] VB -> 'play' *\n",
            "|[----------------------->       .       .| [0:3] S  -> NP VB * IN NP\n",
            "|.       [--------------->       .       .| [1:3] S  -> NP VB * IN NP\n",
            "|.       .       .       [-------]       .| [3:4] IN -> 'with' *\n",
            "|[------------------------------->       .| [0:4] S  -> NP VB IN * NP\n",
            "|.       [----------------------->       .| [1:4] S  -> NP VB IN * NP\n",
            "|.       .       .       .       [-------]| [4:5] NNS -> 'mice' *\n",
            "|.       .       .       .       [-------]| [4:5] NP -> NNS *\n",
            "|.       .       .       .       [------->| [4:5] NNS -> NNS * CC NNS\n",
            "|.       .       .       .       [------->| [4:5] S  -> NP * VB IN NP\n",
            "|.       .       .       .       [------->| [4:5] NP -> NP * CC NP\n",
            "|[=======================================]| [0:5] S  -> NP VB IN NP *\n",
            "|.       [-------------------------------]| [1:5] S  -> NP VB IN NP *\n",
            "TD num edges =  28\n"
          ]
        }
      ]
    },
    {
      "cell_type": "code",
      "source": [
        "parse.edges()"
      ],
      "metadata": {
        "colab": {
          "base_uri": "https://localhost:8080/"
        },
        "id": "QEwolhEgnP0x",
        "outputId": "9d363a8f-99af-416a-fde1-f07918825ac5"
      },
      "execution_count": 31,
      "outputs": [
        {
          "output_type": "execute_result",
          "data": {
            "text/plain": [
              "[[Edge: [0:1] 'lazy'],\n",
              " [Edge: [1:2] 'cats'],\n",
              " [Edge: [2:3] 'play'],\n",
              " [Edge: [3:4] 'with'],\n",
              " [Edge: [4:5] 'mice'],\n",
              " [Edge: [0:1] JJ -> 'lazy' *],\n",
              " [Edge: [0:1] NP -> JJ * NNS],\n",
              " [Edge: [1:2] NNS -> 'cats' *],\n",
              " [Edge: [1:2] NP -> NNS *],\n",
              " [Edge: [1:2] NNS -> NNS * CC NNS],\n",
              " [Edge: [0:2] NP -> JJ NNS *],\n",
              " [Edge: [0:2] S  -> NP * VB IN NP],\n",
              " [Edge: [0:2] NP -> NP * CC NP],\n",
              " [Edge: [1:2] S  -> NP * VB IN NP],\n",
              " [Edge: [1:2] NP -> NP * CC NP],\n",
              " [Edge: [2:3] VB -> 'play' *],\n",
              " [Edge: [0:3] S  -> NP VB * IN NP],\n",
              " [Edge: [1:3] S  -> NP VB * IN NP],\n",
              " [Edge: [3:4] IN -> 'with' *],\n",
              " [Edge: [0:4] S  -> NP VB IN * NP],\n",
              " [Edge: [1:4] S  -> NP VB IN * NP],\n",
              " [Edge: [4:5] NNS -> 'mice' *],\n",
              " [Edge: [4:5] NP -> NNS *],\n",
              " [Edge: [4:5] NNS -> NNS * CC NNS],\n",
              " [Edge: [4:5] S  -> NP * VB IN NP],\n",
              " [Edge: [4:5] NP -> NP * CC NP],\n",
              " [Edge: [0:5] S  -> NP VB IN NP *],\n",
              " [Edge: [1:5] S  -> NP VB IN NP *]]"
            ]
          },
          "metadata": {},
          "execution_count": 31
        }
      ]
    },
    {
      "cell_type": "markdown",
      "source": [
        "## Bottom Up Left Corner Chart Parser "
      ],
      "metadata": {
        "id": "2ubT8TFMnkaF"
      }
    },
    {
      "cell_type": "code",
      "source": [
        "from nltk import BottomUpLeftCornerChartParser\n",
        "\n",
        "parser = nltk.BottomUpLeftCornerChartParser(grammar,trace=1)\n",
        "parse = parser.parse(sent)\n",
        "ts = []\n",
        "for t in parse:\n",
        "    ts.append(t)"
      ],
      "metadata": {
        "colab": {
          "base_uri": "https://localhost:8080/"
        },
        "id": "K3depwfGnh_V",
        "outputId": "fe3e5859-edd9-44ef-9769-7b8296f4b879"
      },
      "execution_count": 37,
      "outputs": [
        {
          "output_type": "stream",
          "name": "stdout",
          "text": [
            "|.  lazy .  cats .  play .  with .  mice .|\n",
            "|[-------]       .       .       .       .| [0:1] 'lazy'\n",
            "|.       [-------]       .       .       .| [1:2] 'cats'\n",
            "|.       .       [-------]       .       .| [2:3] 'play'\n",
            "|.       .       .       [-------]       .| [3:4] 'with'\n",
            "|.       .       .       .       [-------]| [4:5] 'mice'\n",
            "|[-------]       .       .       .       .| [0:1] JJ -> 'lazy' *\n",
            "|[------->       .       .       .       .| [0:1] NP -> JJ * NNS\n",
            "|.       [-------]       .       .       .| [1:2] NNS -> 'cats' *\n",
            "|.       [-------]       .       .       .| [1:2] NP -> NNS *\n",
            "|.       [------->       .       .       .| [1:2] NNS -> NNS * CC NNS\n",
            "|[---------------]       .       .       .| [0:2] NP -> JJ NNS *\n",
            "|[--------------->       .       .       .| [0:2] S  -> NP * VB IN NP\n",
            "|[--------------->       .       .       .| [0:2] NP -> NP * CC NP\n",
            "|.       [------->       .       .       .| [1:2] S  -> NP * VB IN NP\n",
            "|.       [------->       .       .       .| [1:2] NP -> NP * CC NP\n",
            "|.       .       [-------]       .       .| [2:3] VB -> 'play' *\n",
            "|[----------------------->       .       .| [0:3] S  -> NP VB * IN NP\n",
            "|.       [--------------->       .       .| [1:3] S  -> NP VB * IN NP\n",
            "|.       .       .       [-------]       .| [3:4] IN -> 'with' *\n",
            "|[------------------------------->       .| [0:4] S  -> NP VB IN * NP\n",
            "|.       [----------------------->       .| [1:4] S  -> NP VB IN * NP\n",
            "|.       .       .       .       [-------]| [4:5] NNS -> 'mice' *\n",
            "|.       .       .       .       [-------]| [4:5] NP -> NNS *\n",
            "|.       .       .       .       [------->| [4:5] NNS -> NNS * CC NNS\n",
            "|.       .       .       .       [------->| [4:5] S  -> NP * VB IN NP\n",
            "|.       .       .       .       [------->| [4:5] NP -> NP * CC NP\n",
            "|[=======================================]| [0:5] S  -> NP VB IN NP *\n",
            "|.       [-------------------------------]| [1:5] S  -> NP VB IN NP *\n"
          ]
        }
      ]
    },
    {
      "cell_type": "code",
      "source": [
        "print('number of trees:', len(ts))"
      ],
      "metadata": {
        "colab": {
          "base_uri": "https://localhost:8080/"
        },
        "id": "6q1XHfU9nvzU",
        "outputId": "e0f8233a-0159-4fed-d255-e53729682b30"
      },
      "execution_count": 38,
      "outputs": [
        {
          "output_type": "stream",
          "name": "stdout",
          "text": [
            "number of trees: 1\n"
          ]
        }
      ]
    },
    {
      "cell_type": "code",
      "source": [
        "print(ts[0])"
      ],
      "metadata": {
        "colab": {
          "base_uri": "https://localhost:8080/"
        },
        "id": "JHI8QMh-n0Ex",
        "outputId": "db554a3d-9283-407f-bf2d-d3be9f9afb5f"
      },
      "execution_count": 39,
      "outputs": [
        {
          "output_type": "stream",
          "name": "stdout",
          "text": [
            "(S (NP (JJ lazy) (NNS cats)) (VB play) (IN with) (NP (NNS mice)))\n"
          ]
        }
      ]
    },
    {
      "cell_type": "code",
      "source": [
        "# achieve the list of applied edges\n",
        "parse = parser.chart_parse(sent)\n",
        "print(\"TD num edges = \",parse.num_edges())"
      ],
      "metadata": {
        "colab": {
          "base_uri": "https://localhost:8080/"
        },
        "id": "ajA6gbumn1e5",
        "outputId": "be9db415-9d0b-4b32-eb40-98cad2048dbd"
      },
      "execution_count": 40,
      "outputs": [
        {
          "output_type": "stream",
          "name": "stdout",
          "text": [
            "|.  lazy .  cats .  play .  with .  mice .|\n",
            "|[-------]       .       .       .       .| [0:1] 'lazy'\n",
            "|.       [-------]       .       .       .| [1:2] 'cats'\n",
            "|.       .       [-------]       .       .| [2:3] 'play'\n",
            "|.       .       .       [-------]       .| [3:4] 'with'\n",
            "|.       .       .       .       [-------]| [4:5] 'mice'\n",
            "|[-------]       .       .       .       .| [0:1] JJ -> 'lazy' *\n",
            "|[------->       .       .       .       .| [0:1] NP -> JJ * NNS\n",
            "|.       [-------]       .       .       .| [1:2] NNS -> 'cats' *\n",
            "|.       [-------]       .       .       .| [1:2] NP -> NNS *\n",
            "|.       [------->       .       .       .| [1:2] NNS -> NNS * CC NNS\n",
            "|[---------------]       .       .       .| [0:2] NP -> JJ NNS *\n",
            "|[--------------->       .       .       .| [0:2] S  -> NP * VB IN NP\n",
            "|[--------------->       .       .       .| [0:2] NP -> NP * CC NP\n",
            "|.       [------->       .       .       .| [1:2] S  -> NP * VB IN NP\n",
            "|.       [------->       .       .       .| [1:2] NP -> NP * CC NP\n",
            "|.       .       [-------]       .       .| [2:3] VB -> 'play' *\n",
            "|[----------------------->       .       .| [0:3] S  -> NP VB * IN NP\n",
            "|.       [--------------->       .       .| [1:3] S  -> NP VB * IN NP\n",
            "|.       .       .       [-------]       .| [3:4] IN -> 'with' *\n",
            "|[------------------------------->       .| [0:4] S  -> NP VB IN * NP\n",
            "|.       [----------------------->       .| [1:4] S  -> NP VB IN * NP\n",
            "|.       .       .       .       [-------]| [4:5] NNS -> 'mice' *\n",
            "|.       .       .       .       [-------]| [4:5] NP -> NNS *\n",
            "|.       .       .       .       [------->| [4:5] NNS -> NNS * CC NNS\n",
            "|.       .       .       .       [------->| [4:5] S  -> NP * VB IN NP\n",
            "|.       .       .       .       [------->| [4:5] NP -> NP * CC NP\n",
            "|[=======================================]| [0:5] S  -> NP VB IN NP *\n",
            "|.       [-------------------------------]| [1:5] S  -> NP VB IN NP *\n",
            "TD num edges =  28\n"
          ]
        }
      ]
    },
    {
      "cell_type": "code",
      "source": [
        "parse.edges()"
      ],
      "metadata": {
        "colab": {
          "base_uri": "https://localhost:8080/"
        },
        "id": "UmiHfKvLs3bY",
        "outputId": "a39cf43e-e2d5-4eff-d6d0-b86a6a54430e"
      },
      "execution_count": 41,
      "outputs": [
        {
          "output_type": "execute_result",
          "data": {
            "text/plain": [
              "[[Edge: [0:1] 'lazy'],\n",
              " [Edge: [1:2] 'cats'],\n",
              " [Edge: [2:3] 'play'],\n",
              " [Edge: [3:4] 'with'],\n",
              " [Edge: [4:5] 'mice'],\n",
              " [Edge: [0:1] JJ -> 'lazy' *],\n",
              " [Edge: [0:1] NP -> JJ * NNS],\n",
              " [Edge: [1:2] NNS -> 'cats' *],\n",
              " [Edge: [1:2] NP -> NNS *],\n",
              " [Edge: [1:2] NNS -> NNS * CC NNS],\n",
              " [Edge: [0:2] NP -> JJ NNS *],\n",
              " [Edge: [0:2] S  -> NP * VB IN NP],\n",
              " [Edge: [0:2] NP -> NP * CC NP],\n",
              " [Edge: [1:2] S  -> NP * VB IN NP],\n",
              " [Edge: [1:2] NP -> NP * CC NP],\n",
              " [Edge: [2:3] VB -> 'play' *],\n",
              " [Edge: [0:3] S  -> NP VB * IN NP],\n",
              " [Edge: [1:3] S  -> NP VB * IN NP],\n",
              " [Edge: [3:4] IN -> 'with' *],\n",
              " [Edge: [0:4] S  -> NP VB IN * NP],\n",
              " [Edge: [1:4] S  -> NP VB IN * NP],\n",
              " [Edge: [4:5] NNS -> 'mice' *],\n",
              " [Edge: [4:5] NP -> NNS *],\n",
              " [Edge: [4:5] NNS -> NNS * CC NNS],\n",
              " [Edge: [4:5] S  -> NP * VB IN NP],\n",
              " [Edge: [4:5] NP -> NP * CC NP],\n",
              " [Edge: [0:5] S  -> NP VB IN NP *],\n",
              " [Edge: [1:5] S  -> NP VB IN NP *]]"
            ]
          },
          "metadata": {},
          "execution_count": 41
        }
      ]
    },
    {
      "cell_type": "markdown",
      "source": [
        "## Left Corner Chart Parser"
      ],
      "metadata": {
        "id": "M9WbLky8sVJO"
      }
    },
    {
      "cell_type": "code",
      "source": [
        "from nltk import BottomUpChartParser\n",
        "\n",
        "parser = nltk.BottomUpChartParser(grammar,trace=1)\n",
        "parse = parser.parse(sent)\n",
        "ts = []\n",
        "for t in parse:\n",
        "    ts.append(t)"
      ],
      "metadata": {
        "colab": {
          "base_uri": "https://localhost:8080/"
        },
        "id": "gaNB7265oEhX",
        "outputId": "11944baa-a093-4942-b123-e1e8bf237a53"
      },
      "execution_count": 33,
      "outputs": [
        {
          "output_type": "stream",
          "name": "stdout",
          "text": [
            "|.  lazy .  cats .  play .  with .  mice .|\n",
            "|[-------]       .       .       .       .| [0:1] 'lazy'\n",
            "|.       [-------]       .       .       .| [1:2] 'cats'\n",
            "|.       .       [-------]       .       .| [2:3] 'play'\n",
            "|.       .       .       [-------]       .| [3:4] 'with'\n",
            "|.       .       .       .       [-------]| [4:5] 'mice'\n",
            "|>       .       .       .       .       .| [0:0] JJ -> * 'lazy'\n",
            "|[-------]       .       .       .       .| [0:1] JJ -> 'lazy' *\n",
            "|>       .       .       .       .       .| [0:0] NP -> * JJ NNS\n",
            "|[------->       .       .       .       .| [0:1] NP -> JJ * NNS\n",
            "|.       >       .       .       .       .| [1:1] NNS -> * 'cats'\n",
            "|.       [-------]       .       .       .| [1:2] NNS -> 'cats' *\n",
            "|.       >       .       .       .       .| [1:1] NP -> * NNS\n",
            "|.       >       .       .       .       .| [1:1] NNS -> * NNS CC NNS\n",
            "|[---------------]       .       .       .| [0:2] NP -> JJ NNS *\n",
            "|.       [-------]       .       .       .| [1:2] NP -> NNS *\n",
            "|.       [------->       .       .       .| [1:2] NNS -> NNS * CC NNS\n",
            "|.       >       .       .       .       .| [1:1] S  -> * NP VB IN NP\n",
            "|.       >       .       .       .       .| [1:1] NP -> * NP CC NP\n",
            "|.       [------->       .       .       .| [1:2] S  -> NP * VB IN NP\n",
            "|.       [------->       .       .       .| [1:2] NP -> NP * CC NP\n",
            "|>       .       .       .       .       .| [0:0] S  -> * NP VB IN NP\n",
            "|>       .       .       .       .       .| [0:0] NP -> * NP CC NP\n",
            "|[--------------->       .       .       .| [0:2] S  -> NP * VB IN NP\n",
            "|[--------------->       .       .       .| [0:2] NP -> NP * CC NP\n",
            "|.       .       >       .       .       .| [2:2] VB -> * 'play'\n",
            "|.       .       [-------]       .       .| [2:3] VB -> 'play' *\n",
            "|.       [--------------->       .       .| [1:3] S  -> NP VB * IN NP\n",
            "|[----------------------->       .       .| [0:3] S  -> NP VB * IN NP\n",
            "|.       .       .       >       .       .| [3:3] IN -> * 'with'\n",
            "|.       .       .       [-------]       .| [3:4] IN -> 'with' *\n",
            "|.       [----------------------->       .| [1:4] S  -> NP VB IN * NP\n",
            "|[------------------------------->       .| [0:4] S  -> NP VB IN * NP\n",
            "|.       .       .       .       >       .| [4:4] NNS -> * 'mice'\n",
            "|.       .       .       .       [-------]| [4:5] NNS -> 'mice' *\n",
            "|.       .       .       .       >       .| [4:4] NP -> * NNS\n",
            "|.       .       .       .       >       .| [4:4] NNS -> * NNS CC NNS\n",
            "|.       .       .       .       [-------]| [4:5] NP -> NNS *\n",
            "|.       .       .       .       [------->| [4:5] NNS -> NNS * CC NNS\n",
            "|.       .       .       .       >       .| [4:4] S  -> * NP VB IN NP\n",
            "|.       .       .       .       >       .| [4:4] NP -> * NP CC NP\n",
            "|.       [-------------------------------]| [1:5] S  -> NP VB IN NP *\n",
            "|[=======================================]| [0:5] S  -> NP VB IN NP *\n",
            "|.       .       .       .       [------->| [4:5] S  -> NP * VB IN NP\n",
            "|.       .       .       .       [------->| [4:5] NP -> NP * CC NP\n"
          ]
        }
      ]
    },
    {
      "cell_type": "code",
      "source": [
        "print('number of trees:', len(ts))"
      ],
      "metadata": {
        "colab": {
          "base_uri": "https://localhost:8080/"
        },
        "id": "op3RBRsvsS2D",
        "outputId": "cbc6b1a2-e8e4-4b5d-e889-716b7b3e5a6d"
      },
      "execution_count": 34,
      "outputs": [
        {
          "output_type": "stream",
          "name": "stdout",
          "text": [
            "number of trees: 1\n"
          ]
        }
      ]
    },
    {
      "cell_type": "code",
      "source": [
        "print(ts[0])"
      ],
      "metadata": {
        "colab": {
          "base_uri": "https://localhost:8080/"
        },
        "id": "wBYSpxdVsozv",
        "outputId": "11c3fe8a-2acb-4e20-8f93-21dbcc4f7959"
      },
      "execution_count": 35,
      "outputs": [
        {
          "output_type": "stream",
          "name": "stdout",
          "text": [
            "(S (NP (JJ lazy) (NNS cats)) (VB play) (IN with) (NP (NNS mice)))\n"
          ]
        }
      ]
    },
    {
      "cell_type": "code",
      "source": [
        "# achieve the list of applied edges\n",
        "parse = parser.chart_parse(sent)\n",
        "print(\"TD num edges = \",parse.num_edges())"
      ],
      "metadata": {
        "colab": {
          "base_uri": "https://localhost:8080/"
        },
        "id": "ahR40Z6wsp5P",
        "outputId": "c3ba61d3-6328-4d27-f067-8cb41c1a5496"
      },
      "execution_count": 42,
      "outputs": [
        {
          "output_type": "stream",
          "name": "stdout",
          "text": [
            "|.  lazy .  cats .  play .  with .  mice .|\n",
            "|[-------]       .       .       .       .| [0:1] 'lazy'\n",
            "|.       [-------]       .       .       .| [1:2] 'cats'\n",
            "|.       .       [-------]       .       .| [2:3] 'play'\n",
            "|.       .       .       [-------]       .| [3:4] 'with'\n",
            "|.       .       .       .       [-------]| [4:5] 'mice'\n",
            "|[-------]       .       .       .       .| [0:1] JJ -> 'lazy' *\n",
            "|[------->       .       .       .       .| [0:1] NP -> JJ * NNS\n",
            "|.       [-------]       .       .       .| [1:2] NNS -> 'cats' *\n",
            "|.       [-------]       .       .       .| [1:2] NP -> NNS *\n",
            "|.       [------->       .       .       .| [1:2] NNS -> NNS * CC NNS\n",
            "|[---------------]       .       .       .| [0:2] NP -> JJ NNS *\n",
            "|[--------------->       .       .       .| [0:2] S  -> NP * VB IN NP\n",
            "|[--------------->       .       .       .| [0:2] NP -> NP * CC NP\n",
            "|.       [------->       .       .       .| [1:2] S  -> NP * VB IN NP\n",
            "|.       [------->       .       .       .| [1:2] NP -> NP * CC NP\n",
            "|.       .       [-------]       .       .| [2:3] VB -> 'play' *\n",
            "|[----------------------->       .       .| [0:3] S  -> NP VB * IN NP\n",
            "|.       [--------------->       .       .| [1:3] S  -> NP VB * IN NP\n",
            "|.       .       .       [-------]       .| [3:4] IN -> 'with' *\n",
            "|[------------------------------->       .| [0:4] S  -> NP VB IN * NP\n",
            "|.       [----------------------->       .| [1:4] S  -> NP VB IN * NP\n",
            "|.       .       .       .       [-------]| [4:5] NNS -> 'mice' *\n",
            "|.       .       .       .       [-------]| [4:5] NP -> NNS *\n",
            "|.       .       .       .       [------->| [4:5] NNS -> NNS * CC NNS\n",
            "|.       .       .       .       [------->| [4:5] S  -> NP * VB IN NP\n",
            "|.       .       .       .       [------->| [4:5] NP -> NP * CC NP\n",
            "|[=======================================]| [0:5] S  -> NP VB IN NP *\n",
            "|.       [-------------------------------]| [1:5] S  -> NP VB IN NP *\n",
            "TD num edges =  28\n"
          ]
        }
      ]
    },
    {
      "cell_type": "code",
      "source": [
        "parse.edges()"
      ],
      "metadata": {
        "colab": {
          "base_uri": "https://localhost:8080/"
        },
        "id": "kHwDPE6_tA2z",
        "outputId": "b714957b-a57b-4445-a667-fd9ada028a14"
      },
      "execution_count": 43,
      "outputs": [
        {
          "output_type": "execute_result",
          "data": {
            "text/plain": [
              "[[Edge: [0:1] 'lazy'],\n",
              " [Edge: [1:2] 'cats'],\n",
              " [Edge: [2:3] 'play'],\n",
              " [Edge: [3:4] 'with'],\n",
              " [Edge: [4:5] 'mice'],\n",
              " [Edge: [0:1] JJ -> 'lazy' *],\n",
              " [Edge: [0:1] NP -> JJ * NNS],\n",
              " [Edge: [1:2] NNS -> 'cats' *],\n",
              " [Edge: [1:2] NP -> NNS *],\n",
              " [Edge: [1:2] NNS -> NNS * CC NNS],\n",
              " [Edge: [0:2] NP -> JJ NNS *],\n",
              " [Edge: [0:2] S  -> NP * VB IN NP],\n",
              " [Edge: [0:2] NP -> NP * CC NP],\n",
              " [Edge: [1:2] S  -> NP * VB IN NP],\n",
              " [Edge: [1:2] NP -> NP * CC NP],\n",
              " [Edge: [2:3] VB -> 'play' *],\n",
              " [Edge: [0:3] S  -> NP VB * IN NP],\n",
              " [Edge: [1:3] S  -> NP VB * IN NP],\n",
              " [Edge: [3:4] IN -> 'with' *],\n",
              " [Edge: [0:4] S  -> NP VB IN * NP],\n",
              " [Edge: [1:4] S  -> NP VB IN * NP],\n",
              " [Edge: [4:5] NNS -> 'mice' *],\n",
              " [Edge: [4:5] NP -> NNS *],\n",
              " [Edge: [4:5] NNS -> NNS * CC NNS],\n",
              " [Edge: [4:5] S  -> NP * VB IN NP],\n",
              " [Edge: [4:5] NP -> NP * CC NP],\n",
              " [Edge: [0:5] S  -> NP VB IN NP *],\n",
              " [Edge: [1:5] S  -> NP VB IN NP *]]"
            ]
          },
          "metadata": {},
          "execution_count": 43
        }
      ]
    },
    {
      "cell_type": "markdown",
      "source": [
        "## Conclusions\n",
        "\n",
        "\n",
        "Which parser is the most efficient for parsing the sentence?\n",
        "\n",
        "Which edges are filtered out by each parser and why?\n"
      ],
      "metadata": {
        "id": "sin-gWpbtHAA"
      }
    },
    {
      "cell_type": "code",
      "source": [],
      "metadata": {
        "id": "uKEg1g57tEac"
      },
      "execution_count": null,
      "outputs": []
    }
  ]
}