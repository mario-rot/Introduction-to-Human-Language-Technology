{
  "nbformat": 4,
  "nbformat_minor": 0,
  "metadata": {
    "colab": {
      "provenance": [],
      "authorship_tag": "ABX9TyOy52qKRVEj2r+NLkTuaQoD",
      "include_colab_link": true
    },
    "kernelspec": {
      "name": "python3",
      "display_name": "Python 3"
    },
    "language_info": {
      "name": "python"
    }
  },
  "cells": [
    {
      "cell_type": "markdown",
      "metadata": {
        "id": "view-in-github",
        "colab_type": "text"
      },
      "source": [
        "<a href=\"https://colab.research.google.com/github/mario-rot/Introduction-to-Human-Language-Technology/blob/main/Session8_MarioRosas_LaurenTucker.ipynb\" target=\"_parent\"><img src=\"https://colab.research.google.com/assets/colab-badge.svg\" alt=\"Open In Colab\"/></a>"
      ]
    },
    {
      "cell_type": "markdown",
      "source": [
        "\n",
        "# Lab session 8 (Parsing) - IHLT\n",
        "\n",
        "Students: Lauren Tucker & Mario Rosas\n"
      ],
      "metadata": {
        "id": "lqYSkCYHiDJ5"
      }
    },
    {
      "cell_type": "code",
      "source": [
        "import nltk\n",
        "from nltk import CFG, ChartParser\n",
        "\n",
        "grammar = CFG.fromstring('''\n",
        "  S   -> NP VB IN NP\n",
        "  NP  -> NNS | JJ NNS | NP CC NP\n",
        "  NNS -> \"cats\" | \"dogs\" | \"mice\" | NNS CC NNS \n",
        "  JJ  -> \"big\" | \"small\" | \"lazy\"\n",
        "  CC  -> \"and\" | \"or\"\n",
        "  IN  -> \"with\"\n",
        "  VB  -> \"play\"\n",
        "  ''')\n",
        "\n",
        "sent = ['lazy', 'cats', 'play', 'with', 'mice']\n"
      ],
      "metadata": {
        "id": "ZO0d9xehiCda"
      },
      "execution_count": 32,
      "outputs": []
    },
    {
      "cell_type": "markdown",
      "source": [
        "## Bottom Up Chart Parser"
      ],
      "metadata": {
        "id": "nXAKlDUnlbhM"
      }
    },
    {
      "cell_type": "code",
      "source": [
        "from nltk import BottomUpChartParser\n",
        "\n",
        "bu_parser = nltk.BottomUpChartParser(grammar,trace=1)\n",
        "bu_parse = bu_parser.parse(sent)\n",
        "bu_ts = []\n",
        "for t in bu_parse:\n",
        "    bu_ts.append(t)"
      ],
      "metadata": {
        "colab": {
          "base_uri": "https://localhost:8080/"
        },
        "id": "S6u182U0Ylcx",
        "outputId": "210ed020-ea98-48fb-85a0-45a58b8f23a6"
      },
      "execution_count": 8,
      "outputs": [
        {
          "output_type": "stream",
          "name": "stdout",
          "text": [
            "|.  lazy .  cats .  play .  with .  mice .|\n",
            "|[-------]       .       .       .       .| [0:1] 'lazy'\n",
            "|.       [-------]       .       .       .| [1:2] 'cats'\n",
            "|.       .       [-------]       .       .| [2:3] 'play'\n",
            "|.       .       .       [-------]       .| [3:4] 'with'\n",
            "|.       .       .       .       [-------]| [4:5] 'mice'\n",
            "|>       .       .       .       .       .| [0:0] JJ -> * 'lazy'\n",
            "|[-------]       .       .       .       .| [0:1] JJ -> 'lazy' *\n",
            "|>       .       .       .       .       .| [0:0] NP -> * JJ NNS\n",
            "|[------->       .       .       .       .| [0:1] NP -> JJ * NNS\n",
            "|.       >       .       .       .       .| [1:1] NNS -> * 'cats'\n",
            "|.       [-------]       .       .       .| [1:2] NNS -> 'cats' *\n",
            "|.       >       .       .       .       .| [1:1] NP -> * NNS\n",
            "|.       >       .       .       .       .| [1:1] NNS -> * NNS CC NNS\n",
            "|[---------------]       .       .       .| [0:2] NP -> JJ NNS *\n",
            "|.       [-------]       .       .       .| [1:2] NP -> NNS *\n",
            "|.       [------->       .       .       .| [1:2] NNS -> NNS * CC NNS\n",
            "|.       >       .       .       .       .| [1:1] S  -> * NP VB IN NP\n",
            "|.       >       .       .       .       .| [1:1] NP -> * NP CC NP\n",
            "|.       [------->       .       .       .| [1:2] S  -> NP * VB IN NP\n",
            "|.       [------->       .       .       .| [1:2] NP -> NP * CC NP\n",
            "|>       .       .       .       .       .| [0:0] S  -> * NP VB IN NP\n",
            "|>       .       .       .       .       .| [0:0] NP -> * NP CC NP\n",
            "|[--------------->       .       .       .| [0:2] S  -> NP * VB IN NP\n",
            "|[--------------->       .       .       .| [0:2] NP -> NP * CC NP\n",
            "|.       .       >       .       .       .| [2:2] VB -> * 'play'\n",
            "|.       .       [-------]       .       .| [2:3] VB -> 'play' *\n",
            "|.       [--------------->       .       .| [1:3] S  -> NP VB * IN NP\n",
            "|[----------------------->       .       .| [0:3] S  -> NP VB * IN NP\n",
            "|.       .       .       >       .       .| [3:3] IN -> * 'with'\n",
            "|.       .       .       [-------]       .| [3:4] IN -> 'with' *\n",
            "|.       [----------------------->       .| [1:4] S  -> NP VB IN * NP\n",
            "|[------------------------------->       .| [0:4] S  -> NP VB IN * NP\n",
            "|.       .       .       .       >       .| [4:4] NNS -> * 'mice'\n",
            "|.       .       .       .       [-------]| [4:5] NNS -> 'mice' *\n",
            "|.       .       .       .       >       .| [4:4] NP -> * NNS\n",
            "|.       .       .       .       >       .| [4:4] NNS -> * NNS CC NNS\n",
            "|.       .       .       .       [-------]| [4:5] NP -> NNS *\n",
            "|.       .       .       .       [------->| [4:5] NNS -> NNS * CC NNS\n",
            "|.       .       .       .       >       .| [4:4] S  -> * NP VB IN NP\n",
            "|.       .       .       .       >       .| [4:4] NP -> * NP CC NP\n",
            "|.       [-------------------------------]| [1:5] S  -> NP VB IN NP *\n",
            "|[=======================================]| [0:5] S  -> NP VB IN NP *\n",
            "|.       .       .       .       [------->| [4:5] S  -> NP * VB IN NP\n",
            "|.       .       .       .       [------->| [4:5] NP -> NP * CC NP\n"
          ]
        }
      ]
    },
    {
      "cell_type": "code",
      "source": [
        "print(\"num edges = \",bu_parse.num_edges())"
      ],
      "metadata": {
        "id": "-UzXg64PNJVW",
        "outputId": "c845c39b-a1da-4a9d-a66a-4b1929cb9575",
        "colab": {
          "base_uri": "https://localhost:8080/"
        }
      },
      "execution_count": 25,
      "outputs": [
        {
          "output_type": "stream",
          "name": "stdout",
          "text": [
            "num edges =  44\n"
          ]
        }
      ]
    },
    {
      "cell_type": "code",
      "source": [
        "print('number of trees:', len(bu_ts))"
      ],
      "metadata": {
        "colab": {
          "base_uri": "https://localhost:8080/"
        },
        "id": "4_3gJOfxliLd",
        "outputId": "f5b8c3ed-ed4d-4a9a-a163-a0ec33cc82de"
      },
      "execution_count": 9,
      "outputs": [
        {
          "output_type": "stream",
          "name": "stdout",
          "text": [
            "number of trees: 1\n"
          ]
        }
      ]
    },
    {
      "cell_type": "code",
      "source": [
        "print(bu_ts[0])"
      ],
      "metadata": {
        "colab": {
          "base_uri": "https://localhost:8080/"
        },
        "id": "Hc4q-tBnnGgS",
        "outputId": "7901c1c1-0a6e-4c68-8697-6f856c8c2d2c"
      },
      "execution_count": 10,
      "outputs": [
        {
          "output_type": "stream",
          "name": "stdout",
          "text": [
            "(S (NP (JJ lazy) (NNS cats)) (VB play) (IN with) (NP (NNS mice)))\n"
          ]
        }
      ]
    },
    {
      "cell_type": "code",
      "source": [
        "bu_parse.edges()"
      ],
      "metadata": {
        "colab": {
          "base_uri": "https://localhost:8080/"
        },
        "id": "QEwolhEgnP0x",
        "outputId": "90a00627-7932-42f6-cae9-ccfcbab37cf6"
      },
      "execution_count": 26,
      "outputs": [
        {
          "output_type": "execute_result",
          "data": {
            "text/plain": [
              "[[Edge: [0:1] 'lazy'],\n",
              " [Edge: [1:2] 'cats'],\n",
              " [Edge: [2:3] 'play'],\n",
              " [Edge: [3:4] 'with'],\n",
              " [Edge: [4:5] 'mice'],\n",
              " [Edge: [0:0] JJ -> * 'lazy'],\n",
              " [Edge: [0:1] JJ -> 'lazy' *],\n",
              " [Edge: [0:0] NP -> * JJ NNS],\n",
              " [Edge: [0:1] NP -> JJ * NNS],\n",
              " [Edge: [1:1] NNS -> * 'cats'],\n",
              " [Edge: [1:2] NNS -> 'cats' *],\n",
              " [Edge: [1:1] NP -> * NNS],\n",
              " [Edge: [1:1] NNS -> * NNS CC NNS],\n",
              " [Edge: [0:2] NP -> JJ NNS *],\n",
              " [Edge: [1:2] NP -> NNS *],\n",
              " [Edge: [1:2] NNS -> NNS * CC NNS],\n",
              " [Edge: [1:1] S  -> * NP VB IN NP],\n",
              " [Edge: [1:1] NP -> * NP CC NP],\n",
              " [Edge: [1:2] S  -> NP * VB IN NP],\n",
              " [Edge: [1:2] NP -> NP * CC NP],\n",
              " [Edge: [0:0] S  -> * NP VB IN NP],\n",
              " [Edge: [0:0] NP -> * NP CC NP],\n",
              " [Edge: [0:2] S  -> NP * VB IN NP],\n",
              " [Edge: [0:2] NP -> NP * CC NP],\n",
              " [Edge: [2:2] VB -> * 'play'],\n",
              " [Edge: [2:3] VB -> 'play' *],\n",
              " [Edge: [1:3] S  -> NP VB * IN NP],\n",
              " [Edge: [0:3] S  -> NP VB * IN NP],\n",
              " [Edge: [3:3] IN -> * 'with'],\n",
              " [Edge: [3:4] IN -> 'with' *],\n",
              " [Edge: [1:4] S  -> NP VB IN * NP],\n",
              " [Edge: [0:4] S  -> NP VB IN * NP],\n",
              " [Edge: [4:4] NNS -> * 'mice'],\n",
              " [Edge: [4:5] NNS -> 'mice' *],\n",
              " [Edge: [4:4] NP -> * NNS],\n",
              " [Edge: [4:4] NNS -> * NNS CC NNS],\n",
              " [Edge: [4:5] NP -> NNS *],\n",
              " [Edge: [4:5] NNS -> NNS * CC NNS],\n",
              " [Edge: [4:4] S  -> * NP VB IN NP],\n",
              " [Edge: [4:4] NP -> * NP CC NP],\n",
              " [Edge: [1:5] S  -> NP VB IN NP *],\n",
              " [Edge: [0:5] S  -> NP VB IN NP *],\n",
              " [Edge: [4:5] S  -> NP * VB IN NP],\n",
              " [Edge: [4:5] NP -> NP * CC NP]]"
            ]
          },
          "metadata": {},
          "execution_count": 26
        }
      ]
    },
    {
      "cell_type": "markdown",
      "source": [
        "## Bottom Up Left Corner Chart Parser "
      ],
      "metadata": {
        "id": "2ubT8TFMnkaF"
      }
    },
    {
      "cell_type": "code",
      "source": [
        "from nltk import BottomUpLeftCornerChartParser\n",
        "\n",
        "bulc_parser = nltk.BottomUpLeftCornerChartParser(grammar,trace=1)\n",
        "bulc_parse = bulc_parser.chart_parse(sent)\n",
        "bulc_ts = []\n",
        "for t in bulc_parse:\n",
        "    bulc_ts.append(t)"
      ],
      "metadata": {
        "colab": {
          "base_uri": "https://localhost:8080/"
        },
        "id": "K3depwfGnh_V",
        "outputId": "223b422f-955e-4b82-bda2-e119d260bf00"
      },
      "execution_count": 28,
      "outputs": [
        {
          "output_type": "stream",
          "name": "stdout",
          "text": [
            "|.  lazy .  cats .  play .  with .  mice .|\n",
            "|[-------]       .       .       .       .| [0:1] 'lazy'\n",
            "|.       [-------]       .       .       .| [1:2] 'cats'\n",
            "|.       .       [-------]       .       .| [2:3] 'play'\n",
            "|.       .       .       [-------]       .| [3:4] 'with'\n",
            "|.       .       .       .       [-------]| [4:5] 'mice'\n",
            "|[-------]       .       .       .       .| [0:1] JJ -> 'lazy' *\n",
            "|[------->       .       .       .       .| [0:1] NP -> JJ * NNS\n",
            "|.       [-------]       .       .       .| [1:2] NNS -> 'cats' *\n",
            "|.       [-------]       .       .       .| [1:2] NP -> NNS *\n",
            "|.       [------->       .       .       .| [1:2] NNS -> NNS * CC NNS\n",
            "|[---------------]       .       .       .| [0:2] NP -> JJ NNS *\n",
            "|[--------------->       .       .       .| [0:2] S  -> NP * VB IN NP\n",
            "|[--------------->       .       .       .| [0:2] NP -> NP * CC NP\n",
            "|.       [------->       .       .       .| [1:2] S  -> NP * VB IN NP\n",
            "|.       [------->       .       .       .| [1:2] NP -> NP * CC NP\n",
            "|.       .       [-------]       .       .| [2:3] VB -> 'play' *\n",
            "|[----------------------->       .       .| [0:3] S  -> NP VB * IN NP\n",
            "|.       [--------------->       .       .| [1:3] S  -> NP VB * IN NP\n",
            "|.       .       .       [-------]       .| [3:4] IN -> 'with' *\n",
            "|[------------------------------->       .| [0:4] S  -> NP VB IN * NP\n",
            "|.       [----------------------->       .| [1:4] S  -> NP VB IN * NP\n",
            "|.       .       .       .       [-------]| [4:5] NNS -> 'mice' *\n",
            "|.       .       .       .       [-------]| [4:5] NP -> NNS *\n",
            "|.       .       .       .       [------->| [4:5] NNS -> NNS * CC NNS\n",
            "|.       .       .       .       [------->| [4:5] S  -> NP * VB IN NP\n",
            "|.       .       .       .       [------->| [4:5] NP -> NP * CC NP\n",
            "|[=======================================]| [0:5] S  -> NP VB IN NP *\n",
            "|.       [-------------------------------]| [1:5] S  -> NP VB IN NP *\n"
          ]
        }
      ]
    },
    {
      "cell_type": "code",
      "source": [
        "print(\"num edges = \",bulc_parse.num_edges())"
      ],
      "metadata": {
        "id": "eggWJVxlNubQ",
        "outputId": "580d12c3-3116-4872-97fe-208760e0ab06",
        "colab": {
          "base_uri": "https://localhost:8080/"
        }
      },
      "execution_count": 29,
      "outputs": [
        {
          "output_type": "stream",
          "name": "stdout",
          "text": [
            "num edges =  28\n"
          ]
        }
      ]
    },
    {
      "cell_type": "code",
      "source": [
        "print('number of trees:', len(bulc_ts))"
      ],
      "metadata": {
        "colab": {
          "base_uri": "https://localhost:8080/"
        },
        "id": "6q1XHfU9nvzU",
        "outputId": "4c7aa75a-be3c-45e7-ab50-aceda05ffa02"
      },
      "execution_count": 14,
      "outputs": [
        {
          "output_type": "stream",
          "name": "stdout",
          "text": [
            "number of trees: 1\n"
          ]
        }
      ]
    },
    {
      "cell_type": "code",
      "source": [
        "print(bulc_ts[0])"
      ],
      "metadata": {
        "colab": {
          "base_uri": "https://localhost:8080/"
        },
        "id": "JHI8QMh-n0Ex",
        "outputId": "c693c8f3-20d0-4013-8130-148b6f4b7aea"
      },
      "execution_count": 15,
      "outputs": [
        {
          "output_type": "stream",
          "name": "stdout",
          "text": [
            "(S (NP (JJ lazy) (NNS cats)) (VB play) (IN with) (NP (NNS mice)))\n"
          ]
        }
      ]
    },
    {
      "cell_type": "code",
      "source": [
        "bulc_parse.edges()"
      ],
      "metadata": {
        "colab": {
          "base_uri": "https://localhost:8080/"
        },
        "id": "UmiHfKvLs3bY",
        "outputId": "538d4529-88dc-4e71-cc44-fd285868149a"
      },
      "execution_count": 17,
      "outputs": [
        {
          "output_type": "execute_result",
          "data": {
            "text/plain": [
              "[[Edge: [0:1] 'lazy'],\n",
              " [Edge: [1:2] 'cats'],\n",
              " [Edge: [2:3] 'play'],\n",
              " [Edge: [3:4] 'with'],\n",
              " [Edge: [4:5] 'mice'],\n",
              " [Edge: [0:1] JJ -> 'lazy' *],\n",
              " [Edge: [0:1] NP -> JJ * NNS],\n",
              " [Edge: [1:2] NNS -> 'cats' *],\n",
              " [Edge: [1:2] NP -> NNS *],\n",
              " [Edge: [1:2] NNS -> NNS * CC NNS],\n",
              " [Edge: [0:2] NP -> JJ NNS *],\n",
              " [Edge: [0:2] S  -> NP * VB IN NP],\n",
              " [Edge: [0:2] NP -> NP * CC NP],\n",
              " [Edge: [1:2] S  -> NP * VB IN NP],\n",
              " [Edge: [1:2] NP -> NP * CC NP],\n",
              " [Edge: [2:3] VB -> 'play' *],\n",
              " [Edge: [0:3] S  -> NP VB * IN NP],\n",
              " [Edge: [1:3] S  -> NP VB * IN NP],\n",
              " [Edge: [3:4] IN -> 'with' *],\n",
              " [Edge: [0:4] S  -> NP VB IN * NP],\n",
              " [Edge: [1:4] S  -> NP VB IN * NP],\n",
              " [Edge: [4:5] NNS -> 'mice' *],\n",
              " [Edge: [4:5] NP -> NNS *],\n",
              " [Edge: [4:5] NNS -> NNS * CC NNS],\n",
              " [Edge: [4:5] S  -> NP * VB IN NP],\n",
              " [Edge: [4:5] NP -> NP * CC NP],\n",
              " [Edge: [0:5] S  -> NP VB IN NP *],\n",
              " [Edge: [1:5] S  -> NP VB IN NP *]]"
            ]
          },
          "metadata": {},
          "execution_count": 17
        }
      ]
    },
    {
      "cell_type": "markdown",
      "source": [
        "## Left Corner Chart Parser"
      ],
      "metadata": {
        "id": "M9WbLky8sVJO"
      }
    },
    {
      "cell_type": "code",
      "source": [
        "from nltk import LeftCornerChartParser\n",
        "\n",
        "lc_parser = nltk.LeftCornerChartParser(grammar,trace=1)\n",
        "lc_parse = lc_parser.chart_parse(sent)\n",
        "lc_ts = []\n",
        "for t in lc_parse:\n",
        "    lc_ts.append(t)"
      ],
      "metadata": {
        "colab": {
          "base_uri": "https://localhost:8080/"
        },
        "id": "gaNB7265oEhX",
        "outputId": "05e9ebd5-9b58-406d-9f82-fdef872fd0dc"
      },
      "execution_count": 30,
      "outputs": [
        {
          "output_type": "stream",
          "name": "stdout",
          "text": [
            "|.  lazy .  cats .  play .  with .  mice .|\n",
            "|[-------]       .       .       .       .| [0:1] 'lazy'\n",
            "|.       [-------]       .       .       .| [1:2] 'cats'\n",
            "|.       .       [-------]       .       .| [2:3] 'play'\n",
            "|.       .       .       [-------]       .| [3:4] 'with'\n",
            "|.       .       .       .       [-------]| [4:5] 'mice'\n",
            "|[-------]       .       .       .       .| [0:1] JJ -> 'lazy' *\n",
            "|[------->       .       .       .       .| [0:1] NP -> JJ * NNS\n",
            "|.       [-------]       .       .       .| [1:2] NNS -> 'cats' *\n",
            "|.       [-------]       .       .       .| [1:2] NP -> NNS *\n",
            "|[---------------]       .       .       .| [0:2] NP -> JJ NNS *\n",
            "|[--------------->       .       .       .| [0:2] S  -> NP * VB IN NP\n",
            "|.       [------->       .       .       .| [1:2] S  -> NP * VB IN NP\n",
            "|.       .       [-------]       .       .| [2:3] VB -> 'play' *\n",
            "|[----------------------->       .       .| [0:3] S  -> NP VB * IN NP\n",
            "|.       [--------------->       .       .| [1:3] S  -> NP VB * IN NP\n",
            "|.       .       .       [-------]       .| [3:4] IN -> 'with' *\n",
            "|[------------------------------->       .| [0:4] S  -> NP VB IN * NP\n",
            "|.       [----------------------->       .| [1:4] S  -> NP VB IN * NP\n",
            "|.       .       .       .       [-------]| [4:5] NNS -> 'mice' *\n",
            "|.       .       .       .       [-------]| [4:5] NP -> NNS *\n",
            "|[=======================================]| [0:5] S  -> NP VB IN NP *\n",
            "|.       [-------------------------------]| [1:5] S  -> NP VB IN NP *\n"
          ]
        }
      ]
    },
    {
      "cell_type": "code",
      "source": [
        "print(\"num edges = \",lc_parse.num_edges())"
      ],
      "metadata": {
        "id": "92VC7pnsN2gP",
        "outputId": "220f9a72-04c8-41bb-c7fd-eda6f6cff0b8",
        "colab": {
          "base_uri": "https://localhost:8080/"
        }
      },
      "execution_count": 31,
      "outputs": [
        {
          "output_type": "stream",
          "name": "stdout",
          "text": [
            "num edges =  22\n"
          ]
        }
      ]
    },
    {
      "cell_type": "code",
      "source": [
        "print('number of trees:', len(lc_ts))"
      ],
      "metadata": {
        "colab": {
          "base_uri": "https://localhost:8080/"
        },
        "id": "op3RBRsvsS2D",
        "outputId": "d6fa8d19-9d7d-49c9-d30e-f3c45c4411ab"
      },
      "execution_count": 20,
      "outputs": [
        {
          "output_type": "stream",
          "name": "stdout",
          "text": [
            "number of trees: 1\n"
          ]
        }
      ]
    },
    {
      "cell_type": "code",
      "source": [
        "print(lc_ts[0])"
      ],
      "metadata": {
        "colab": {
          "base_uri": "https://localhost:8080/"
        },
        "id": "wBYSpxdVsozv",
        "outputId": "0f1d1bbb-2006-4277-e776-649f3e047602"
      },
      "execution_count": 21,
      "outputs": [
        {
          "output_type": "stream",
          "name": "stdout",
          "text": [
            "(S (NP (JJ lazy) (NNS cats)) (VB play) (IN with) (NP (NNS mice)))\n"
          ]
        }
      ]
    },
    {
      "cell_type": "code",
      "source": [
        "lc_parse.edges()"
      ],
      "metadata": {
        "colab": {
          "base_uri": "https://localhost:8080/"
        },
        "id": "kHwDPE6_tA2z",
        "outputId": "28522faa-6a9d-4897-df4d-07e81c7007cd"
      },
      "execution_count": 23,
      "outputs": [
        {
          "output_type": "execute_result",
          "data": {
            "text/plain": [
              "[[Edge: [0:1] 'lazy'],\n",
              " [Edge: [1:2] 'cats'],\n",
              " [Edge: [2:3] 'play'],\n",
              " [Edge: [3:4] 'with'],\n",
              " [Edge: [4:5] 'mice'],\n",
              " [Edge: [0:1] JJ -> 'lazy' *],\n",
              " [Edge: [0:1] NP -> JJ * NNS],\n",
              " [Edge: [1:2] NNS -> 'cats' *],\n",
              " [Edge: [1:2] NP -> NNS *],\n",
              " [Edge: [0:2] NP -> JJ NNS *],\n",
              " [Edge: [0:2] S  -> NP * VB IN NP],\n",
              " [Edge: [1:2] S  -> NP * VB IN NP],\n",
              " [Edge: [2:3] VB -> 'play' *],\n",
              " [Edge: [0:3] S  -> NP VB * IN NP],\n",
              " [Edge: [1:3] S  -> NP VB * IN NP],\n",
              " [Edge: [3:4] IN -> 'with' *],\n",
              " [Edge: [0:4] S  -> NP VB IN * NP],\n",
              " [Edge: [1:4] S  -> NP VB IN * NP],\n",
              " [Edge: [4:5] NNS -> 'mice' *],\n",
              " [Edge: [4:5] NP -> NNS *],\n",
              " [Edge: [0:5] S  -> NP VB IN NP *],\n",
              " [Edge: [1:5] S  -> NP VB IN NP *]]"
            ]
          },
          "metadata": {},
          "execution_count": 23
        }
      ]
    },
    {
      "cell_type": "markdown",
      "source": [
        "## Conclusions\n",
        "\n",
        "The most efficient parser is the Left Corner Chart Parser, since it only explores 22 edges, compared to the Bottom Up Chart Parser and Bottom Up Left Corner Chart Parsers, which explore 44 and 28 edges, respectively. \n",
        "\n",
        "**Which edges are filtered out by each parser and why?**\n",
        "\n",
        "When compared to the Bottom Up Chart Parser, the Bottom Up Left Corner Chart Parser filters out all self-referential edges (i.e. [0:0], [1:1], etc.). This is because ........... The Left Corner Chart Parser also filters these edges out, in addition to the following list of edges:\n",
        "\n",
        "[0:2] NP -> NP * CC NP\n",
        "\n",
        "[1:2] NNS -> NNS * CC NNS\n",
        "\n",
        "[1:2] NP -> NP * CC NP\n",
        "\n",
        "[4:5] NNS -> NNS * CC NNS\n",
        "\n",
        "[4:5] S  -> NP * VB IN NP\n",
        "\n",
        "[4:5] NP -> NP * CC NP\n",
        "\n",
        "For the [1:2] rules, these omissions occur because there are already passive rules that subsume the parts of the sentence required for this edge. That is, the following rules exist:\n",
        "\n",
        "[1:2] NNS -> 'cats' *\n",
        "\n",
        "[1:2] NP -> NNS *\n",
        "\n",
        "[1:2] S  -> NP * VB IN NP\n",
        "\n",
        "Therefore, the ([1:2] NNS -> NNS * CC NNS) rule does not need to be explored because there already exists a rule that subsumes NNS for this edge, and the ([1:2] NP -> NP \\* CC NP) rule does not need to be explored because there already exists a rule subsuming NP for this edge.\n",
        "\n",
        "Similarly, the [0:2] rule in the list above does not need to be explored, since a rule subsuming NP has already been found.\n",
        "\n",
        "In addition, none of the [4:5] rules in the list above need to be explored, since rules subsuming NNS and NP already exist for this edge.\n",
        "\n",
        "^^^ THIS LAST ONE IS FALSE ... There is no rule subsuming NP for [4:5], so I'm now actually not sure of the pattern"
      ],
      "metadata": {
        "id": "sin-gWpbtHAA"
      }
    }
  ]
}